{
 "cells": [
  {
   "cell_type": "code",
   "execution_count": null,
   "metadata": {},
   "outputs": [],
   "source": [
    "from streamsight import PipelineBuilder\n",
    "from streamsight import Loader\n",
    "from streamsight import Splitter"
   ]
  },
  {
   "cell_type": "code",
   "execution_count": null,
   "metadata": {},
   "outputs": [],
   "source": [
    "loader = Loader(url=\"some link\")\n",
    "splitter = Splitter(\n",
    "    split_type=\"global_timeline\",\n",
    "    window_size=1,\n",
    "    num_winder_per_set=5\n",
    "    )\n",
    "\n",
    "pipeline_builder = PipelineBuilder()\n",
    "pipeline_builder.set_loader(loader)\n",
    "pipeline_builder.set_splitter(splitter)\n",
    "pipeline_builder.add_alogorithm([\"KNN\",\"UserKNN\"])\n",
    "\n",
    "pipeline_builder.add_metric(\"Recall\")\n",
    "pipeline_builder.add_metric(\"Precision\")\n",
    "\n",
    "pipeline = pipeline_builder.build()\n",
    "pipeline.run()"
   ]
  }
 ],
 "metadata": {
  "kernelspec": {
   "display_name": ".venv",
   "language": "python",
   "name": "python3"
  },
  "language_info": {
   "codemirror_mode": {
    "name": "ipython",
    "version": 3
   },
   "file_extension": ".py",
   "mimetype": "text/x-python",
   "name": "python",
   "nbconvert_exporter": "python",
   "pygments_lexer": "ipython3",
   "version": "3.11.8"
  }
 },
 "nbformat": 4,
 "nbformat_minor": 2
}

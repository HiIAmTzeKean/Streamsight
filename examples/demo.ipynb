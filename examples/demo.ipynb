{
 "cells": [
  {
   "cell_type": "markdown",
   "metadata": {},
   "source": [
    "# Loading and Splitting\n",
    "\n",
    "The loading mechanism gets the class of dataset that the user wants to use for\n",
    "evaluation on his algorithmn.\n",
    "\n",
    "The splitting will take in a split type and create the necessary split on the\n",
    "dataset."
   ]
  },
  {
   "cell_type": "code",
   "execution_count": 1,
   "metadata": {},
   "outputs": [
    {
     "name": "stdout",
     "output_type": "stream",
     "text": [
      "\u001b[37mDEBUG   \u001b[0m - streamsight - \u001b[34mLogging is configured.\u001b[0m\n",
      "\u001b[32mINFO    \u001b[0m - streamsight - \u001b[34mLogging started\u001b[0m\n",
      "\u001b[33mWARNING \u001b[0m - streamsight - \u001b[34mLogging warning works\u001b[0m\n",
      "\u001b[37mDEBUG   \u001b[0m - streamsight.datasets.base - \u001b[34mAmazonMusicDataset being initialized with 'data' as the base path.\u001b[0m\n",
      "\u001b[37mDEBUG   \u001b[0m - streamsight.datasets.base - \u001b[34mAmazonMusicDataset is initialized.\u001b[0m\n",
      "\u001b[32mINFO    \u001b[0m - streamsight.datasets.base - \u001b[34mAmazonMusicDataset is loading dataset...\u001b[0m\n",
      "\u001b[37mDEBUG   \u001b[0m - streamsight.datasets.base - \u001b[34mData file is in memory and in dir specified.\u001b[0m\n"
     ]
    },
    {
     "name": "stderr",
     "output_type": "stream",
     "text": [
      "/Users/ngtzekean/Github/RecSys-Evaluation/.venv/lib/python3.11/site-packages/tqdm/auto.py:21: TqdmWarning: IProgress not found. Please update jupyter and ipywidgets. See https://ipywidgets.readthedocs.io/en/stable/user_install.html\n",
      "  from .autonotebook import tqdm as notebook_tqdm\n"
     ]
    },
    {
     "name": "stdout",
     "output_type": "stream",
     "text": [
      "\u001b[37mDEBUG   \u001b[0m - streamsight.datasets.base - \u001b[34mAmazonMusicDataset applying filters set.\u001b[0m\n",
      "\u001b[37mDEBUG   \u001b[0m - streamsight.preprocessing.preprocessor - \u001b[34m\tinteractions before preprocess: 1584082\u001b[0m\n",
      "\u001b[37mDEBUG   \u001b[0m - streamsight.preprocessing.preprocessor - \u001b[34m\titems before preprocess: 456992\u001b[0m\n",
      "\u001b[37mDEBUG   \u001b[0m - streamsight.preprocessing.preprocessor - \u001b[34m\tusers before preprocess: 840372\u001b[0m\n",
      "\u001b[32mINFO    \u001b[0m - streamsight.datasets.base - \u001b[34mAmazonMusicDataset dataset loaded.\u001b[0m\n",
      "\u001b[32mINFO    \u001b[0m - streamsight.setting.single_time_point_setting - \u001b[34mSplitting data at time 1406851200 with delta_after_t interval 2147483647 and delta_before_t interval 1398556800\u001b[0m\n",
      "\u001b[37mDEBUG   \u001b[0m - streamsight.matrix.interation_matrix - \u001b[34mPerforming lt(t, 1406851200)\u001b[0m\n",
      "\u001b[37mDEBUG   \u001b[0m - streamsight.matrix.interation_matrix - \u001b[34mPerforming ge(t, 8294400)\u001b[0m\n",
      "\u001b[37mDEBUG   \u001b[0m - streamsight.matrix.interation_matrix - \u001b[34mPerforming ge(t, 1406851200)\u001b[0m\n",
      "\u001b[37mDEBUG   \u001b[0m - streamsight.matrix.interation_matrix - \u001b[34mPerforming lt(t, 3554334847)\u001b[0m\n",
      "\u001b[37mDEBUG   \u001b[0m - streamsight.setting.splitters - \u001b[34mTimestampSplitter(t=1406851200,t_lower=1398556800,t_upper=2147483647) - Split successful\u001b[0m\n",
      "\u001b[37mDEBUG   \u001b[0m - streamsight.setting.base_setting - \u001b[34mChecking split attribute and sizes.\u001b[0m\n",
      "\u001b[37mDEBUG   \u001b[0m - streamsight.setting.base_setting - \u001b[34mChecking split attributes.\u001b[0m\n",
      "\u001b[37mDEBUG   \u001b[0m - streamsight.setting.base_setting - \u001b[34mSplit attributes are set.\u001b[0m\n",
      "\u001b[37mDEBUG   \u001b[0m - streamsight.setting.base_setting - \u001b[34mChecking size of split sets.\u001b[0m\n",
      "\u001b[37mDEBUG   \u001b[0m - streamsight.setting.base_setting - \u001b[34mSize of split sets are checked.\u001b[0m\n"
     ]
    }
   ],
   "source": [
    "from streamsight.setting import SingleTimePointSetting\n",
    "from streamsight.datasets import AmazonMusicDataset\n",
    "\n",
    "dataset = AmazonMusicDataset()\n",
    "# yelp or amazon as a base instead\n",
    "# movielens timestamp curtting might be problematic\n",
    "data = dataset.load()\n",
    "\n",
    "# user creates his own custom dataset class if needed\n",
    "setting = SingleTimePointSetting(\n",
    "    1406851200,\n",
    "    1398556800\n",
    ")\n",
    "# once a setting is defined, it can be used to split data\n",
    "# the data will be stored in the attribute of the setting object\n",
    "setting.split(data)"
   ]
  },
  {
   "cell_type": "code",
   "execution_count": 4,
   "metadata": {},
   "outputs": [
    {
     "data": {
      "text/html": [
       "<div>\n",
       "<style scoped>\n",
       "    .dataframe tbody tr th:only-of-type {\n",
       "        vertical-align: middle;\n",
       "    }\n",
       "\n",
       "    .dataframe tbody tr th {\n",
       "        vertical-align: top;\n",
       "    }\n",
       "\n",
       "    .dataframe thead th {\n",
       "        text-align: right;\n",
       "    }\n",
       "</style>\n",
       "<table border=\"1\" class=\"dataframe\">\n",
       "  <thead>\n",
       "    <tr style=\"text-align: right;\">\n",
       "      <th></th>\n",
       "      <th>interactionid</th>\n",
       "      <th>uid</th>\n",
       "      <th>iid</th>\n",
       "      <th>ts</th>\n",
       "    </tr>\n",
       "  </thead>\n",
       "  <tbody>\n",
       "    <tr>\n",
       "      <th>0</th>\n",
       "      <td>0</td>\n",
       "      <td>0</td>\n",
       "      <td>9714721180</td>\n",
       "      <td>877305600</td>\n",
       "    </tr>\n",
       "    <tr>\n",
       "      <th>1</th>\n",
       "      <td>1</td>\n",
       "      <td>1</td>\n",
       "      <td>B0013D89TW</td>\n",
       "      <td>880675200</td>\n",
       "    </tr>\n",
       "    <tr>\n",
       "      <th>2</th>\n",
       "      <td>2</td>\n",
       "      <td>1</td>\n",
       "      <td>B0013D89TW</td>\n",
       "      <td>880675200</td>\n",
       "    </tr>\n",
       "    <tr>\n",
       "      <th>3</th>\n",
       "      <td>3</td>\n",
       "      <td>2</td>\n",
       "      <td>B00122Z4Y2</td>\n",
       "      <td>893203200</td>\n",
       "    </tr>\n",
       "    <tr>\n",
       "      <th>4</th>\n",
       "      <td>4</td>\n",
       "      <td>2</td>\n",
       "      <td>B00122Z4Y2</td>\n",
       "      <td>893203200</td>\n",
       "    </tr>\n",
       "    <tr>\n",
       "      <th>...</th>\n",
       "      <td>...</td>\n",
       "      <td>...</td>\n",
       "      <td>...</td>\n",
       "      <td>...</td>\n",
       "    </tr>\n",
       "    <tr>\n",
       "      <th>1584077</th>\n",
       "      <td>1584077</td>\n",
       "      <td>840368</td>\n",
       "      <td>B01GPDFR26</td>\n",
       "      <td>1538265600</td>\n",
       "    </tr>\n",
       "    <tr>\n",
       "      <th>1584078</th>\n",
       "      <td>1584078</td>\n",
       "      <td>840369</td>\n",
       "      <td>B01HFJ54YK</td>\n",
       "      <td>1538265600</td>\n",
       "    </tr>\n",
       "    <tr>\n",
       "      <th>1584079</th>\n",
       "      <td>1584079</td>\n",
       "      <td>840370</td>\n",
       "      <td>B01G4DH4AU</td>\n",
       "      <td>1538352000</td>\n",
       "    </tr>\n",
       "    <tr>\n",
       "      <th>1584080</th>\n",
       "      <td>1584080</td>\n",
       "      <td>840371</td>\n",
       "      <td>B01H7XADLS</td>\n",
       "      <td>1538438400</td>\n",
       "    </tr>\n",
       "    <tr>\n",
       "      <th>1584081</th>\n",
       "      <td>1584081</td>\n",
       "      <td>467412</td>\n",
       "      <td>B01HJ91MF6</td>\n",
       "      <td>1538438400</td>\n",
       "    </tr>\n",
       "  </tbody>\n",
       "</table>\n",
       "<p>1584082 rows × 4 columns</p>\n",
       "</div>"
      ],
      "text/plain": [
       "         interactionid     uid         iid          ts\n",
       "0                    0       0  9714721180   877305600\n",
       "1                    1       1  B0013D89TW   880675200\n",
       "2                    2       1  B0013D89TW   880675200\n",
       "3                    3       2  B00122Z4Y2   893203200\n",
       "4                    4       2  B00122Z4Y2   893203200\n",
       "...                ...     ...         ...         ...\n",
       "1584077        1584077  840368  B01GPDFR26  1538265600\n",
       "1584078        1584078  840369  B01HFJ54YK  1538265600\n",
       "1584079        1584079  840370  B01G4DH4AU  1538352000\n",
       "1584080        1584080  840371  B01H7XADLS  1538438400\n",
       "1584081        1584081  467412  B01HJ91MF6  1538438400\n",
       "\n",
       "[1584082 rows x 4 columns]"
      ]
     },
     "execution_count": 4,
     "metadata": {},
     "output_type": "execute_result"
    }
   ],
   "source": [
    "data._df"
   ]
  },
  {
   "cell_type": "markdown",
   "metadata": {},
   "source": [
    "# Training the Algorithm\n",
    "\n",
    "Training the RecSys algorithm is as straight forward. The choice of the algorithm\n",
    "is selected by instantiating the class of algorithm choice then training the\n",
    "model with the dataset from the setting. The setting class provides multiple\n",
    "public attribute calls that can be used by the programmer.\n",
    "\n",
    "We will demo a simple example below."
   ]
  },
  {
   "cell_type": "code",
   "execution_count": 2,
   "metadata": {},
   "outputs": [
    {
     "ename": "ValueError",
     "evalue": "invalid literal for int() with base 10: 'B0013D89TW'",
     "output_type": "error",
     "traceback": [
      "\u001b[0;31m---------------------------------------------------------------------------\u001b[0m",
      "\u001b[0;31mValueError\u001b[0m                                Traceback (most recent call last)",
      "Cell \u001b[0;32mIn[2], line 8\u001b[0m\n\u001b[1;32m      6\u001b[0m algo \u001b[38;5;241m=\u001b[39m ItemKNN()\n\u001b[1;32m      7\u001b[0m \u001b[38;5;66;03m# each algorithm has a fit method that takes the training data and fits the model\u001b[39;00m\n\u001b[0;32m----> 8\u001b[0m \u001b[43malgo\u001b[49m\u001b[38;5;241;43m.\u001b[39;49m\u001b[43mfit\u001b[49m\u001b[43m(\u001b[49m\u001b[43msetting\u001b[49m\u001b[38;5;241;43m.\u001b[39;49m\u001b[43mbackground_data\u001b[49m\u001b[43m)\u001b[49m\n",
      "File \u001b[0;32m~/Github/RecSys-Evaluation/streamsight/algorithms/base.py:166\u001b[0m, in \u001b[0;36mAlgorithm.fit\u001b[0;34m(self, X)\u001b[0m\n\u001b[1;32m    147\u001b[0m \u001b[38;5;250m\u001b[39m\u001b[38;5;124;03m\"\"\"Fit the model to the input interaction matrix.\u001b[39;00m\n\u001b[1;32m    148\u001b[0m \n\u001b[1;32m    149\u001b[0m \u001b[38;5;124;03mAfter fitting the model will be ready to use for prediction.\u001b[39;00m\n\u001b[0;32m   (...)\u001b[0m\n\u001b[1;32m    163\u001b[0m \u001b[38;5;124;03m:rtype: Algorithm\u001b[39;00m\n\u001b[1;32m    164\u001b[0m \u001b[38;5;124;03m\"\"\"\u001b[39;00m\n\u001b[1;32m    165\u001b[0m start \u001b[38;5;241m=\u001b[39m time\u001b[38;5;241m.\u001b[39mtime()\n\u001b[0;32m--> 166\u001b[0m X \u001b[38;5;241m=\u001b[39m \u001b[38;5;28;43mself\u001b[39;49m\u001b[38;5;241;43m.\u001b[39;49m\u001b[43m_transform_fit_input\u001b[49m\u001b[43m(\u001b[49m\u001b[43mX\u001b[49m\u001b[43m)\u001b[49m\n\u001b[1;32m    167\u001b[0m \u001b[38;5;28mself\u001b[39m\u001b[38;5;241m.\u001b[39m_fit(X)\n\u001b[1;32m    169\u001b[0m \u001b[38;5;28mself\u001b[39m\u001b[38;5;241m.\u001b[39m_check_fit_complete()\n",
      "File \u001b[0;32m~/Github/RecSys-Evaluation/streamsight/algorithms/base.py:120\u001b[0m, in \u001b[0;36mAlgorithm._transform_fit_input\u001b[0;34m(self, X)\u001b[0m\n\u001b[1;32m    110\u001b[0m \u001b[38;5;250m\u001b[39m\u001b[38;5;124;03m\"\"\"Transform the training data to expected type\u001b[39;00m\n\u001b[1;32m    111\u001b[0m \n\u001b[1;32m    112\u001b[0m \u001b[38;5;124;03mData will be turned into a binary csr matrix.\u001b[39;00m\n\u001b[0;32m   (...)\u001b[0m\n\u001b[1;32m    117\u001b[0m \u001b[38;5;124;03m:rtype: csr_matrix\u001b[39;00m\n\u001b[1;32m    118\u001b[0m \u001b[38;5;124;03m\"\"\"\u001b[39;00m\n\u001b[1;32m    119\u001b[0m \u001b[38;5;66;03m# assume that X is \u001b[39;00m\n\u001b[0;32m--> 120\u001b[0m \u001b[38;5;28;01mreturn\u001b[39;00m \u001b[43mto_csr_matrix\u001b[49m\u001b[43m(\u001b[49m\u001b[43mX\u001b[49m\u001b[43m,\u001b[49m\u001b[43m \u001b[49m\u001b[43mbinary\u001b[49m\u001b[38;5;241;43m=\u001b[39;49m\u001b[38;5;28;43;01mTrue\u001b[39;49;00m\u001b[43m)\u001b[49m\n",
      "File \u001b[0;32m~/Github/RecSys-Evaluation/streamsight/matrix/util.py:25\u001b[0m, in \u001b[0;36mto_csr_matrix\u001b[0;34m(X, binary)\u001b[0m\n\u001b[1;32m     23\u001b[0m     res \u001b[38;5;241m=\u001b[39m X\n\u001b[1;32m     24\u001b[0m \u001b[38;5;28;01melif\u001b[39;00m \u001b[38;5;28misinstance\u001b[39m(X, InteractionMatrix):\n\u001b[0;32m---> 25\u001b[0m     res \u001b[38;5;241m=\u001b[39m \u001b[43mX\u001b[49m\u001b[38;5;241;43m.\u001b[39;49m\u001b[43mvalues\u001b[49m\n\u001b[1;32m     26\u001b[0m \u001b[38;5;28;01melse\u001b[39;00m:\n\u001b[1;32m     27\u001b[0m     \u001b[38;5;28;01mraise\u001b[39;00m \u001b[38;5;167;01mAttributeError\u001b[39;00m(\u001b[38;5;124m\"\u001b[39m\u001b[38;5;124mNot supported Matrix conversion\u001b[39m\u001b[38;5;124m\"\u001b[39m)\n",
      "File \u001b[0;32m~/Github/RecSys-Evaluation/streamsight/matrix/interation_matrix.py:156\u001b[0m, in \u001b[0;36mInteractionMatrix.values\u001b[0;34m(self)\u001b[0m\n\u001b[1;32m    153\u001b[0m indices \u001b[38;5;241m=\u001b[39m \u001b[38;5;28mself\u001b[39m\u001b[38;5;241m.\u001b[39m_df[[InteractionMatrix\u001b[38;5;241m.\u001b[39mUSER_IX, InteractionMatrix\u001b[38;5;241m.\u001b[39mITEM_IX]]\u001b[38;5;241m.\u001b[39mvalues\n\u001b[1;32m    154\u001b[0m indices \u001b[38;5;241m=\u001b[39m (indices[:, \u001b[38;5;241m0\u001b[39m], indices[:, \u001b[38;5;241m1\u001b[39m])\n\u001b[0;32m--> 156\u001b[0m matrix \u001b[38;5;241m=\u001b[39m \u001b[43mcsr_matrix\u001b[49m\u001b[43m(\u001b[49m\u001b[43m(\u001b[49m\u001b[43mvalues\u001b[49m\u001b[43m,\u001b[49m\u001b[43m \u001b[49m\u001b[43mindices\u001b[49m\u001b[43m)\u001b[49m\u001b[43m,\u001b[49m\u001b[43m \u001b[49m\u001b[43mshape\u001b[49m\u001b[38;5;241;43m=\u001b[39;49m\u001b[38;5;28;43mself\u001b[39;49m\u001b[38;5;241;43m.\u001b[39;49m\u001b[43mshape\u001b[49m\u001b[43m,\u001b[49m\u001b[43m \u001b[49m\u001b[43mdtype\u001b[49m\u001b[38;5;241;43m=\u001b[39;49m\u001b[43mnp\u001b[49m\u001b[38;5;241;43m.\u001b[39;49m\u001b[43mint32\u001b[49m\u001b[43m)\u001b[49m\n\u001b[1;32m    157\u001b[0m \u001b[38;5;28;01mreturn\u001b[39;00m matrix\n",
      "File \u001b[0;32m~/Github/RecSys-Evaluation/.venv/lib/python3.11/site-packages/scipy/sparse/_compressed.py:54\u001b[0m, in \u001b[0;36m_cs_matrix.__init__\u001b[0;34m(self, arg1, shape, dtype, copy)\u001b[0m\n\u001b[1;32m     50\u001b[0m \u001b[38;5;28;01melse\u001b[39;00m:\n\u001b[1;32m     51\u001b[0m     \u001b[38;5;28;01mif\u001b[39;00m \u001b[38;5;28mlen\u001b[39m(arg1) \u001b[38;5;241m==\u001b[39m \u001b[38;5;241m2\u001b[39m:\n\u001b[1;32m     52\u001b[0m         \u001b[38;5;66;03m# (data, ij) format\u001b[39;00m\n\u001b[1;32m     53\u001b[0m         other \u001b[38;5;241m=\u001b[39m \u001b[38;5;28mself\u001b[39m\u001b[38;5;241m.\u001b[39m\u001b[38;5;18m__class__\u001b[39m(\n\u001b[0;32m---> 54\u001b[0m             \u001b[38;5;28;43mself\u001b[39;49m\u001b[38;5;241;43m.\u001b[39;49m\u001b[43m_coo_container\u001b[49m\u001b[43m(\u001b[49m\u001b[43marg1\u001b[49m\u001b[43m,\u001b[49m\u001b[43m \u001b[49m\u001b[43mshape\u001b[49m\u001b[38;5;241;43m=\u001b[39;49m\u001b[43mshape\u001b[49m\u001b[43m,\u001b[49m\u001b[43m \u001b[49m\u001b[43mdtype\u001b[49m\u001b[38;5;241;43m=\u001b[39;49m\u001b[43mdtype\u001b[49m\u001b[43m)\u001b[49m\n\u001b[1;32m     55\u001b[0m         )\n\u001b[1;32m     56\u001b[0m         \u001b[38;5;28mself\u001b[39m\u001b[38;5;241m.\u001b[39m_set_self(other)\n\u001b[1;32m     57\u001b[0m     \u001b[38;5;28;01melif\u001b[39;00m \u001b[38;5;28mlen\u001b[39m(arg1) \u001b[38;5;241m==\u001b[39m \u001b[38;5;241m3\u001b[39m:\n\u001b[1;32m     58\u001b[0m         \u001b[38;5;66;03m# (data, indices, indptr) format\u001b[39;00m\n",
      "File \u001b[0;32m~/Github/RecSys-Evaluation/.venv/lib/python3.11/site-packages/scipy/sparse/_coo.py:60\u001b[0m, in \u001b[0;36m_coo_base.__init__\u001b[0;34m(self, arg1, shape, dtype, copy)\u001b[0m\n\u001b[1;32m     56\u001b[0m idx_dtype \u001b[38;5;241m=\u001b[39m \u001b[38;5;28mself\u001b[39m\u001b[38;5;241m.\u001b[39m_get_index_dtype((row, col),\n\u001b[1;32m     57\u001b[0m                                   maxval\u001b[38;5;241m=\u001b[39m\u001b[38;5;28mmax\u001b[39m(\u001b[38;5;28mself\u001b[39m\u001b[38;5;241m.\u001b[39mshape),\n\u001b[1;32m     58\u001b[0m                                   check_contents\u001b[38;5;241m=\u001b[39m\u001b[38;5;28;01mTrue\u001b[39;00m)\n\u001b[1;32m     59\u001b[0m \u001b[38;5;28mself\u001b[39m\u001b[38;5;241m.\u001b[39mrow \u001b[38;5;241m=\u001b[39m np\u001b[38;5;241m.\u001b[39marray(row, copy\u001b[38;5;241m=\u001b[39mcopy, dtype\u001b[38;5;241m=\u001b[39midx_dtype)\n\u001b[0;32m---> 60\u001b[0m \u001b[38;5;28mself\u001b[39m\u001b[38;5;241m.\u001b[39mcol \u001b[38;5;241m=\u001b[39m \u001b[43mnp\u001b[49m\u001b[38;5;241;43m.\u001b[39;49m\u001b[43marray\u001b[49m\u001b[43m(\u001b[49m\u001b[43mcol\u001b[49m\u001b[43m,\u001b[49m\u001b[43m \u001b[49m\u001b[43mcopy\u001b[49m\u001b[38;5;241;43m=\u001b[39;49m\u001b[43mcopy\u001b[49m\u001b[43m,\u001b[49m\u001b[43m \u001b[49m\u001b[43mdtype\u001b[49m\u001b[38;5;241;43m=\u001b[39;49m\u001b[43midx_dtype\u001b[49m\u001b[43m)\u001b[49m\n\u001b[1;32m     61\u001b[0m \u001b[38;5;28mself\u001b[39m\u001b[38;5;241m.\u001b[39mdata \u001b[38;5;241m=\u001b[39m getdata(obj, copy\u001b[38;5;241m=\u001b[39mcopy, dtype\u001b[38;5;241m=\u001b[39mdtype)\n\u001b[1;32m     62\u001b[0m \u001b[38;5;28mself\u001b[39m\u001b[38;5;241m.\u001b[39mhas_canonical_format \u001b[38;5;241m=\u001b[39m \u001b[38;5;28;01mFalse\u001b[39;00m\n",
      "\u001b[0;31mValueError\u001b[0m: invalid literal for int() with base 10: 'B0013D89TW'"
     ]
    }
   ],
   "source": [
    "############# Single global timeline split #############\n",
    "# The class of the algorithm tho be tested can be instantiated\n",
    "from streamsight.algorithms.itemknn import ItemKNN\n",
    "\n",
    "\n",
    "algo = ItemKNN()\n",
    "# each algorithm has a fit method that takes the training data and fits the model\n",
    "algo.fit(setting.background_data)"
   ]
  },
  {
   "cell_type": "markdown",
   "metadata": {},
   "source": [
    "# Evaluation"
   ]
  },
  {
   "cell_type": "code",
   "execution_count": 3,
   "metadata": {},
   "outputs": [
    {
     "ename": "NotFittedError",
     "evalue": "This ItemKNN instance is not fitted yet. Call 'fit' with appropriate arguments before using this estimator.",
     "output_type": "error",
     "traceback": [
      "\u001b[0;31m---------------------------------------------------------------------------\u001b[0m",
      "\u001b[0;31mNotFittedError\u001b[0m                            Traceback (most recent call last)",
      "Cell \u001b[0;32mIn[3], line 4\u001b[0m\n\u001b[1;32m      1\u001b[0m \u001b[38;5;28;01mfrom\u001b[39;00m \u001b[38;5;21;01mstreamsight\u001b[39;00m\u001b[38;5;21;01m.\u001b[39;00m\u001b[38;5;21;01mmetrics\u001b[39;00m\u001b[38;5;21;01m.\u001b[39;00m\u001b[38;5;21;01mprecision\u001b[39;00m \u001b[38;5;28;01mimport\u001b[39;00m PrecisionK\n\u001b[0;32m----> 4\u001b[0m X_pred \u001b[38;5;241m=\u001b[39m \u001b[43malgo\u001b[49m\u001b[38;5;241;43m.\u001b[39;49m\u001b[43mpredict\u001b[49m\u001b[43m(\u001b[49m\u001b[43msetting\u001b[49m\u001b[38;5;241;43m.\u001b[39;49m\u001b[43munlabeled_data\u001b[49m\u001b[43m)\u001b[49m\n\u001b[1;32m      5\u001b[0m metric \u001b[38;5;241m=\u001b[39m PrecisionK(\u001b[38;5;241m10\u001b[39m)\n\u001b[1;32m      6\u001b[0m metric\u001b[38;5;241m.\u001b[39mcalculate(setting\u001b[38;5;241m.\u001b[39mground_truth_data\u001b[38;5;241m.\u001b[39mbinary_values, X_pred)\n",
      "File \u001b[0;32m~/Github/RecSys-Evaluation/streamsight/algorithms/base.py:190\u001b[0m, in \u001b[0;36mAlgorithm.predict\u001b[0;34m(self, X)\u001b[0m\n\u001b[1;32m    174\u001b[0m \u001b[38;5;28;01mdef\u001b[39;00m \u001b[38;5;21mpredict\u001b[39m(\u001b[38;5;28mself\u001b[39m, X: Matrix) \u001b[38;5;241m-\u001b[39m\u001b[38;5;241m>\u001b[39m csr_matrix:\n\u001b[1;32m    175\u001b[0m \u001b[38;5;250m    \u001b[39m\u001b[38;5;124;03m\"\"\"Predicts scores, given the interactions in X\u001b[39;00m\n\u001b[1;32m    176\u001b[0m \n\u001b[1;32m    177\u001b[0m \u001b[38;5;124;03m    Recommends items for each nonzero user in the X matrix.\u001b[39;00m\n\u001b[0;32m   (...)\u001b[0m\n\u001b[1;32m    188\u001b[0m \u001b[38;5;124;03m    :rtype: csr_matrix\u001b[39;00m\n\u001b[1;32m    189\u001b[0m \u001b[38;5;124;03m    \"\"\"\u001b[39;00m\n\u001b[0;32m--> 190\u001b[0m     \u001b[38;5;28;43mself\u001b[39;49m\u001b[38;5;241;43m.\u001b[39;49m\u001b[43m_check_fit_complete\u001b[49m\u001b[43m(\u001b[49m\u001b[43m)\u001b[49m\n\u001b[1;32m    192\u001b[0m     X \u001b[38;5;241m=\u001b[39m \u001b[38;5;28mself\u001b[39m\u001b[38;5;241m.\u001b[39m_transform_predict_input(X)\n\u001b[1;32m    194\u001b[0m     X_pred \u001b[38;5;241m=\u001b[39m \u001b[38;5;28mself\u001b[39m\u001b[38;5;241m.\u001b[39m_predict(X)\n",
      "File \u001b[0;32m~/Github/RecSys-Evaluation/streamsight/algorithms/base.py:86\u001b[0m, in \u001b[0;36mAlgorithm._check_fit_complete\u001b[0;34m(self)\u001b[0m\n\u001b[1;32m     80\u001b[0m \u001b[38;5;28;01mdef\u001b[39;00m \u001b[38;5;21m_check_fit_complete\u001b[39m(\u001b[38;5;28mself\u001b[39m):\n\u001b[1;32m     81\u001b[0m \u001b[38;5;250m    \u001b[39m\u001b[38;5;124;03m\"\"\"Helper function to check if model was correctly fitted\u001b[39;00m\n\u001b[1;32m     82\u001b[0m \n\u001b[1;32m     83\u001b[0m \u001b[38;5;124;03m    Uses the sklear check_is_fitted function,\u001b[39;00m\n\u001b[1;32m     84\u001b[0m \u001b[38;5;124;03m    https://scikit-learn.org/stable/modules/generated/sklearn.utils.validation.check_is_fitted.html\u001b[39;00m\n\u001b[1;32m     85\u001b[0m \u001b[38;5;124;03m    \"\"\"\u001b[39;00m\n\u001b[0;32m---> 86\u001b[0m     \u001b[43mcheck_is_fitted\u001b[49m\u001b[43m(\u001b[49m\u001b[38;5;28;43mself\u001b[39;49m\u001b[43m)\u001b[49m\n",
      "File \u001b[0;32m~/Github/RecSys-Evaluation/.venv/lib/python3.11/site-packages/sklearn/utils/validation.py:1622\u001b[0m, in \u001b[0;36mcheck_is_fitted\u001b[0;34m(estimator, attributes, msg, all_or_any)\u001b[0m\n\u001b[1;32m   1619\u001b[0m     \u001b[38;5;28;01mraise\u001b[39;00m \u001b[38;5;167;01mTypeError\u001b[39;00m(\u001b[38;5;124m\"\u001b[39m\u001b[38;5;132;01m%s\u001b[39;00m\u001b[38;5;124m is not an estimator instance.\u001b[39m\u001b[38;5;124m\"\u001b[39m \u001b[38;5;241m%\u001b[39m (estimator))\n\u001b[1;32m   1621\u001b[0m \u001b[38;5;28;01mif\u001b[39;00m \u001b[38;5;129;01mnot\u001b[39;00m _is_fitted(estimator, attributes, all_or_any):\n\u001b[0;32m-> 1622\u001b[0m     \u001b[38;5;28;01mraise\u001b[39;00m NotFittedError(msg \u001b[38;5;241m%\u001b[39m {\u001b[38;5;124m\"\u001b[39m\u001b[38;5;124mname\u001b[39m\u001b[38;5;124m\"\u001b[39m: \u001b[38;5;28mtype\u001b[39m(estimator)\u001b[38;5;241m.\u001b[39m\u001b[38;5;18m__name__\u001b[39m})\n",
      "\u001b[0;31mNotFittedError\u001b[0m: This ItemKNN instance is not fitted yet. Call 'fit' with appropriate arguments before using this estimator."
     ]
    }
   ],
   "source": [
    "from streamsight.metrics.precision import PrecisionK\n",
    "\n",
    "\n",
    "X_pred = algo.predict(setting.unlabeled_data)\n",
    "metric = PrecisionK(10)\n",
    "metric.calculate(setting.ground_truth_data.binary_values, X_pred)\n",
    "metric.value"
   ]
  },
  {
   "cell_type": "markdown",
   "metadata": {},
   "source": [
    "# Evaluation for sliding window setting"
   ]
  },
  {
   "cell_type": "code",
   "execution_count": null,
   "metadata": {},
   "outputs": [],
   "source": [
    "############# Sliding window split #############\n",
    "from streamsight.algorithms import ItemKNNIncremental\n",
    "algo = ItemKNNIncremental()\n",
    "\n",
    "# itemknn\n",
    "# (1) use the inital batch of data and no change aka no new learning\n",
    "# (2) inital batch and update with new batch add more data essentially\n",
    "# (3) just use the new batch of data\n",
    "\n",
    "background_data = setting.background_data\n",
    "algo.fit(background_data)\n",
    "\n",
    "for _ in range(setting._num_split_set):\n",
    "    unlabeled_data = setting.next_unlabeled_data()\n",
    "    ground_truth_data = setting.next_ground_truth_data()\n",
    "\n",
    "    # Eval model\n",
    "    X_pred = algo.predict(unlabeled_data)\n",
    "    metric = PrecisionK(10)\n",
    "    metric.calculate(ground_truth_data.binary_values, X_pred)\n",
    "    print(metric.value)\n",
    "\n",
    "    # Release ground truth to model\n",
    "    current_training_set = ground_truth_data\n",
    "    algo.fit(current_training_set)\n"
   ]
  },
  {
   "cell_type": "markdown",
   "metadata": {},
   "source": [
    "# Pipeline to streamline API usage"
   ]
  },
  {
   "cell_type": "code",
   "execution_count": null,
   "metadata": {},
   "outputs": [],
   "source": [
    "pipeline_builder = PipelineBuilder()\n",
    "pipeline_builder.set_dataset(AmazonMusicDataset)\n",
    "pipeline_builder.set_splitter(SingleTimePointSetting)\n",
    "pipeline_builder.add_algorithm([\"KNN\",\"UserKNN\"])\n",
    "\n",
    "# incremental issue: on the algo \n",
    "algo.get_train_data()\n",
    "algo.get_test_data()\n",
    "\n",
    "\n",
    "pipeline_builder.add_metric(\"Recall\")\n",
    "pipeline_builder.add_metric(\"Precision\")\n",
    "\n",
    "############# Running pipeline as a whole #############\n",
    "# provide ability to step through each window \n",
    "pipeline = pipeline_builder.build()\n",
    "pipeline.run()\n",
    "\n",
    "############# Running pipeline by stepping #############\n",
    "# provide ability to step through each window \n",
    "pipeline = pipeline_builder.build()\n",
    "pipeline.step(n=1,verbose=True)\n",
    "pipeline.display_metrics() # show metrics for the current window\n"
   ]
  }
 ],
 "metadata": {
  "kernelspec": {
   "display_name": ".venv",
   "language": "python",
   "name": "python3"
  },
  "language_info": {
   "codemirror_mode": {
    "name": "ipython",
    "version": 3
   },
   "file_extension": ".py",
   "mimetype": "text/x-python",
   "name": "python",
   "nbconvert_exporter": "python",
   "pygments_lexer": "ipython3",
   "version": "3.11.9"
  }
 },
 "nbformat": 4,
 "nbformat_minor": 2
}

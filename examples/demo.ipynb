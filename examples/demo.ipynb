{
 "cells": [
  {
   "cell_type": "markdown",
   "metadata": {},
   "source": [
    "# Loading and Splitting\n",
    "\n",
    "The loading mechanism gets the class of dataset that the user wants to use for\n",
    "evaluation on his algorithmn.\n",
    "\n",
    "The splitting will take in a split type and create the necessary split on the\n",
    "dataset."
   ]
  },
  {
   "cell_type": "code",
   "execution_count": null,
   "metadata": {},
   "outputs": [],
   "source": [
    "from streamsight.setting import SingleTimePointSetting\n",
    "from streamsight.datasets import AmazonMusicDataset\n",
    "\n",
    "dataset = AmazonMusicDataset()\n",
    "# yelp or amazon as a base instead\n",
    "# movielens timestamp cutting might be problematic\n",
    "data = dataset.load()\n",
    "\n",
    "item_user_based = \"user\"\n",
    "\n",
    "# user creates his own custom dataset class if needed\n",
    "setting = SingleTimePointSetting(\n",
    "    background_t=1406851200,\n",
    "    delta_after_t=1398556800,\n",
    "    n_seq_data=1,\n",
    "    item_user_based=item_user_based\n",
    ")\n",
    "# once a setting is defined, it can be used to split data\n",
    "# the data will be stored in the attribute of the setting object\n",
    "setting.split(data)"
   ]
  },
  {
   "cell_type": "code",
   "execution_count": null,
   "metadata": {},
   "outputs": [],
   "source": [
    "from streamsight.setting import SlidingWindowSetting\n",
    "\n",
    "item_user_based = \"user\"\n",
    "\n",
    "setting_window = SlidingWindowSetting(\n",
    "    background_t=1406851200,\n",
    "    window_size=60 * 60 * 24 * 600, # 600 days\n",
    "    n_seq_data=1,\n",
    "    item_user_based=item_user_based\n",
    ")\n",
    "setting_window.split(data)"
   ]
  },
  {
   "cell_type": "markdown",
   "metadata": {},
   "source": [
    "# Training the Algorithm\n",
    "\n",
    "Training the RecSys algorithm is as straight forward. The choice of the algorithm\n",
    "is selected by instantiating the class of algorithm choice then training the\n",
    "model with the dataset from the setting. The setting class provides multiple\n",
    "public attribute calls that can be used by the programmer.\n",
    "\n",
    "We will demo a simple example below."
   ]
  },
  {
   "cell_type": "code",
   "execution_count": null,
   "metadata": {},
   "outputs": [],
   "source": [
    "############# Single global timeline split #############\n",
    "from streamsight.algorithms import ItemKNN\n",
    "\n",
    "algo = ItemKNN(K=10)\n",
    "\n",
    "# Note that the data feed to the model must first be masked before\n",
    "# it is fed to the model. The rational for this is to define the set\n",
    "# of known user/item base knowledge such that the evaluation is\n",
    "# well defined.\n",
    "setting.background_data.mask_shape()\n",
    "# each algorithm has a fit method that takes the training data and fits the model\n",
    "algo.fit(setting.background_data)\n",
    "\n",
    "setting.unlabeled_data.mask_shape(setting.background_data.shape)\n",
    "X_pred = algo.predict(setting.unlabeled_data)"
   ]
  },
  {
   "cell_type": "markdown",
   "metadata": {},
   "source": [
    "# Evaluation"
   ]
  },
  {
   "cell_type": "code",
   "execution_count": null,
   "metadata": {},
   "outputs": [],
   "source": [
    "from streamsight.metrics import PrecisionK\n",
    "\n",
    "# Here we mask the ground truth data to match the shape of the prediction\n",
    "# data. By dropping unknown users and items, we are only evaluating the\n",
    "# users and items that are only known to the model.\n",
    "setting.ground_truth_data.mask_shape(setting.background_data.shape,\n",
    "                                     drop_unknown_user=True,\n",
    "                                     drop_unknown_item=True)\n",
    "\n",
    "metric = PrecisionK(10)\n",
    "metric.calculate(setting.ground_truth_data.binary_values, X_pred)\n",
    "metric.macro_result"
   ]
  },
  {
   "cell_type": "markdown",
   "metadata": {},
   "source": [
    "# Evaluation for sliding window setting\n",
    "\n",
    "The evaluation for the sliding window setting case is a lot more complex and\n",
    "uses an array of `InterationMatrix` unlike the single time point setting."
   ]
  },
  {
   "cell_type": "markdown",
   "metadata": {},
   "source": [
    "# Pipeline to streamline API usage\n",
    "\n",
    "The pipeline built uses an `Evaluator` class to help us run the entire process of\n",
    "instantiating the model, data feed and metrics for us. To build the `Evaluator`\n",
    "the builder class must first be created as shown below. Following the creation,\n",
    "the programmer will define the algorithm/model of interest followed by the setting\n",
    "that was created earlier along with the metric of interest.\n",
    "\n",
    "Note that multiple algorithms and metrics can be added to the builder, allowing\n",
    "for evaluation of multiple algorithms and metrics over a single run."
   ]
  },
  {
   "cell_type": "code",
   "execution_count": null,
   "metadata": {},
   "outputs": [],
   "source": [
    "from streamsight.evaluator.evaluator_builder import EvaluatorBuilder\n",
    "\n",
    "\n",
    "b = EvaluatorBuilder(item_user_based)\n",
    "b.add_algorithm(\"ItemKNNIncremental\", {\"K\": 1})\n",
    "b.add_setting(setting_window)\n",
    "b.add_metric(\"PrecisionK\")\n",
    "evaluator = b.build()\n",
    "\n",
    "evaluator.run()"
   ]
  }
 ],
 "metadata": {
  "kernelspec": {
   "display_name": ".venv",
   "language": "python",
   "name": "python3"
  },
  "language_info": {
   "codemirror_mode": {
    "name": "ipython",
    "version": 3
   },
   "file_extension": ".py",
   "mimetype": "text/x-python",
   "name": "python",
   "nbconvert_exporter": "python",
   "pygments_lexer": "ipython3",
   "version": "3.12.4"
  }
 },
 "nbformat": 4,
 "nbformat_minor": 2
}

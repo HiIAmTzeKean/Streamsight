{
 "cells": [
  {
   "cell_type": "code",
   "execution_count": null,
   "metadata": {},
   "outputs": [],
   "source": [
    "from streamsight import PipelineBuilder\n",
    "from streamsight import Loader\n",
    "from streamsight import Splitter\n",
    "from streamsight.dataset import AmazonMusicDataset"
   ]
  },
  {
   "cell_type": "markdown",
   "metadata": {},
   "source": [
    "# Loading and Splitting\n",
    "\n",
    "The loading mechanism gets the class of dataset that the user wants to use for\n",
    "evaluation on his algorithmn.\n",
    "\n",
    "The splitting will take in a split type and create the necessary split on the\n",
    "dataset."
   ]
  },
  {
   "cell_type": "code",
   "execution_count": null,
   "metadata": {},
   "outputs": [],
   "source": [
    "loader = Loader(dataset=AmazonMusicDataset)\n",
    "# yelp or amazon as a base instead\n",
    "# movielens timestamp curtting might be problematic\n",
    "\n",
    "# user creates his own custom dataset class if needed\n",
    "splitter = Splitter(\n",
    "    split_type=\"global_timeline\", # global_timeline|single_timeline|leave_one_out|random\n",
    "    window_size=1,\n",
    "    num_winder_per_set=5\n",
    "    )"
   ]
  },
  {
   "cell_type": "code",
   "execution_count": null,
   "metadata": {},
   "outputs": [],
   "source": [
    "pipeline_builder = PipelineBuilder()\n",
    "pipeline_builder.set_loader(loader)\n",
    "pipeline_builder.set_splitter(splitter)\n",
    "pipeline_builder.add_algorithm([\"KNN\",\"UserKNN\"])\n",
    "\n",
    "# incremental issue: on the algo \n",
    "algo.get_train_data()\n",
    "algo.get_test_data()\n",
    "\n",
    "\n",
    "pipeline_builder.add_metric(\"Recall\")\n",
    "pipeline_builder.add_metric(\"Precision\")\n",
    "\n",
    "############# Running pipeline as a whole #############\n",
    "# provide ability to step through each window \n",
    "pipeline = pipeline_builder.build()\n",
    "pipeline.run()\n",
    "\n",
    "############# Running pipeline by stepping #############\n",
    "# provide ability to step through each window \n",
    "pipeline = pipeline_builder.build()\n",
    "pipeline.step(n=1,verbose=True)\n",
    "pipeline.display_metrics() # show metrics for the current window\n"
   ]
  }
 ],
 "metadata": {
  "kernelspec": {
   "display_name": ".venv",
   "language": "python",
   "name": "python3"
  },
  "language_info": {
   "codemirror_mode": {
    "name": "ipython",
    "version": 3
   },
   "file_extension": ".py",
   "mimetype": "text/x-python",
   "name": "python",
   "nbconvert_exporter": "python",
   "pygments_lexer": "ipython3",
   "version": "3.11.9"
  }
 },
 "nbformat": 4,
 "nbformat_minor": 2
}

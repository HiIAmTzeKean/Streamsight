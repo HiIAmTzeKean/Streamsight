{
 "cells": [
  {
   "cell_type": "code",
   "execution_count": 1,
   "metadata": {},
   "outputs": [
    {
     "name": "stdout",
     "output_type": "stream",
     "text": [
      "\u001b[37mDEBUG   \u001b[0m - streamsight - \u001b[34mLogging is configured.\u001b[0m\n",
      "\u001b[32mINFO    \u001b[0m - streamsight - \u001b[34mLogging started\u001b[0m\n",
      "\u001b[33mWARNING \u001b[0m - streamsight - \u001b[34mLogging warning works\u001b[0m\n"
     ]
    }
   ],
   "source": [
    "# from streamsight import PipelineBuilder\n",
    "# from streamsight import Loader\n",
    "from streamsight.splits import SingleTimePointSetting\n",
    "from streamsight.datasets import AmazonMusicDataset"
   ]
  },
  {
   "cell_type": "markdown",
   "metadata": {},
   "source": [
    "# Loading and Splitting\n",
    "\n",
    "The loading mechanism gets the class of dataset that the user wants to use for\n",
    "evaluation on his algorithmn.\n",
    "\n",
    "The splitting will take in a split type and create the necessary split on the\n",
    "dataset."
   ]
  },
  {
   "cell_type": "code",
   "execution_count": 2,
   "metadata": {},
   "outputs": [
    {
     "name": "stdout",
     "output_type": "stream",
     "text": [
      "\u001b[37mDEBUG   \u001b[0m - streamsight.datasets.base - \u001b[34mAmazonMusicDataset being initialized with 'data' as the base path.\u001b[0m\n",
      "\u001b[37mDEBUG   \u001b[0m - streamsight.datasets.base - \u001b[34mAmazonMusicDataset is initialized.\u001b[0m\n",
      "\u001b[32mINFO    \u001b[0m - streamsight.datasets.base - \u001b[34mAmazonMusicDataset is loading dataset...\u001b[0m\n",
      "\u001b[37mDEBUG   \u001b[0m - streamsight.datasets.base - \u001b[34mData file is in memory and in dir specified.\u001b[0m\n",
      "\u001b[32mINFO    \u001b[0m - streamsight.datasets.base - \u001b[34mAmazonMusicDataset dataset loaded.\u001b[0m\n"
     ]
    }
   ],
   "source": [
    "dataset = AmazonMusicDataset()\n",
    "# yelp or amazon as a base instead\n",
    "# movielens timestamp curtting might be problematic\n",
    "data = dataset.load()\n",
    "\n",
    "# user creates his own custom dataset class if needed\n",
    "splitter = SingleTimePointSetting(\n",
    "    1406851200,\n",
    "    1398556800\n",
    ")\n",
    "splitter.split(data)\n",
    "\n",
    "# to get the data we call the following\n",
    "train = splitter._full_train_X"
   ]
  },
  {
   "cell_type": "code",
   "execution_count": 12,
   "metadata": {},
   "outputs": [
    {
     "data": {
      "text/html": [
       "<div>\n",
       "<style scoped>\n",
       "    .dataframe tbody tr th:only-of-type {\n",
       "        vertical-align: middle;\n",
       "    }\n",
       "\n",
       "    .dataframe tbody tr th {\n",
       "        vertical-align: top;\n",
       "    }\n",
       "\n",
       "    .dataframe thead th {\n",
       "        text-align: right;\n",
       "    }\n",
       "</style>\n",
       "<table border=\"1\" class=\"dataframe\">\n",
       "  <thead>\n",
       "    <tr style=\"text-align: right;\">\n",
       "      <th></th>\n",
       "      <th>interactionid</th>\n",
       "      <th>uid</th>\n",
       "      <th>iid</th>\n",
       "      <th>ts</th>\n",
       "    </tr>\n",
       "  </thead>\n",
       "  <tbody>\n",
       "    <tr>\n",
       "      <th>0</th>\n",
       "      <td>0</td>\n",
       "      <td>A1ZCPG3D3HGRSS</td>\n",
       "      <td>0001388703</td>\n",
       "      <td>1387670400</td>\n",
       "    </tr>\n",
       "    <tr>\n",
       "      <th>1</th>\n",
       "      <td>1</td>\n",
       "      <td>AC2PL52NKPL29</td>\n",
       "      <td>0001388703</td>\n",
       "      <td>1378857600</td>\n",
       "    </tr>\n",
       "    <tr>\n",
       "      <th>2</th>\n",
       "      <td>2</td>\n",
       "      <td>A1SUZXBDZSDQ3A</td>\n",
       "      <td>0001388703</td>\n",
       "      <td>1362182400</td>\n",
       "    </tr>\n",
       "    <tr>\n",
       "      <th>3</th>\n",
       "      <td>3</td>\n",
       "      <td>A3A0W7FZXM0IZW</td>\n",
       "      <td>0001388703</td>\n",
       "      <td>1354406400</td>\n",
       "    </tr>\n",
       "    <tr>\n",
       "      <th>4</th>\n",
       "      <td>4</td>\n",
       "      <td>A12R54MKO17TW0</td>\n",
       "      <td>0001388703</td>\n",
       "      <td>1325894400</td>\n",
       "    </tr>\n",
       "    <tr>\n",
       "      <th>...</th>\n",
       "      <td>...</td>\n",
       "      <td>...</td>\n",
       "      <td>...</td>\n",
       "      <td>...</td>\n",
       "    </tr>\n",
       "    <tr>\n",
       "      <th>1582631</th>\n",
       "      <td>1582631</td>\n",
       "      <td>A1YTPSWV0BEXUF</td>\n",
       "      <td>B01HBPKOPW</td>\n",
       "      <td>1398556800</td>\n",
       "    </tr>\n",
       "    <tr>\n",
       "      <th>1582795</th>\n",
       "      <td>1582795</td>\n",
       "      <td>AV6PP2JL1W7Q7</td>\n",
       "      <td>B01HC8FQME</td>\n",
       "      <td>1405296000</td>\n",
       "    </tr>\n",
       "    <tr>\n",
       "      <th>1582796</th>\n",
       "      <td>1582796</td>\n",
       "      <td>A271CDNX8A076R</td>\n",
       "      <td>B01HC8FQME</td>\n",
       "      <td>1400889600</td>\n",
       "    </tr>\n",
       "    <tr>\n",
       "      <th>1582797</th>\n",
       "      <td>1582797</td>\n",
       "      <td>A2CR2VE3Z8IEC0</td>\n",
       "      <td>B01HC8FQME</td>\n",
       "      <td>1397260800</td>\n",
       "    </tr>\n",
       "    <tr>\n",
       "      <th>1583570</th>\n",
       "      <td>1583570</td>\n",
       "      <td>A2R02X7CJ2FA8V</td>\n",
       "      <td>B01HHGSN30</td>\n",
       "      <td>1405900800</td>\n",
       "    </tr>\n",
       "  </tbody>\n",
       "</table>\n",
       "<p>639817 rows × 4 columns</p>\n",
       "</div>"
      ],
      "text/plain": [
       "         interactionid             uid         iid          ts\n",
       "0                    0  A1ZCPG3D3HGRSS  0001388703  1387670400\n",
       "1                    1   AC2PL52NKPL29  0001388703  1378857600\n",
       "2                    2  A1SUZXBDZSDQ3A  0001388703  1362182400\n",
       "3                    3  A3A0W7FZXM0IZW  0001388703  1354406400\n",
       "4                    4  A12R54MKO17TW0  0001388703  1325894400\n",
       "...                ...             ...         ...         ...\n",
       "1582631        1582631  A1YTPSWV0BEXUF  B01HBPKOPW  1398556800\n",
       "1582795        1582795   AV6PP2JL1W7Q7  B01HC8FQME  1405296000\n",
       "1582796        1582796  A271CDNX8A076R  B01HC8FQME  1400889600\n",
       "1582797        1582797  A2CR2VE3Z8IEC0  B01HC8FQME  1397260800\n",
       "1583570        1583570  A2R02X7CJ2FA8V  B01HHGSN30  1405900800\n",
       "\n",
       "[639817 rows x 4 columns]"
      ]
     },
     "execution_count": 12,
     "metadata": {},
     "output_type": "execute_result"
    }
   ],
   "source": [
    "splitter._full_train_X._df"
   ]
  },
  {
   "cell_type": "code",
   "execution_count": null,
   "metadata": {},
   "outputs": [],
   "source": []
  },
  {
   "cell_type": "markdown",
   "metadata": {},
   "source": [
    "# Pipeline to streamline API usage"
   ]
  },
  {
   "cell_type": "code",
   "execution_count": null,
   "metadata": {},
   "outputs": [],
   "source": [
    "pipeline_builder = PipelineBuilder()\n",
    "pipeline_builder.set_dataset(AmazonMusicDataset)\n",
    "pipeline_builder.set_splitter(SingleTimePointSetting)\n",
    "pipeline_builder.add_algorithm([\"KNN\",\"UserKNN\"])\n",
    "\n",
    "# incremental issue: on the algo \n",
    "algo.get_train_data()\n",
    "algo.get_test_data()\n",
    "\n",
    "\n",
    "pipeline_builder.add_metric(\"Recall\")\n",
    "pipeline_builder.add_metric(\"Precision\")\n",
    "\n",
    "############# Running pipeline as a whole #############\n",
    "# provide ability to step through each window \n",
    "pipeline = pipeline_builder.build()\n",
    "pipeline.run()\n",
    "\n",
    "############# Running pipeline by stepping #############\n",
    "# provide ability to step through each window \n",
    "pipeline = pipeline_builder.build()\n",
    "pipeline.step(n=1,verbose=True)\n",
    "pipeline.display_metrics() # show metrics for the current window\n"
   ]
  }
 ],
 "metadata": {
  "kernelspec": {
   "display_name": ".venv",
   "language": "python",
   "name": "python3"
  },
  "language_info": {
   "codemirror_mode": {
    "name": "ipython",
    "version": 3
   },
   "file_extension": ".py",
   "mimetype": "text/x-python",
   "name": "python",
   "nbconvert_exporter": "python",
   "pygments_lexer": "ipython3",
   "version": "3.11.9"
  }
 },
 "nbformat": 4,
 "nbformat_minor": 2
}

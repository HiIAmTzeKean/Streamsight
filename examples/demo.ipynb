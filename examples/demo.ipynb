{
 "cells": [
  {
   "cell_type": "code",
   "execution_count": null,
   "metadata": {},
   "outputs": [],
   "source": [
    "# testing sliding window\n",
    "from streamsight.splits import SlidingWindowSetting\n",
    "from streamsight.datasets import AmazonMusicDataset\n",
    "\n",
    "dataset = AmazonMusicDataset()\n",
    "# yelp or amazon as a base instead\n",
    "# movielens timestamp curtting might be problematic\n",
    "data = dataset.load()\n",
    "\n",
    "setting_sliding = SlidingWindowSetting(\n",
    "    1406851200,\n",
    "    1398556800,\n",
    "    window_size=60 * 60 * 24 * 600 # 120 day, 1Q, 3 months\n",
    ")\n",
    "setting_sliding.split(data)"
   ]
  },
  {
   "cell_type": "code",
   "execution_count": null,
   "metadata": {},
   "outputs": [],
   "source": [
    "from streamsight.algorithms.itemknn import ItemKNN\n",
    "\n",
    "\n",
    "algo = ItemKNN()\n",
    "algo.fit(setting.full_training_data)\n",
    "X_pred = algo.predict(setting.test_data_in)\n"
   ]
  },
  {
   "cell_type": "code",
   "execution_count": null,
   "metadata": {},
   "outputs": [],
   "source": [
    "# test pipeline fall back\n",
    "\n",
    "from streamsight.splits import SingleTimePointSetting\n",
    "from streamsight.datasets import AmazonMusicDataset\n",
    "\n",
    "dataset = AmazonMusicDataset()\n",
    "# yelp or amazon as a base instead\n",
    "# movielens timestamp curtting might be problematic\n",
    "data = dataset.load()\n",
    "\n",
    "setting = SingleTimePointSetting(\n",
    "    1406851200,\n",
    "    1398556800\n",
    ")\n",
    "setting.split(data)\n",
    "\n",
    "\n",
    "from streamsight.algorithms.itemknn import ItemKNN\n",
    "\n",
    "algo = ItemKNN()\n",
    "algo.fit(setting.full_training_data)\n",
    "X_pred = algo.predict(setting.test_data_in)"
   ]
  },
  {
   "cell_type": "code",
   "execution_count": null,
   "metadata": {},
   "outputs": [],
   "source": [
    "from streamsight.metrics import PrecisionK\n",
    "\n",
    "metric = PrecisionK(10)\n",
    "metric.calculate(setting.test_data_out.binary_values, X_pred)\n",
    "metric.value\n"
   ]
  },
  {
   "cell_type": "markdown",
   "metadata": {},
   "source": [
    "# Loading and Splitting\n",
    "\n",
    "The loading mechanism gets the class of dataset that the user wants to use for\n",
    "evaluation on his algorithmn.\n",
    "\n",
    "The splitting will take in a split type and create the necessary split on the\n",
    "dataset."
   ]
  },
  {
   "cell_type": "code",
   "execution_count": null,
   "metadata": {},
   "outputs": [],
   "source": [
    "dataset = AmazonMusicDataset()\n",
    "# yelp or amazon as a base instead\n",
    "# movielens timestamp curtting might be problematic\n",
    "data = dataset.load()\n",
    "\n",
    "# user creates his own custom dataset class if needed\n",
    "setting = SingleTimePointSetting(\n",
    "    1406851200,\n",
    "    1398556800\n",
    ")\n",
    "setting.split(data)"
   ]
  },
  {
   "cell_type": "markdown",
   "metadata": {},
   "source": [
    "# Training the Algorithm\n",
    "\n",
    "Training the Algo is as straight forward. The choice of the Algo is selected by\n",
    "calling the algo class and then training the model with the dataset."
   ]
  },
  {
   "cell_type": "code",
   "execution_count": null,
   "metadata": {},
   "outputs": [],
   "source": [
    "algo = ItemKNN()\n",
    "algo.fit(setting.full_training_data)\n"
   ]
  },
  {
   "cell_type": "markdown",
   "metadata": {},
   "source": [
    "# Evaluation"
   ]
  },
  {
   "cell_type": "code",
   "execution_count": null,
   "metadata": {},
   "outputs": [],
   "source": [
    "X_pred = algo.predict(setting.test_data_in)\n",
    "\n"
   ]
  },
  {
   "cell_type": "markdown",
   "metadata": {},
   "source": [
    "# Pipeline to streamline API usage"
   ]
  },
  {
   "cell_type": "code",
   "execution_count": null,
   "metadata": {},
   "outputs": [],
   "source": [
    "pipeline_builder = PipelineBuilder()\n",
    "pipeline_builder.set_dataset(AmazonMusicDataset)\n",
    "pipeline_builder.set_splitter(SingleTimePointSetting)\n",
    "pipeline_builder.add_algorithm([\"KNN\",\"UserKNN\"])\n",
    "\n",
    "# incremental issue: on the algo \n",
    "algo.get_train_data()\n",
    "algo.get_test_data()\n",
    "\n",
    "\n",
    "pipeline_builder.add_metric(\"Recall\")\n",
    "pipeline_builder.add_metric(\"Precision\")\n",
    "\n",
    "############# Running pipeline as a whole #############\n",
    "# provide ability to step through each window \n",
    "pipeline = pipeline_builder.build()\n",
    "pipeline.run()\n",
    "\n",
    "############# Running pipeline by stepping #############\n",
    "# provide ability to step through each window \n",
    "pipeline = pipeline_builder.build()\n",
    "pipeline.step(n=1,verbose=True)\n",
    "pipeline.display_metrics() # show metrics for the current window\n"
   ]
  }
 ],
 "metadata": {
  "kernelspec": {
   "display_name": ".venv",
   "language": "python",
   "name": "python3"
  },
  "language_info": {
   "codemirror_mode": {
    "name": "ipython",
    "version": 3
   },
   "file_extension": ".py",
   "mimetype": "text/x-python",
   "name": "python",
   "nbconvert_exporter": "python",
   "pygments_lexer": "ipython3",
   "version": "3.11.9"
  }
 },
 "nbformat": 4,
 "nbformat_minor": 2
}

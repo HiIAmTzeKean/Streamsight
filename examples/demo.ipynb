{
 "cells": [
  {
   "cell_type": "markdown",
   "metadata": {},
   "source": [
    "# Streamsight basic demo\n",
    "\n",
    "Streamsight is a toolkit for recommendation systems. It is designed to provide\n",
    "a comprehensive set of tools for the entire lifecycle of a recommendation\n",
    "system, from the loading of dataset to the evaluation of the algorithms.\n",
    "\n",
    "To install the toolkit, run `pip install streamsight`\n",
    "\n",
    "The framework shown below will be covered in this demo to showcase to the\n",
    "programmer how to utilise this toolkit.\n",
    "\n",
    "![framework](../docs/source/_static/sliding_setting_scheme-detailed_framework.jpg)"
   ]
  },
  {
   "cell_type": "markdown",
   "metadata": {},
   "source": [
    "## Data Load\n",
    "\n",
    "The first segment of this demo covers the data load process for the demo. We will\n",
    "cover the choice of dataset that the user can choose from first. The selection\n",
    "of the dataset includes various dataset from Amazon and Yelp. The programmer\n",
    "can choose his desired choice and instantiate an instance of the dataset as\n",
    "shown below.\n",
    "\n",
    "Furthermore, preprocessing filters such as `MinItemPerUser` is provided to the\n",
    "programmer to filter the dataset on. There will be a default preprocessing\n",
    "step that will be applied to all dataset - internal user and item id will be\n",
    "created and replaces the original id. Please read the documentation for more\n",
    "information on this in the preprocessing class.\n",
    "\n",
    "To load the dataset, the programmer will invoke the method `load` to load the\n",
    "dataset into memory. Please note that some datasets are huge and will take\n",
    "some time to download."
   ]
  },
  {
   "cell_type": "code",
   "execution_count": 1,
   "metadata": {},
   "outputs": [
    {
     "name": "stdout",
     "output_type": "stream",
     "text": [
      "\u001b[32mINFO    \u001b[0m - streamsight.datasets.base - \u001b[34mAmazonMusicDataset is loading dataset...\u001b[0m\n",
      "\u001b[32mINFO    \u001b[0m - streamsight.datasets.base - \u001b[34mAmazonMusicDataset dataset loaded - Took 1.62s\u001b[0m\n"
     ]
    }
   ],
   "source": [
    "from streamsight.datasets import AmazonMusicDataset\n",
    "from streamsight.preprocessing import MinItemsPerUser\n",
    "\n",
    "dataset = AmazonMusicDataset()\n",
    "dataset.add_filter(\n",
    "    MinItemsPerUser(5, AmazonMusicDataset.ITEM_IX, AmazonMusicDataset.USER_IX)\n",
    ")\n",
    "data = dataset.load()"
   ]
  },
  {
   "cell_type": "markdown",
   "metadata": {},
   "source": [
    "The next step will be the splitting of the data. For the traditional split (single time point)\n",
    "that is a single timestamp is chosen as the time value to split the data into train and test sets,\n",
    "there will only be one split. For the sliding temporal split discussed in the paper which is being\n",
    "implemented, there will be multiple splits, each split will have a different time value to split the\n",
    "data into train and test sets.\n",
    "\n",
    "For the purposes of `streamsight` the traditional terminology of train and test sets is replaced with\n",
    "background and ground truth. As for the prediction to be made, we call the set unlabeled data which\n",
    "the algorithm must predict on."
   ]
  },
  {
   "cell_type": "code",
   "execution_count": 2,
   "metadata": {},
   "outputs": [
    {
     "name": "stdout",
     "output_type": "stream",
     "text": [
      "\u001b[32mINFO    \u001b[0m - streamsight.settings.single_time_point_setting - \u001b[34mSplitting data at time 1406851200 with t_upper interval 1398556800\u001b[0m\n"
     ]
    }
   ],
   "source": [
    "from streamsight.settings import SingleTimePointSetting\n",
    "\n",
    "setting = SingleTimePointSetting(\n",
    "    background_t=1406851200,\n",
    "    t_upper=1398556800,\n",
    "    n_seq_data=1\n",
    ")\n",
    "# once a setting is defined, it can be used to split data\n",
    "# the data will be stored in the attribute of the setting object\n",
    "setting.split(data)"
   ]
  },
  {
   "cell_type": "code",
   "execution_count": 3,
   "metadata": {},
   "outputs": [
    {
     "name": "stderr",
     "output_type": "stream",
     "text": [
      "4it [00:00, 41.35it/s]               "
     ]
    },
    {
     "name": "stdout",
     "output_type": "stream",
     "text": [
      "\u001b[32mINFO    \u001b[0m - streamsight.settings.sliding_window_setting - \u001b[34mFinished split with window size 34560000 seconds. Number of splits: 4 in total.\u001b[0m\n"
     ]
    },
    {
     "name": "stderr",
     "output_type": "stream",
     "text": [
      "\n"
     ]
    }
   ],
   "source": [
    "from streamsight.settings import SlidingWindowSetting\n",
    "\n",
    "setting_window = SlidingWindowSetting(\n",
    "    background_t=1406851200,\n",
    "    window_size=60 * 60 * 24 * 400, # 100 days\n",
    "    n_seq_data=1,\n",
    ")\n",
    "setting_window.split(data)"
   ]
  },
  {
   "cell_type": "markdown",
   "metadata": {},
   "source": [
    "## RecSys training\n",
    "\n",
    "Training the RecSys algorithm is as straight forward. The choice of the algorithm\n",
    "is selected by instantiating the class of algorithm choice then training the\n",
    "model with the dataset from the setting. The setting class provides multiple\n",
    "public function calls that can be used by the programmer.\n",
    "\n",
    "As the algorithm that is designed in this package is a basic algorithm, some\n",
    "extra processing step must be done on our end to treat the shape of the dataset\n",
    "for the algorithm such that it is able to run successfully.\n",
    "\n",
    "Note that the treating of the dataset is an optional parameter that the\n",
    "programmer can choose not to apply in this platform. This will allow flexibility\n",
    "on the programmer's end to evaluate the algorithm's capability.\n",
    "\n",
    "We will demo a simple example below."
   ]
  },
  {
   "cell_type": "code",
   "execution_count": 4,
   "metadata": {},
   "outputs": [],
   "source": [
    "############# Single global timeline split #############\n",
    "from streamsight.algorithms import ItemKNNStatic\n",
    "\n",
    "algo = ItemKNNStatic(K=10)\n",
    "\n",
    "# Note that the data feed to the model must first be masked before\n",
    "# it is fed to the model. The rational for this is to define the set\n",
    "# of known user/item base knowledge such that the evaluation is\n",
    "# well defined.\n",
    "setting.background_data.mask_shape()\n",
    "# each algorithm has a fit method that takes the training data and fits the model\n",
    "algo.fit(setting.background_data)\n",
    "\n",
    "setting.unlabeled_data.mask_shape(setting.background_data.shape, True, True)\n",
    "X_pred = algo.predict(setting.unlabeled_data)"
   ]
  },
  {
   "cell_type": "markdown",
   "metadata": {},
   "source": [
    "## Evaluation\n",
    "\n",
    "The evaluation is done by comparing the predicted values with the true values. Below\n",
    "we show a simple example of how to evaluate the prediction manually. The specific\n",
    "class of metric will be instantiated and then used to calculate the score.\n",
    "\n",
    "The above demo is to showcase how the pipeline and streamer work under the hood.\n",
    "The recommended way to train and evaluate the algorithm on is to either\n",
    "use the class `EvaluatorPipeline` or `EvaluatorStreamer` which are designed to\n",
    "abstract the process and to allow the programmer to specify the parameters\n",
    "needed to train the algorithm."
   ]
  },
  {
   "cell_type": "code",
   "execution_count": 5,
   "metadata": {},
   "outputs": [
    {
     "name": "stdout",
     "output_type": "stream",
     "text": [
      "The macro result of the algorithm is: {metric.macro_result}\n"
     ]
    }
   ],
   "source": [
    "from streamsight.metrics import PrecisionK\n",
    "\n",
    "# Here we mask the ground truth data to match the shape of the prediction\n",
    "# data. By dropping unknown users and items, we are only evaluating the\n",
    "# users and items that are only known to the model.\n",
    "setting.ground_truth_data.mask_shape(setting.background_data.shape,\n",
    "                                     drop_unknown_user=True,\n",
    "                                     drop_unknown_item=True)\n",
    "\n",
    "metric = PrecisionK(10)\n",
    "metric.calculate(setting.ground_truth_data.binary_values, X_pred)\n",
    "print(\"The macro result of the algorithm is: {metric.macro_result}\")"
   ]
  },
  {
   "cell_type": "markdown",
   "metadata": {},
   "source": [
    "### Evaluation for sliding window setting\n",
    "\n",
    "The evaluation for the sliding window setting case is a lot more complex and\n",
    "uses an array of `InterationMatrix` unlike the single time point setting. For the\n",
    "purposes of this demo, we will skip the code for the sliding window as it is the\n",
    "same as the one above.\n",
    "\n",
    "The difference is that the unlabeled_data and grouth_truth_data are now a list.\n",
    "To get the the specific element, a simple list indexing would do. An example is\n",
    "shown below."
   ]
  },
  {
   "cell_type": "code",
   "execution_count": 6,
   "metadata": {},
   "outputs": [
    {
     "data": {
      "text/html": [
       "<div>\n",
       "<style scoped>\n",
       "    .dataframe tbody tr th:only-of-type {\n",
       "        vertical-align: middle;\n",
       "    }\n",
       "\n",
       "    .dataframe tbody tr th {\n",
       "        vertical-align: top;\n",
       "    }\n",
       "\n",
       "    .dataframe thead th {\n",
       "        text-align: right;\n",
       "    }\n",
       "</style>\n",
       "<table border=\"1\" class=\"dataframe\">\n",
       "  <thead>\n",
       "    <tr style=\"text-align: right;\">\n",
       "      <th></th>\n",
       "      <th>interactionid</th>\n",
       "      <th>uid</th>\n",
       "      <th>iid</th>\n",
       "      <th>ts</th>\n",
       "    </tr>\n",
       "  </thead>\n",
       "  <tbody>\n",
       "    <tr>\n",
       "      <th>113</th>\n",
       "      <td>113</td>\n",
       "      <td>47</td>\n",
       "      <td>77</td>\n",
       "      <td>957312000</td>\n",
       "    </tr>\n",
       "    <tr>\n",
       "      <th>392</th>\n",
       "      <td>392</td>\n",
       "      <td>148</td>\n",
       "      <td>192</td>\n",
       "      <td>994982400</td>\n",
       "    </tr>\n",
       "    <tr>\n",
       "      <th>508</th>\n",
       "      <td>508</td>\n",
       "      <td>42</td>\n",
       "      <td>272</td>\n",
       "      <td>1006905600</td>\n",
       "    </tr>\n",
       "    <tr>\n",
       "      <th>1336</th>\n",
       "      <td>1336</td>\n",
       "      <td>393</td>\n",
       "      <td>434</td>\n",
       "      <td>1072137600</td>\n",
       "    </tr>\n",
       "    <tr>\n",
       "      <th>1372</th>\n",
       "      <td>1372</td>\n",
       "      <td>403</td>\n",
       "      <td>84</td>\n",
       "      <td>1074556800</td>\n",
       "    </tr>\n",
       "    <tr>\n",
       "      <th>...</th>\n",
       "      <td>...</td>\n",
       "      <td>...</td>\n",
       "      <td>...</td>\n",
       "      <td>...</td>\n",
       "    </tr>\n",
       "    <tr>\n",
       "      <th>436442</th>\n",
       "      <td>436442</td>\n",
       "      <td>31515</td>\n",
       "      <td>-1</td>\n",
       "      <td>1475884800</td>\n",
       "    </tr>\n",
       "    <tr>\n",
       "      <th>436443</th>\n",
       "      <td>436443</td>\n",
       "      <td>12463</td>\n",
       "      <td>-1</td>\n",
       "      <td>1475884800</td>\n",
       "    </tr>\n",
       "    <tr>\n",
       "      <th>436444</th>\n",
       "      <td>436444</td>\n",
       "      <td>43872</td>\n",
       "      <td>-1</td>\n",
       "      <td>1475884800</td>\n",
       "    </tr>\n",
       "    <tr>\n",
       "      <th>436445</th>\n",
       "      <td>436445</td>\n",
       "      <td>44409</td>\n",
       "      <td>-1</td>\n",
       "      <td>1475884800</td>\n",
       "    </tr>\n",
       "    <tr>\n",
       "      <th>436447</th>\n",
       "      <td>436447</td>\n",
       "      <td>44408</td>\n",
       "      <td>-1</td>\n",
       "      <td>1475884800</td>\n",
       "    </tr>\n",
       "  </tbody>\n",
       "</table>\n",
       "<p>101896 rows × 4 columns</p>\n",
       "</div>"
      ],
      "text/plain": [
       "        interactionid    uid  iid          ts\n",
       "113               113     47   77   957312000\n",
       "392               392    148  192   994982400\n",
       "508               508     42  272  1006905600\n",
       "1336             1336    393  434  1072137600\n",
       "1372             1372    403   84  1074556800\n",
       "...               ...    ...  ...         ...\n",
       "436442         436442  31515   -1  1475884800\n",
       "436443         436443  12463   -1  1475884800\n",
       "436444         436444  43872   -1  1475884800\n",
       "436445         436445  44409   -1  1475884800\n",
       "436447         436447  44408   -1  1475884800\n",
       "\n",
       "[101896 rows x 4 columns]"
      ]
     },
     "execution_count": 6,
     "metadata": {},
     "output_type": "execute_result"
    }
   ],
   "source": [
    "setting_window.unlabeled_data[1]._df"
   ]
  },
  {
   "cell_type": "markdown",
   "metadata": {},
   "source": [
    "# Pipeline to streamline API usage\n",
    "\n",
    "The pipeline built uses an `Evaluator` class to help us run the entire process of\n",
    "instantiating the model, data feed and metrics for us. To build the `Evaluator`\n",
    "the builder class must first be created as shown below. Following the creation,\n",
    "the programmer will define the algorithm/model of interest followed by the setting\n",
    "that was created earlier along with the metric of interest.\n",
    "\n",
    "Note that multiple algorithms and metrics can be added to the builder, allowing\n",
    "for evaluation of multiple algorithms and metrics over a single run."
   ]
  },
  {
   "cell_type": "code",
   "execution_count": 7,
   "metadata": {},
   "outputs": [
    {
     "name": "stdout",
     "output_type": "stream",
     "text": [
      "\u001b[32mINFO    \u001b[0m - streamsight.evaluators.evaluator_pipeline - \u001b[34mPhase 1: Preparing the evaluator...\u001b[0m\n"
     ]
    },
    {
     "name": "stderr",
     "output_type": "stream",
     "text": [
      "  0%|          | 0/4 [00:00<?, ?it/s]"
     ]
    },
    {
     "name": "stdout",
     "output_type": "stream",
     "text": [
      "\u001b[32mINFO    \u001b[0m - streamsight.evaluators.evaluator_pipeline - \u001b[34mPhase 2: Evaluating the algorithms...\u001b[0m\n",
      "\u001b[32mINFO    \u001b[0m - streamsight.evaluators.evaluator_pipeline - \u001b[34mPhase 3: Releasing the data...\u001b[0m\n"
     ]
    },
    {
     "name": "stderr",
     "output_type": "stream",
     "text": [
      " 25%|██▌       | 1/4 [00:01<00:04,  1.35s/it]"
     ]
    },
    {
     "name": "stdout",
     "output_type": "stream",
     "text": [
      "\u001b[32mINFO    \u001b[0m - streamsight.evaluators.evaluator_pipeline - \u001b[34mPhase 2: Evaluating the algorithms...\u001b[0m\n",
      "\u001b[32mINFO    \u001b[0m - streamsight.evaluators.evaluator_pipeline - \u001b[34mPhase 3: Releasing the data...\u001b[0m\n"
     ]
    },
    {
     "name": "stderr",
     "output_type": "stream",
     "text": [
      " 50%|█████     | 2/4 [00:02<00:02,  1.47s/it]"
     ]
    },
    {
     "name": "stdout",
     "output_type": "stream",
     "text": [
      "\u001b[32mINFO    \u001b[0m - streamsight.evaluators.evaluator_pipeline - \u001b[34mPhase 2: Evaluating the algorithms...\u001b[0m\n",
      "\u001b[32mINFO    \u001b[0m - streamsight.evaluators.evaluator_pipeline - \u001b[34mPhase 3: Releasing the data...\u001b[0m\n"
     ]
    },
    {
     "name": "stderr",
     "output_type": "stream",
     "text": [
      " 75%|███████▌  | 3/4 [00:04<00:01,  1.59s/it]"
     ]
    },
    {
     "name": "stdout",
     "output_type": "stream",
     "text": [
      "\u001b[32mINFO    \u001b[0m - streamsight.evaluators.evaluator_pipeline - \u001b[34mPhase 2: Evaluating the algorithms...\u001b[0m\n",
      "\u001b[32mINFO    \u001b[0m - streamsight.evaluators.evaluator_pipeline - \u001b[34mPhase 3: Releasing the data...\u001b[0m\n"
     ]
    },
    {
     "name": "stderr",
     "output_type": "stream",
     "text": [
      "100%|██████████| 4/4 [00:06<00:00,  1.58s/it]\n"
     ]
    }
   ],
   "source": [
    "from streamsight.evaluators import EvaluatorBuilder\n",
    "\n",
    "builder = EvaluatorBuilder(\n",
    "                     ignore_unknown_user=True,\n",
    "                     ignore_unknown_item=True\n",
    "                     )\n",
    "builder.add_setting(setting_window)\n",
    "builder.set_metric_K(10)\n",
    "builder.add_algorithm(\"ItemKNNIncremental\", {\"K\": 10})\n",
    "builder.add_metric(\"PrecisionK\")\n",
    "builder.add_metric(\"RecallK\")\n",
    "evaluator = builder.build()\n",
    "\n",
    "evaluator.run()"
   ]
  },
  {
   "cell_type": "markdown",
   "metadata": {},
   "source": [
    "### Metric results\n",
    "\n",
    "We define 4 level of metrics computation. The below diagram will showcase an\n",
    "example of how the metric would be computed using the example of Precision@10.\n",
    "\n",
    "![metric computation](../docs/source/_static/metric_definition.jpg)\n",
    "\n",
    "A `MetricAccumulator` class is used to abstract the computation from the evaluator\n",
    "class. More details can be found within the `streamsight.metrics` module."
   ]
  },
  {
   "cell_type": "code",
   "execution_count": 8,
   "metadata": {},
   "outputs": [
    {
     "data": {
      "text/html": [
       "<div>\n",
       "<style scoped>\n",
       "    .dataframe tbody tr th:only-of-type {\n",
       "        vertical-align: middle;\n",
       "    }\n",
       "\n",
       "    .dataframe tbody tr th {\n",
       "        vertical-align: top;\n",
       "    }\n",
       "\n",
       "    .dataframe thead th {\n",
       "        text-align: right;\n",
       "    }\n",
       "</style>\n",
       "<table border=\"1\" class=\"dataframe\">\n",
       "  <thead>\n",
       "    <tr style=\"text-align: right;\">\n",
       "      <th></th>\n",
       "      <th></th>\n",
       "      <th></th>\n",
       "      <th>user_id</th>\n",
       "      <th>score</th>\n",
       "    </tr>\n",
       "    <tr>\n",
       "      <th>Algorithm</th>\n",
       "      <th>Timestamp</th>\n",
       "      <th>Metric</th>\n",
       "      <th></th>\n",
       "      <th></th>\n",
       "    </tr>\n",
       "  </thead>\n",
       "  <tbody>\n",
       "    <tr>\n",
       "      <th rowspan=\"11\" valign=\"top\">ItemKNNIncremental(K=10)</th>\n",
       "      <th rowspan=\"5\" valign=\"top\">t=1406851200</th>\n",
       "      <th>PrecisionK_10</th>\n",
       "      <td>21</td>\n",
       "      <td>0.0</td>\n",
       "    </tr>\n",
       "    <tr>\n",
       "      <th>PrecisionK_10</th>\n",
       "      <td>26</td>\n",
       "      <td>0.0</td>\n",
       "    </tr>\n",
       "    <tr>\n",
       "      <th>PrecisionK_10</th>\n",
       "      <td>29</td>\n",
       "      <td>0.0</td>\n",
       "    </tr>\n",
       "    <tr>\n",
       "      <th>PrecisionK_10</th>\n",
       "      <td>32</td>\n",
       "      <td>0.0</td>\n",
       "    </tr>\n",
       "    <tr>\n",
       "      <th>PrecisionK_10</th>\n",
       "      <td>38</td>\n",
       "      <td>0.0</td>\n",
       "    </tr>\n",
       "    <tr>\n",
       "      <th>...</th>\n",
       "      <th>...</th>\n",
       "      <td>...</td>\n",
       "      <td>...</td>\n",
       "    </tr>\n",
       "    <tr>\n",
       "      <th rowspan=\"5\" valign=\"top\">t=1510531200</th>\n",
       "      <th>RecallK_10</th>\n",
       "      <td>32747</td>\n",
       "      <td>0.0</td>\n",
       "    </tr>\n",
       "    <tr>\n",
       "      <th>RecallK_10</th>\n",
       "      <td>8172</td>\n",
       "      <td>0.0</td>\n",
       "    </tr>\n",
       "    <tr>\n",
       "      <th>RecallK_10</th>\n",
       "      <td>16373</td>\n",
       "      <td>0.0</td>\n",
       "    </tr>\n",
       "    <tr>\n",
       "      <th>RecallK_10</th>\n",
       "      <td>24568</td>\n",
       "      <td>0.0</td>\n",
       "    </tr>\n",
       "    <tr>\n",
       "      <th>RecallK_10</th>\n",
       "      <td>40953</td>\n",
       "      <td>0.0</td>\n",
       "    </tr>\n",
       "  </tbody>\n",
       "</table>\n",
       "<p>62768 rows × 2 columns</p>\n",
       "</div>"
      ],
      "text/plain": [
       "                                                    user_id score\n",
       "Algorithm                Timestamp    Metric                     \n",
       "ItemKNNIncremental(K=10) t=1406851200 PrecisionK_10      21   0.0\n",
       "                                      PrecisionK_10      26   0.0\n",
       "                                      PrecisionK_10      29   0.0\n",
       "                                      PrecisionK_10      32   0.0\n",
       "                                      PrecisionK_10      38   0.0\n",
       "...                                                     ...   ...\n",
       "                         t=1510531200 RecallK_10      32747   0.0\n",
       "                                      RecallK_10       8172   0.0\n",
       "                                      RecallK_10      16373   0.0\n",
       "                                      RecallK_10      24568   0.0\n",
       "                                      RecallK_10      40953   0.0\n",
       "\n",
       "[62768 rows x 2 columns]"
      ]
     },
     "execution_count": 8,
     "metadata": {},
     "output_type": "execute_result"
    }
   ],
   "source": [
    "evaluator.metric_results(\"user\")"
   ]
  },
  {
   "cell_type": "code",
   "execution_count": 9,
   "metadata": {},
   "outputs": [
    {
     "data": {
      "text/html": [
       "<div>\n",
       "<style scoped>\n",
       "    .dataframe tbody tr th:only-of-type {\n",
       "        vertical-align: middle;\n",
       "    }\n",
       "\n",
       "    .dataframe tbody tr th {\n",
       "        vertical-align: top;\n",
       "    }\n",
       "\n",
       "    .dataframe thead th {\n",
       "        text-align: right;\n",
       "    }\n",
       "</style>\n",
       "<table border=\"1\" class=\"dataframe\">\n",
       "  <thead>\n",
       "    <tr style=\"text-align: right;\">\n",
       "      <th></th>\n",
       "      <th></th>\n",
       "      <th></th>\n",
       "      <th>window_score</th>\n",
       "      <th>num_user</th>\n",
       "    </tr>\n",
       "    <tr>\n",
       "      <th>Algorithm</th>\n",
       "      <th>Timestamp</th>\n",
       "      <th>Metric</th>\n",
       "      <th></th>\n",
       "      <th></th>\n",
       "    </tr>\n",
       "  </thead>\n",
       "  <tbody>\n",
       "    <tr>\n",
       "      <th rowspan=\"8\" valign=\"top\">ItemKNNIncremental(K=10)</th>\n",
       "      <th rowspan=\"2\" valign=\"top\">t=1406851200</th>\n",
       "      <th>PrecisionK_10</th>\n",
       "      <td>0.001234</td>\n",
       "      <td>8755</td>\n",
       "    </tr>\n",
       "    <tr>\n",
       "      <th>RecallK_10</th>\n",
       "      <td>0.006431</td>\n",
       "      <td>8755</td>\n",
       "    </tr>\n",
       "    <tr>\n",
       "      <th rowspan=\"2\" valign=\"top\">t=1441411200</th>\n",
       "      <th>PrecisionK_10</th>\n",
       "      <td>0.001245</td>\n",
       "      <td>10603</td>\n",
       "    </tr>\n",
       "    <tr>\n",
       "      <th>RecallK_10</th>\n",
       "      <td>0.005835</td>\n",
       "      <td>10603</td>\n",
       "    </tr>\n",
       "    <tr>\n",
       "      <th rowspan=\"2\" valign=\"top\">t=1475971200</th>\n",
       "      <th>PrecisionK_10</th>\n",
       "      <td>0.000872</td>\n",
       "      <td>8602</td>\n",
       "    </tr>\n",
       "    <tr>\n",
       "      <th>RecallK_10</th>\n",
       "      <td>0.003912</td>\n",
       "      <td>8602</td>\n",
       "    </tr>\n",
       "    <tr>\n",
       "      <th rowspan=\"2\" valign=\"top\">t=1510531200</th>\n",
       "      <th>PrecisionK_10</th>\n",
       "      <td>0.000876</td>\n",
       "      <td>3424</td>\n",
       "    </tr>\n",
       "    <tr>\n",
       "      <th>RecallK_10</th>\n",
       "      <td>0.004065</td>\n",
       "      <td>3424</td>\n",
       "    </tr>\n",
       "  </tbody>\n",
       "</table>\n",
       "</div>"
      ],
      "text/plain": [
       "                                                     window_score  num_user\n",
       "Algorithm                Timestamp    Metric                               \n",
       "ItemKNNIncremental(K=10) t=1406851200 PrecisionK_10      0.001234      8755\n",
       "                                      RecallK_10         0.006431      8755\n",
       "                         t=1441411200 PrecisionK_10      0.001245     10603\n",
       "                                      RecallK_10         0.005835     10603\n",
       "                         t=1475971200 PrecisionK_10      0.000872      8602\n",
       "                                      RecallK_10         0.003912      8602\n",
       "                         t=1510531200 PrecisionK_10      0.000876      3424\n",
       "                                      RecallK_10         0.004065      3424"
      ]
     },
     "execution_count": 9,
     "metadata": {},
     "output_type": "execute_result"
    }
   ],
   "source": [
    "evaluator.metric_results(\"window\")"
   ]
  },
  {
   "cell_type": "code",
   "execution_count": 10,
   "metadata": {},
   "outputs": [
    {
     "data": {
      "text/html": [
       "<div>\n",
       "<style scoped>\n",
       "    .dataframe tbody tr th:only-of-type {\n",
       "        vertical-align: middle;\n",
       "    }\n",
       "\n",
       "    .dataframe tbody tr th {\n",
       "        vertical-align: top;\n",
       "    }\n",
       "\n",
       "    .dataframe thead th {\n",
       "        text-align: right;\n",
       "    }\n",
       "</style>\n",
       "<table border=\"1\" class=\"dataframe\">\n",
       "  <thead>\n",
       "    <tr style=\"text-align: right;\">\n",
       "      <th></th>\n",
       "      <th></th>\n",
       "      <th>micro_score</th>\n",
       "      <th>num_user</th>\n",
       "    </tr>\n",
       "    <tr>\n",
       "      <th>Algorithm</th>\n",
       "      <th>Metric</th>\n",
       "      <th></th>\n",
       "      <th></th>\n",
       "    </tr>\n",
       "  </thead>\n",
       "  <tbody>\n",
       "    <tr>\n",
       "      <th rowspan=\"2\" valign=\"top\">ItemKNNIncremental(K=10)</th>\n",
       "      <th>PrecisionK_10</th>\n",
       "      <td>0.001099</td>\n",
       "      <td>31384</td>\n",
       "    </tr>\n",
       "    <tr>\n",
       "      <th>RecallK_10</th>\n",
       "      <td>0.005281</td>\n",
       "      <td>31384</td>\n",
       "    </tr>\n",
       "  </tbody>\n",
       "</table>\n",
       "</div>"
      ],
      "text/plain": [
       "                                       micro_score  num_user\n",
       "Algorithm                Metric                             \n",
       "ItemKNNIncremental(K=10) PrecisionK_10    0.001099     31384\n",
       "                         RecallK_10       0.005281     31384"
      ]
     },
     "execution_count": 10,
     "metadata": {},
     "output_type": "execute_result"
    }
   ],
   "source": [
    "evaluator.metric_results(\"micro\")"
   ]
  },
  {
   "cell_type": "code",
   "execution_count": 11,
   "metadata": {},
   "outputs": [
    {
     "data": {
      "text/html": [
       "<div>\n",
       "<style scoped>\n",
       "    .dataframe tbody tr th:only-of-type {\n",
       "        vertical-align: middle;\n",
       "    }\n",
       "\n",
       "    .dataframe tbody tr th {\n",
       "        vertical-align: top;\n",
       "    }\n",
       "\n",
       "    .dataframe thead th {\n",
       "        text-align: right;\n",
       "    }\n",
       "</style>\n",
       "<table border=\"1\" class=\"dataframe\">\n",
       "  <thead>\n",
       "    <tr style=\"text-align: right;\">\n",
       "      <th></th>\n",
       "      <th></th>\n",
       "      <th>macro_score</th>\n",
       "      <th>num_window</th>\n",
       "    </tr>\n",
       "    <tr>\n",
       "      <th>Algorithm</th>\n",
       "      <th>Metric</th>\n",
       "      <th></th>\n",
       "      <th></th>\n",
       "    </tr>\n",
       "  </thead>\n",
       "  <tbody>\n",
       "    <tr>\n",
       "      <th rowspan=\"2\" valign=\"top\">ItemKNNIncremental(K=10)</th>\n",
       "      <th>PrecisionK_10</th>\n",
       "      <td>0.001057</td>\n",
       "      <td>4</td>\n",
       "    </tr>\n",
       "    <tr>\n",
       "      <th>RecallK_10</th>\n",
       "      <td>0.005061</td>\n",
       "      <td>4</td>\n",
       "    </tr>\n",
       "  </tbody>\n",
       "</table>\n",
       "</div>"
      ],
      "text/plain": [
       "                                        macro_score  num_window\n",
       "Algorithm                Metric                                \n",
       "ItemKNNIncremental(K=10) PrecisionK_10     0.001057           4\n",
       "                         RecallK_10        0.005061           4"
      ]
     },
     "execution_count": 11,
     "metadata": {},
     "output_type": "execute_result"
    }
   ],
   "source": [
    "evaluator.metric_results(\"macro\")"
   ]
  }
 ],
 "metadata": {
  "kernelspec": {
   "display_name": ".venv",
   "language": "python",
   "name": "python3"
  },
  "language_info": {
   "codemirror_mode": {
    "name": "ipython",
    "version": 3
   },
   "file_extension": ".py",
   "mimetype": "text/x-python",
   "name": "python",
   "nbconvert_exporter": "python",
   "pygments_lexer": "ipython3",
   "version": "3.12.5"
  }
 },
 "nbformat": 4,
 "nbformat_minor": 2
}

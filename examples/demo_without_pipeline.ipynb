{
 "cells": [
  {
   "cell_type": "code",
   "execution_count": null,
   "metadata": {},
   "outputs": [],
   "source": [
    "# testing sliding window\n",
    "from streamsight.splits import SlidingWindowSetting\n",
    "from streamsight.datasets import AmazonMusicDataset\n",
    "\n",
    "dataset = AmazonMusicDataset()\n",
    "data = dataset.load()\n",
    "\n",
    "setting_sliding = SlidingWindowSetting(\n",
    "    1106851200,\n",
    "    # 1398556800,\n",
    "    window_size=60 * 60 * 24 * 600, # 600 days\n",
    "    # delta_out= 60 * 60 * 24 * 600\n",
    ")\n",
    "setting_sliding.split(data)"
   ]
  },
  {
   "cell_type": "code",
   "execution_count": null,
   "metadata": {},
   "outputs": [],
   "source": [
    "from streamsight.algorithms import ItemKNNIncremental\n",
    "from streamsight.algorithms.itemknn_rolling import ItemKNNRolling\n",
    "from streamsight.algorithms.itemknn_static import ItemKNNStatic\n",
    "from streamsight.metrics.precision import PrecisionK\n",
    "from streamsight.metrics.recall import RecallK\n",
    "from streamsight.pipelines.pipeline import MetricAccumulator\n",
    "\n",
    "\n",
    "acc = MetricAccumulator()\n",
    "algo1 = ItemKNNIncremental()\n",
    "algo2 = ItemKNNRolling()\n",
    "algo3 = ItemKNNStatic()\n",
    "algo_list = [algo1, algo2, algo3]\n",
    "\n",
    "results = []\n",
    "background_data = setting_sliding.background_data\n",
    "\n",
    "for algo in algo_list:\n",
    "    algo.fit(background_data)\n",
    "\n",
    "for i in range(3):\n",
    "    unlabeled_data = setting_sliding.next_unlabeled_data()\n",
    "    ground_truth_data = setting_sliding.next_ground_truth_data()\n",
    "    current_timestamp = setting_sliding.next_data_timestamp_limit()\n",
    "    \n",
    "    for algo in algo_list:\n",
    "        X_pred = algo.predict(unlabeled_data)\n",
    "        metric1 = PrecisionK(10,current_timestamp)\n",
    "        metric1.calculate(ground_truth_data.binary_values, X_pred)\n",
    "        acc.add(metric1, algo.identifier)\n",
    "        \n",
    "        metric2 = RecallK(10,current_timestamp)\n",
    "        metric2.calculate(ground_truth_data.binary_values, X_pred)\n",
    "        acc.add(metric2, algo.identifier)\n",
    "\n",
    "        # Release ground truth to model\n",
    "        algo.fit(ground_truth_data)"
   ]
  },
  {
   "cell_type": "code",
   "execution_count": null,
   "metadata": {},
   "outputs": [],
   "source": [
    "acc.df_by_algo_time()"
   ]
  }
 ],
 "metadata": {
  "language_info": {
   "name": "python"
  }
 },
 "nbformat": 4,
 "nbformat_minor": 2
}

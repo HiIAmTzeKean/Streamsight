{
 "cells": [
  {
   "cell_type": "markdown",
   "metadata": {},
   "source": [
    "In this python notebook, we will be showcasing the impacts of changing the\n",
    "setting to a sliding window and how it might affect the performance of the\n",
    "algorithm in its precision and recall."
   ]
  },
  {
   "cell_type": "code",
   "execution_count": 1,
   "metadata": {},
   "outputs": [
    {
     "name": "stdout",
     "output_type": "stream",
     "text": [
      "\u001b[32mINFO    \u001b[0m - streamsight - \u001b[34mLogging started\u001b[0m\n",
      "\u001b[33mWARNING \u001b[0m - streamsight - \u001b[34mLogging warning works\u001b[0m\n",
      "\u001b[32mINFO    \u001b[0m - streamsight.datasets.base - \u001b[34mMovieLens100K is loading dataset...\u001b[0m\n",
      "\u001b[32mINFO    \u001b[0m - streamsight.datasets.base - \u001b[34mMovieLens100K dataset loaded - Took 0.0319s\u001b[0m\n",
      "\u001b[32mINFO    \u001b[0m - streamsight.settings.single_time_point_setting - \u001b[34mSplitting data at time 880606923 with t_upper interval 2147483647\u001b[0m\n",
      "\u001b[32mINFO    \u001b[0m - streamsight.settings.base - \u001b[34mSplitting data...\u001b[0m\n",
      "\u001b[32mINFO    \u001b[0m - streamsight.evaluators.evaluator_pipeline - \u001b[34mPhase 1: Preparing the evaluator...\u001b[0m\n",
      "\u001b[32mINFO    \u001b[0m - streamsight.algorithms.base - \u001b[34mFitting ItemKNNStatic complete - Took 0.0953s\u001b[0m\n",
      "\u001b[32mINFO    \u001b[0m - streamsight.algorithms.base - \u001b[34mFitting ItemKNNRolling complete - Took 0.095s\u001b[0m\n",
      "\u001b[32mINFO    \u001b[0m - streamsight.algorithms.itemknn_incremental - \u001b[34mUpdated historical data for ItemKNNIncremental - Took 0.000164s\u001b[0m\n",
      "\u001b[32mINFO    \u001b[0m - streamsight.algorithms.base - \u001b[34mFitting ItemKNNIncremental complete - Took 0.0958s\u001b[0m\n",
      "\u001b[32mINFO    \u001b[0m - streamsight.algorithms.base - \u001b[34mFitting Random complete - Took 0.00222s\u001b[0m\n",
      "\u001b[32mINFO    \u001b[0m - streamsight.algorithms.base - \u001b[34mFitting Popularity complete - Took 0.00206s\u001b[0m\n",
      "\u001b[32mINFO    \u001b[0m - streamsight.settings.base - \u001b[34mResetting data generators.\u001b[0m\n",
      "\u001b[32mINFO    \u001b[0m - streamsight.settings.base - \u001b[34mData generators are reset.\u001b[0m\n"
     ]
    },
    {
     "name": "stderr",
     "output_type": "stream",
     "text": [
      "  0%|          | 0/1 [00:00<?, ?it/s]"
     ]
    },
    {
     "name": "stdout",
     "output_type": "stream",
     "text": [
      "\u001b[32mINFO    \u001b[0m - streamsight.evaluators.evaluator_pipeline - \u001b[34mPhase 2: Evaluating the algorithms...\u001b[0m\n"
     ]
    },
    {
     "name": "stderr",
     "output_type": "stream",
     "text": [
      "100%|██████████| 1/1 [00:00<00:00,  5.27it/s]\n"
     ]
    },
    {
     "data": {
      "text/html": [
       "<div>\n",
       "<style scoped>\n",
       "    .dataframe tbody tr th:only-of-type {\n",
       "        vertical-align: middle;\n",
       "    }\n",
       "\n",
       "    .dataframe tbody tr th {\n",
       "        vertical-align: top;\n",
       "    }\n",
       "\n",
       "    .dataframe thead th {\n",
       "        text-align: right;\n",
       "    }\n",
       "</style>\n",
       "<table border=\"1\" class=\"dataframe\">\n",
       "  <thead>\n",
       "    <tr style=\"text-align: right;\">\n",
       "      <th></th>\n",
       "      <th></th>\n",
       "      <th>score</th>\n",
       "    </tr>\n",
       "    <tr>\n",
       "      <th>Algorithm</th>\n",
       "      <th>Metric</th>\n",
       "      <th></th>\n",
       "    </tr>\n",
       "  </thead>\n",
       "  <tbody>\n",
       "    <tr>\n",
       "      <th rowspan=\"2\" valign=\"top\">ItemKNNStatic(K=100)</th>\n",
       "      <th>PrecisionK_100</th>\n",
       "      <td>0.098788</td>\n",
       "    </tr>\n",
       "    <tr>\n",
       "      <th>RecallK_100</th>\n",
       "      <td>0.238564</td>\n",
       "    </tr>\n",
       "    <tr>\n",
       "      <th rowspan=\"2\" valign=\"top\">ItemKNNRolling(K=100)</th>\n",
       "      <th>PrecisionK_100</th>\n",
       "      <td>0.098788</td>\n",
       "    </tr>\n",
       "    <tr>\n",
       "      <th>RecallK_100</th>\n",
       "      <td>0.238564</td>\n",
       "    </tr>\n",
       "    <tr>\n",
       "      <th rowspan=\"2\" valign=\"top\">ItemKNNIncremental(K=100)</th>\n",
       "      <th>PrecisionK_100</th>\n",
       "      <td>0.098788</td>\n",
       "    </tr>\n",
       "    <tr>\n",
       "      <th>RecallK_100</th>\n",
       "      <td>0.238564</td>\n",
       "    </tr>\n",
       "    <tr>\n",
       "      <th rowspan=\"2\" valign=\"top\">Random(K=100,seed=42)</th>\n",
       "      <th>PrecisionK_100</th>\n",
       "      <td>0.020000</td>\n",
       "    </tr>\n",
       "    <tr>\n",
       "      <th>RecallK_100</th>\n",
       "      <td>0.028994</td>\n",
       "    </tr>\n",
       "    <tr>\n",
       "      <th rowspan=\"2\" valign=\"top\">Popularity(K=100)</th>\n",
       "      <th>PrecisionK_100</th>\n",
       "      <td>0.104242</td>\n",
       "    </tr>\n",
       "    <tr>\n",
       "      <th>RecallK_100</th>\n",
       "      <td>0.241377</td>\n",
       "    </tr>\n",
       "  </tbody>\n",
       "</table>\n",
       "</div>"
      ],
      "text/plain": [
       "                                             score\n",
       "Algorithm                 Metric                  \n",
       "ItemKNNStatic(K=100)      PrecisionK_100  0.098788\n",
       "                          RecallK_100     0.238564\n",
       "ItemKNNRolling(K=100)     PrecisionK_100  0.098788\n",
       "                          RecallK_100     0.238564\n",
       "ItemKNNIncremental(K=100) PrecisionK_100  0.098788\n",
       "                          RecallK_100     0.238564\n",
       "Random(K=100,seed=42)     PrecisionK_100  0.020000\n",
       "                          RecallK_100     0.028994\n",
       "Popularity(K=100)         PrecisionK_100  0.104242\n",
       "                          RecallK_100     0.241377"
      ]
     },
     "execution_count": 1,
     "metadata": {},
     "output_type": "execute_result"
    }
   ],
   "source": [
    "from streamsight.datasets import MovieLens100K\n",
    "from streamsight.settings import SingleTimePointSetting\n",
    "k=100\n",
    "\n",
    "dataset = MovieLens100K(use_default_filters=False)\n",
    "data = dataset.load()\n",
    "setting_sliding = SingleTimePointSetting(\n",
    "    background_t=880606923,\n",
    "    n_seq_data=9999,\n",
    "    top_K=k\n",
    ")\n",
    "setting_sliding.split(data)\n",
    "\n",
    "from streamsight.evaluators import EvaluatorBuilder\n",
    "\n",
    "builder = EvaluatorBuilder(ignore_unknown_item=True,\n",
    "                           ignore_unknown_user=True)\n",
    "builder.add_setting(setting_sliding)\n",
    "\n",
    "builder.add_algorithm(\"ItemKNNStatic\", {\"K\": k})\n",
    "builder.add_algorithm(\"ItemKNNRolling\", {\"K\": k})\n",
    "builder.add_algorithm(\"ItemKNNIncremental\", {\"K\": k})\n",
    "builder.add_algorithm(\"Random\", {\"K\": k})\n",
    "builder.add_algorithm(\"Popularity\", {\"K\": k})\n",
    "\n",
    "builder.add_metric(\"PrecisionK\", K=k)\n",
    "builder.add_metric(\"RecallK\", K=k)\n",
    "evaluator = builder.build()\n",
    "\n",
    "evaluator.run()\n",
    "\n",
    "evaluator.metric_results(level=\"macro\")"
   ]
  },
  {
   "cell_type": "code",
   "execution_count": 2,
   "metadata": {},
   "outputs": [
    {
     "name": "stdout",
     "output_type": "stream",
     "text": [
      "\u001b[32mINFO    \u001b[0m - streamsight.datasets.base - \u001b[34mMovieLens100K is loading dataset...\u001b[0m\n",
      "\u001b[32mINFO    \u001b[0m - streamsight.datasets.base - \u001b[34mMovieLens100K dataset loaded - Took 0.0395s\u001b[0m\n",
      "\u001b[32mINFO    \u001b[0m - streamsight.settings.base - \u001b[34mSplitting data...\u001b[0m\n"
     ]
    },
    {
     "name": "stderr",
     "output_type": "stream",
     "text": [
      "5it [00:00, 262.90it/s]              "
     ]
    },
    {
     "name": "stdout",
     "output_type": "stream",
     "text": [
      "\u001b[32mINFO    \u001b[0m - streamsight.settings.sliding_window_setting - \u001b[34mFinished split with window size 2592000 seconds. Number of splits: 6 in total.\u001b[0m\n",
      "\u001b[32mINFO    \u001b[0m - streamsight.evaluators.evaluator_pipeline - \u001b[34mPhase 1: Preparing the evaluator...\u001b[0m\n",
      "\u001b[32mINFO    \u001b[0m - streamsight.algorithms.base - \u001b[34mFitting ItemKNNStatic complete - Took 0.0945s\u001b[0m\n"
     ]
    },
    {
     "name": "stderr",
     "output_type": "stream",
     "text": [
      "\n"
     ]
    },
    {
     "name": "stdout",
     "output_type": "stream",
     "text": [
      "\u001b[32mINFO    \u001b[0m - streamsight.algorithms.base - \u001b[34mFitting ItemKNNRolling complete - Took 0.0949s\u001b[0m\n",
      "\u001b[32mINFO    \u001b[0m - streamsight.algorithms.itemknn_incremental - \u001b[34mUpdated historical data for ItemKNNIncremental - Took 0.00024s\u001b[0m\n",
      "\u001b[32mINFO    \u001b[0m - streamsight.algorithms.base - \u001b[34mFitting ItemKNNIncremental complete - Took 0.0936s\u001b[0m\n",
      "\u001b[32mINFO    \u001b[0m - streamsight.algorithms.base - \u001b[34mFitting Random complete - Took 0.00235s\u001b[0m\n",
      "\u001b[32mINFO    \u001b[0m - streamsight.algorithms.base - \u001b[34mFitting Popularity complete - Took 0.00209s\u001b[0m\n",
      "\u001b[32mINFO    \u001b[0m - streamsight.settings.base - \u001b[34mResetting data generators.\u001b[0m\n",
      "\u001b[32mINFO    \u001b[0m - streamsight.settings.base - \u001b[34mData generators are reset.\u001b[0m\n"
     ]
    },
    {
     "name": "stderr",
     "output_type": "stream",
     "text": [
      "  0%|          | 0/5 [00:00<?, ?it/s]"
     ]
    },
    {
     "name": "stdout",
     "output_type": "stream",
     "text": [
      "\u001b[32mINFO    \u001b[0m - streamsight.evaluators.evaluator_pipeline - \u001b[34mPhase 2: Evaluating the algorithms...\u001b[0m\n",
      "\u001b[32mINFO    \u001b[0m - streamsight.evaluators.evaluator_pipeline - \u001b[34mPhase 3: Releasing the data...\u001b[0m\n",
      "\u001b[32mINFO    \u001b[0m - streamsight.algorithms.base - \u001b[34mFitting ItemKNNStatic complete - Took 0.0761s\u001b[0m\n",
      "\u001b[32mINFO    \u001b[0m - streamsight.algorithms.base - \u001b[34mFitting ItemKNNRolling complete - Took 0.0757s\u001b[0m\n",
      "\u001b[32mINFO    \u001b[0m - streamsight.algorithms.itemknn_incremental - \u001b[34mUpdated historical data for ItemKNNIncremental - Took 0.00102s\u001b[0m\n",
      "\u001b[32mINFO    \u001b[0m - streamsight.algorithms.base - \u001b[34mFitting ItemKNNIncremental complete - Took 0.104s\u001b[0m\n",
      "\u001b[32mINFO    \u001b[0m - streamsight.algorithms.base - \u001b[34mFitting Random complete - Took 0.00108s\u001b[0m\n",
      "\u001b[32mINFO    \u001b[0m - streamsight.algorithms.base - \u001b[34mFitting Popularity complete - Took 0.000899s\u001b[0m\n"
     ]
    },
    {
     "name": "stderr",
     "output_type": "stream",
     "text": [
      " 20%|██        | 1/5 [00:00<00:01,  2.91it/s]"
     ]
    },
    {
     "name": "stdout",
     "output_type": "stream",
     "text": [
      "\u001b[32mINFO    \u001b[0m - streamsight.evaluators.evaluator_pipeline - \u001b[34mPhase 2: Evaluating the algorithms...\u001b[0m\n",
      "\u001b[32mINFO    \u001b[0m - streamsight.evaluators.evaluator_pipeline - \u001b[34mPhase 3: Releasing the data...\u001b[0m\n",
      "\u001b[32mINFO    \u001b[0m - streamsight.algorithms.base - \u001b[34mFitting ItemKNNStatic complete - Took 0.0846s\u001b[0m\n",
      "\u001b[32mINFO    \u001b[0m - streamsight.algorithms.base - \u001b[34mFitting ItemKNNRolling complete - Took 0.0842s\u001b[0m\n",
      "\u001b[32mINFO    \u001b[0m - streamsight.algorithms.itemknn_incremental - \u001b[34mUpdated historical data for ItemKNNIncremental - Took 0.000811s\u001b[0m\n",
      "\u001b[32mINFO    \u001b[0m - streamsight.algorithms.base - \u001b[34mFitting ItemKNNIncremental complete - Took 0.117s\u001b[0m\n",
      "\u001b[32mINFO    \u001b[0m - streamsight.algorithms.base - \u001b[34mFitting Random complete - Took 0.00111s\u001b[0m\n",
      "\u001b[32mINFO    \u001b[0m - streamsight.algorithms.base - \u001b[34mFitting Popularity complete - Took 0.00117s\u001b[0m\n"
     ]
    },
    {
     "name": "stderr",
     "output_type": "stream",
     "text": [
      " 40%|████      | 2/5 [00:00<00:01,  2.68it/s]"
     ]
    },
    {
     "name": "stdout",
     "output_type": "stream",
     "text": [
      "\u001b[32mINFO    \u001b[0m - streamsight.evaluators.evaluator_pipeline - \u001b[34mPhase 2: Evaluating the algorithms...\u001b[0m\n",
      "\u001b[32mINFO    \u001b[0m - streamsight.evaluators.evaluator_pipeline - \u001b[34mPhase 3: Releasing the data...\u001b[0m\n",
      "\u001b[32mINFO    \u001b[0m - streamsight.algorithms.base - \u001b[34mFitting ItemKNNStatic complete - Took 0.121s\u001b[0m\n",
      "\u001b[32mINFO    \u001b[0m - streamsight.algorithms.base - \u001b[34mFitting ItemKNNRolling complete - Took 0.084s\u001b[0m\n",
      "\u001b[32mINFO    \u001b[0m - streamsight.algorithms.itemknn_incremental - \u001b[34mUpdated historical data for ItemKNNIncremental - Took 0.00116s\u001b[0m\n",
      "\u001b[32mINFO    \u001b[0m - streamsight.algorithms.base - \u001b[34mFitting ItemKNNIncremental complete - Took 0.14s\u001b[0m\n",
      "\u001b[32mINFO    \u001b[0m - streamsight.algorithms.base - \u001b[34mFitting Random complete - Took 0.00129s\u001b[0m\n",
      "\u001b[32mINFO    \u001b[0m - streamsight.algorithms.base - \u001b[34mFitting Popularity complete - Took 0.00137s\u001b[0m\n"
     ]
    },
    {
     "name": "stderr",
     "output_type": "stream",
     "text": [
      " 60%|██████    | 3/5 [00:01<00:00,  2.46it/s]"
     ]
    },
    {
     "name": "stdout",
     "output_type": "stream",
     "text": [
      "\u001b[32mINFO    \u001b[0m - streamsight.evaluators.evaluator_pipeline - \u001b[34mPhase 2: Evaluating the algorithms...\u001b[0m\n",
      "\u001b[32mINFO    \u001b[0m - streamsight.evaluators.evaluator_pipeline - \u001b[34mPhase 3: Releasing the data...\u001b[0m\n",
      "\u001b[32mINFO    \u001b[0m - streamsight.algorithms.base - \u001b[34mFitting ItemKNNStatic complete - Took 0.0692s\u001b[0m\n",
      "\u001b[32mINFO    \u001b[0m - streamsight.algorithms.base - \u001b[34mFitting ItemKNNRolling complete - Took 0.069s\u001b[0m\n",
      "\u001b[32mINFO    \u001b[0m - streamsight.algorithms.itemknn_incremental - \u001b[34mUpdated historical data for ItemKNNIncremental - Took 0.000676s\u001b[0m\n",
      "\u001b[32mINFO    \u001b[0m - streamsight.algorithms.base - \u001b[34mFitting ItemKNNIncremental complete - Took 0.132s\u001b[0m\n",
      "\u001b[32mINFO    \u001b[0m - streamsight.algorithms.base - \u001b[34mFitting Random complete - Took 0.000773s\u001b[0m\n",
      "\u001b[32mINFO    \u001b[0m - streamsight.algorithms.base - \u001b[34mFitting Popularity complete - Took 0.00085s\u001b[0m\n"
     ]
    },
    {
     "name": "stderr",
     "output_type": "stream",
     "text": [
      " 80%|████████  | 4/5 [00:01<00:00,  2.44it/s]"
     ]
    },
    {
     "name": "stdout",
     "output_type": "stream",
     "text": [
      "\u001b[32mINFO    \u001b[0m - streamsight.evaluators.evaluator_pipeline - \u001b[34mPhase 2: Evaluating the algorithms...\u001b[0m\n",
      "\u001b[32mINFO    \u001b[0m - streamsight.evaluators.evaluator_pipeline - \u001b[34mPhase 3: Releasing the data...\u001b[0m\n",
      "\u001b[32mINFO    \u001b[0m - streamsight.algorithms.base - \u001b[34mFitting ItemKNNStatic complete - Took 0.0865s\u001b[0m\n",
      "\u001b[32mINFO    \u001b[0m - streamsight.algorithms.base - \u001b[34mFitting ItemKNNRolling complete - Took 0.0864s\u001b[0m\n",
      "\u001b[32mINFO    \u001b[0m - streamsight.algorithms.itemknn_incremental - \u001b[34mUpdated historical data for ItemKNNIncremental - Took 0.000925s\u001b[0m\n",
      "\u001b[32mINFO    \u001b[0m - streamsight.algorithms.base - \u001b[34mFitting ItemKNNIncremental complete - Took 0.145s\u001b[0m\n",
      "\u001b[32mINFO    \u001b[0m - streamsight.algorithms.base - \u001b[34mFitting Random complete - Took 0.00161s\u001b[0m\n",
      "\u001b[32mINFO    \u001b[0m - streamsight.algorithms.base - \u001b[34mFitting Popularity complete - Took 0.00125s\u001b[0m\n"
     ]
    },
    {
     "name": "stderr",
     "output_type": "stream",
     "text": [
      "100%|██████████| 5/5 [00:02<00:00,  2.47it/s]\n"
     ]
    },
    {
     "data": {
      "text/html": [
       "<div>\n",
       "<style scoped>\n",
       "    .dataframe tbody tr th:only-of-type {\n",
       "        vertical-align: middle;\n",
       "    }\n",
       "\n",
       "    .dataframe tbody tr th {\n",
       "        vertical-align: top;\n",
       "    }\n",
       "\n",
       "    .dataframe thead th {\n",
       "        text-align: right;\n",
       "    }\n",
       "</style>\n",
       "<table border=\"1\" class=\"dataframe\">\n",
       "  <thead>\n",
       "    <tr style=\"text-align: right;\">\n",
       "      <th></th>\n",
       "      <th></th>\n",
       "      <th>score</th>\n",
       "    </tr>\n",
       "    <tr>\n",
       "      <th>Algorithm</th>\n",
       "      <th>Metric</th>\n",
       "      <th></th>\n",
       "    </tr>\n",
       "  </thead>\n",
       "  <tbody>\n",
       "    <tr>\n",
       "      <th rowspan=\"2\" valign=\"top\">ItemKNNStatic(K=100)</th>\n",
       "      <th>PrecisionK_100</th>\n",
       "      <td>0.040457</td>\n",
       "    </tr>\n",
       "    <tr>\n",
       "      <th>RecallK_100</th>\n",
       "      <td>0.159305</td>\n",
       "    </tr>\n",
       "    <tr>\n",
       "      <th rowspan=\"2\" valign=\"top\">ItemKNNRolling(K=100)</th>\n",
       "      <th>PrecisionK_100</th>\n",
       "      <td>0.040457</td>\n",
       "    </tr>\n",
       "    <tr>\n",
       "      <th>RecallK_100</th>\n",
       "      <td>0.159305</td>\n",
       "    </tr>\n",
       "    <tr>\n",
       "      <th rowspan=\"2\" valign=\"top\">ItemKNNIncremental(K=100)</th>\n",
       "      <th>PrecisionK_100</th>\n",
       "      <td>0.042078</td>\n",
       "    </tr>\n",
       "    <tr>\n",
       "      <th>RecallK_100</th>\n",
       "      <td>0.163039</td>\n",
       "    </tr>\n",
       "    <tr>\n",
       "      <th rowspan=\"2\" valign=\"top\">Random(K=100,seed=42)</th>\n",
       "      <th>PrecisionK_100</th>\n",
       "      <td>0.006393</td>\n",
       "    </tr>\n",
       "    <tr>\n",
       "      <th>RecallK_100</th>\n",
       "      <td>0.010720</td>\n",
       "    </tr>\n",
       "    <tr>\n",
       "      <th rowspan=\"2\" valign=\"top\">Popularity(K=100)</th>\n",
       "      <th>PrecisionK_100</th>\n",
       "      <td>0.047740</td>\n",
       "    </tr>\n",
       "    <tr>\n",
       "      <th>RecallK_100</th>\n",
       "      <td>0.283527</td>\n",
       "    </tr>\n",
       "  </tbody>\n",
       "</table>\n",
       "</div>"
      ],
      "text/plain": [
       "                                             score\n",
       "Algorithm                 Metric                  \n",
       "ItemKNNStatic(K=100)      PrecisionK_100  0.040457\n",
       "                          RecallK_100     0.159305\n",
       "ItemKNNRolling(K=100)     PrecisionK_100  0.040457\n",
       "                          RecallK_100     0.159305\n",
       "ItemKNNIncremental(K=100) PrecisionK_100  0.042078\n",
       "                          RecallK_100     0.163039\n",
       "Random(K=100,seed=42)     PrecisionK_100  0.006393\n",
       "                          RecallK_100     0.010720\n",
       "Popularity(K=100)         PrecisionK_100  0.047740\n",
       "                          RecallK_100     0.283527"
      ]
     },
     "execution_count": 2,
     "metadata": {},
     "output_type": "execute_result"
    }
   ],
   "source": [
    "from streamsight.datasets import MovieLens100K\n",
    "from streamsight.settings import SlidingWindowSetting\n",
    "k=100\n",
    "\n",
    "dataset = MovieLens100K(use_default_filters=False)\n",
    "data = dataset.load()\n",
    "setting_sliding = SlidingWindowSetting(\n",
    "    background_t=880606923,\n",
    "    window_size=60 * 60 * 24 * 30, # day times N\n",
    "    n_seq_data=9999,\n",
    "    top_K=k\n",
    ")\n",
    "setting_sliding.split(data)\n",
    "\n",
    "from streamsight.evaluators import EvaluatorBuilder\n",
    "\n",
    "builder = EvaluatorBuilder(ignore_unknown_item=True,\n",
    "                           ignore_unknown_user=True)\n",
    "builder.add_setting(setting_sliding)\n",
    "\n",
    "builder.add_algorithm(\"ItemKNNStatic\", {\"K\": k})\n",
    "builder.add_algorithm(\"ItemKNNRolling\", {\"K\": k})\n",
    "builder.add_algorithm(\"ItemKNNIncremental\", {\"K\": k})\n",
    "builder.add_algorithm(\"Random\", {\"K\": k})\n",
    "builder.add_algorithm(\"Popularity\", {\"K\": k})\n",
    "\n",
    "builder.add_metric(\"PrecisionK\", K=k)\n",
    "builder.add_metric(\"RecallK\", K=k)\n",
    "evaluator = builder.build()\n",
    "\n",
    "evaluator.run()\n",
    "\n",
    "evaluator.metric_results(level=\"macro\")"
   ]
  },
  {
   "cell_type": "code",
   "execution_count": 5,
   "metadata": {},
   "outputs": [
    {
     "data": {
      "text/html": [
       "<div>\n",
       "<style scoped>\n",
       "    .dataframe tbody tr th:only-of-type {\n",
       "        vertical-align: middle;\n",
       "    }\n",
       "\n",
       "    .dataframe tbody tr th {\n",
       "        vertical-align: top;\n",
       "    }\n",
       "\n",
       "    .dataframe thead th {\n",
       "        text-align: right;\n",
       "    }\n",
       "</style>\n",
       "<table border=\"1\" class=\"dataframe\">\n",
       "  <thead>\n",
       "    <tr style=\"text-align: right;\">\n",
       "      <th></th>\n",
       "      <th></th>\n",
       "      <th></th>\n",
       "      <th>score</th>\n",
       "      <th>num_user</th>\n",
       "    </tr>\n",
       "    <tr>\n",
       "      <th>Algorithm</th>\n",
       "      <th>Timestamp</th>\n",
       "      <th>Metric</th>\n",
       "      <th></th>\n",
       "      <th></th>\n",
       "    </tr>\n",
       "  </thead>\n",
       "  <tbody>\n",
       "    <tr>\n",
       "      <th rowspan=\"10\" valign=\"top\">ItemKNNStatic(K=100)</th>\n",
       "      <th rowspan=\"2\" valign=\"top\">t=880606923</th>\n",
       "      <th>PrecisionK_100</th>\n",
       "      <td>0.061067</td>\n",
       "      <td>75</td>\n",
       "    </tr>\n",
       "    <tr>\n",
       "      <th>RecallK_100</th>\n",
       "      <td>0.238028</td>\n",
       "      <td>75</td>\n",
       "    </tr>\n",
       "    <tr>\n",
       "      <th rowspan=\"2\" valign=\"top\">t=883198923</th>\n",
       "      <th>PrecisionK_100</th>\n",
       "      <td>0.041170</td>\n",
       "      <td>94</td>\n",
       "    </tr>\n",
       "    <tr>\n",
       "      <th>RecallK_100</th>\n",
       "      <td>0.149700</td>\n",
       "      <td>94</td>\n",
       "    </tr>\n",
       "    <tr>\n",
       "      <th rowspan=\"2\" valign=\"top\">t=885790923</th>\n",
       "      <th>PrecisionK_100</th>\n",
       "      <td>0.028556</td>\n",
       "      <td>90</td>\n",
       "    </tr>\n",
       "    <tr>\n",
       "      <th>RecallK_100</th>\n",
       "      <td>0.149462</td>\n",
       "      <td>90</td>\n",
       "    </tr>\n",
       "    <tr>\n",
       "      <th rowspan=\"2\" valign=\"top\">t=888382923</th>\n",
       "      <th>PrecisionK_100</th>\n",
       "      <td>0.041176</td>\n",
       "      <td>102</td>\n",
       "    </tr>\n",
       "    <tr>\n",
       "      <th>RecallK_100</th>\n",
       "      <td>0.132315</td>\n",
       "      <td>102</td>\n",
       "    </tr>\n",
       "    <tr>\n",
       "      <th rowspan=\"2\" valign=\"top\">t=890974923</th>\n",
       "      <th>PrecisionK_100</th>\n",
       "      <td>0.032468</td>\n",
       "      <td>77</td>\n",
       "    </tr>\n",
       "    <tr>\n",
       "      <th>RecallK_100</th>\n",
       "      <td>0.141610</td>\n",
       "      <td>77</td>\n",
       "    </tr>\n",
       "    <tr>\n",
       "      <th rowspan=\"10\" valign=\"top\">ItemKNNRolling(K=100)</th>\n",
       "      <th rowspan=\"2\" valign=\"top\">t=880606923</th>\n",
       "      <th>PrecisionK_100</th>\n",
       "      <td>0.061067</td>\n",
       "      <td>75</td>\n",
       "    </tr>\n",
       "    <tr>\n",
       "      <th>RecallK_100</th>\n",
       "      <td>0.238028</td>\n",
       "      <td>75</td>\n",
       "    </tr>\n",
       "    <tr>\n",
       "      <th rowspan=\"2\" valign=\"top\">t=883198923</th>\n",
       "      <th>PrecisionK_100</th>\n",
       "      <td>0.041170</td>\n",
       "      <td>94</td>\n",
       "    </tr>\n",
       "    <tr>\n",
       "      <th>RecallK_100</th>\n",
       "      <td>0.149700</td>\n",
       "      <td>94</td>\n",
       "    </tr>\n",
       "    <tr>\n",
       "      <th rowspan=\"2\" valign=\"top\">t=885790923</th>\n",
       "      <th>PrecisionK_100</th>\n",
       "      <td>0.028556</td>\n",
       "      <td>90</td>\n",
       "    </tr>\n",
       "    <tr>\n",
       "      <th>RecallK_100</th>\n",
       "      <td>0.149462</td>\n",
       "      <td>90</td>\n",
       "    </tr>\n",
       "    <tr>\n",
       "      <th rowspan=\"2\" valign=\"top\">t=888382923</th>\n",
       "      <th>PrecisionK_100</th>\n",
       "      <td>0.041176</td>\n",
       "      <td>102</td>\n",
       "    </tr>\n",
       "    <tr>\n",
       "      <th>RecallK_100</th>\n",
       "      <td>0.132315</td>\n",
       "      <td>102</td>\n",
       "    </tr>\n",
       "    <tr>\n",
       "      <th rowspan=\"2\" valign=\"top\">t=890974923</th>\n",
       "      <th>PrecisionK_100</th>\n",
       "      <td>0.032468</td>\n",
       "      <td>77</td>\n",
       "    </tr>\n",
       "    <tr>\n",
       "      <th>RecallK_100</th>\n",
       "      <td>0.141610</td>\n",
       "      <td>77</td>\n",
       "    </tr>\n",
       "    <tr>\n",
       "      <th rowspan=\"10\" valign=\"top\">ItemKNNIncremental(K=100)</th>\n",
       "      <th rowspan=\"2\" valign=\"top\">t=880606923</th>\n",
       "      <th>PrecisionK_100</th>\n",
       "      <td>0.061067</td>\n",
       "      <td>75</td>\n",
       "    </tr>\n",
       "    <tr>\n",
       "      <th>RecallK_100</th>\n",
       "      <td>0.238028</td>\n",
       "      <td>75</td>\n",
       "    </tr>\n",
       "    <tr>\n",
       "      <th rowspan=\"2\" valign=\"top\">t=883198923</th>\n",
       "      <th>PrecisionK_100</th>\n",
       "      <td>0.041596</td>\n",
       "      <td>94</td>\n",
       "    </tr>\n",
       "    <tr>\n",
       "      <th>RecallK_100</th>\n",
       "      <td>0.145339</td>\n",
       "      <td>94</td>\n",
       "    </tr>\n",
       "    <tr>\n",
       "      <th rowspan=\"2\" valign=\"top\">t=885790923</th>\n",
       "      <th>PrecisionK_100</th>\n",
       "      <td>0.031000</td>\n",
       "      <td>90</td>\n",
       "    </tr>\n",
       "    <tr>\n",
       "      <th>RecallK_100</th>\n",
       "      <td>0.155420</td>\n",
       "      <td>90</td>\n",
       "    </tr>\n",
       "    <tr>\n",
       "      <th rowspan=\"2\" valign=\"top\">t=888382923</th>\n",
       "      <th>PrecisionK_100</th>\n",
       "      <td>0.041765</td>\n",
       "      <td>102</td>\n",
       "    </tr>\n",
       "    <tr>\n",
       "      <th>RecallK_100</th>\n",
       "      <td>0.139082</td>\n",
       "      <td>102</td>\n",
       "    </tr>\n",
       "    <tr>\n",
       "      <th rowspan=\"2\" valign=\"top\">t=890974923</th>\n",
       "      <th>PrecisionK_100</th>\n",
       "      <td>0.037532</td>\n",
       "      <td>77</td>\n",
       "    </tr>\n",
       "    <tr>\n",
       "      <th>RecallK_100</th>\n",
       "      <td>0.152248</td>\n",
       "      <td>77</td>\n",
       "    </tr>\n",
       "    <tr>\n",
       "      <th rowspan=\"10\" valign=\"top\">Random(K=100,seed=42)</th>\n",
       "      <th rowspan=\"2\" valign=\"top\">t=880606923</th>\n",
       "      <th>PrecisionK_100</th>\n",
       "      <td>0.009733</td>\n",
       "      <td>75</td>\n",
       "    </tr>\n",
       "    <tr>\n",
       "      <th>RecallK_100</th>\n",
       "      <td>0.015962</td>\n",
       "      <td>75</td>\n",
       "    </tr>\n",
       "    <tr>\n",
       "      <th rowspan=\"2\" valign=\"top\">t=883198923</th>\n",
       "      <th>PrecisionK_100</th>\n",
       "      <td>0.004574</td>\n",
       "      <td>94</td>\n",
       "    </tr>\n",
       "    <tr>\n",
       "      <th>RecallK_100</th>\n",
       "      <td>0.008352</td>\n",
       "      <td>94</td>\n",
       "    </tr>\n",
       "    <tr>\n",
       "      <th rowspan=\"2\" valign=\"top\">t=885790923</th>\n",
       "      <th>PrecisionK_100</th>\n",
       "      <td>0.004667</td>\n",
       "      <td>90</td>\n",
       "    </tr>\n",
       "    <tr>\n",
       "      <th>RecallK_100</th>\n",
       "      <td>0.009559</td>\n",
       "      <td>90</td>\n",
       "    </tr>\n",
       "    <tr>\n",
       "      <th rowspan=\"2\" valign=\"top\">t=888382923</th>\n",
       "      <th>PrecisionK_100</th>\n",
       "      <td>0.007451</td>\n",
       "      <td>102</td>\n",
       "    </tr>\n",
       "    <tr>\n",
       "      <th>RecallK_100</th>\n",
       "      <td>0.010914</td>\n",
       "      <td>102</td>\n",
       "    </tr>\n",
       "    <tr>\n",
       "      <th rowspan=\"2\" valign=\"top\">t=890974923</th>\n",
       "      <th>PrecisionK_100</th>\n",
       "      <td>0.005974</td>\n",
       "      <td>77</td>\n",
       "    </tr>\n",
       "    <tr>\n",
       "      <th>RecallK_100</th>\n",
       "      <td>0.009607</td>\n",
       "      <td>77</td>\n",
       "    </tr>\n",
       "    <tr>\n",
       "      <th rowspan=\"10\" valign=\"top\">Popularity(K=100)</th>\n",
       "      <th rowspan=\"2\" valign=\"top\">t=880606923</th>\n",
       "      <th>PrecisionK_100</th>\n",
       "      <td>0.059200</td>\n",
       "      <td>75</td>\n",
       "    </tr>\n",
       "    <tr>\n",
       "      <th>RecallK_100</th>\n",
       "      <td>0.232054</td>\n",
       "      <td>75</td>\n",
       "    </tr>\n",
       "    <tr>\n",
       "      <th rowspan=\"2\" valign=\"top\">t=883198923</th>\n",
       "      <th>PrecisionK_100</th>\n",
       "      <td>0.043723</td>\n",
       "      <td>94</td>\n",
       "    </tr>\n",
       "    <tr>\n",
       "      <th>RecallK_100</th>\n",
       "      <td>0.206262</td>\n",
       "      <td>94</td>\n",
       "    </tr>\n",
       "    <tr>\n",
       "      <th rowspan=\"2\" valign=\"top\">t=885790923</th>\n",
       "      <th>PrecisionK_100</th>\n",
       "      <td>0.041000</td>\n",
       "      <td>90</td>\n",
       "    </tr>\n",
       "    <tr>\n",
       "      <th>RecallK_100</th>\n",
       "      <td>0.290002</td>\n",
       "      <td>90</td>\n",
       "    </tr>\n",
       "    <tr>\n",
       "      <th rowspan=\"2\" valign=\"top\">t=888382923</th>\n",
       "      <th>PrecisionK_100</th>\n",
       "      <td>0.050784</td>\n",
       "      <td>102</td>\n",
       "    </tr>\n",
       "    <tr>\n",
       "      <th>RecallK_100</th>\n",
       "      <td>0.306311</td>\n",
       "      <td>102</td>\n",
       "    </tr>\n",
       "    <tr>\n",
       "      <th rowspan=\"2\" valign=\"top\">t=890974923</th>\n",
       "      <th>PrecisionK_100</th>\n",
       "      <td>0.045325</td>\n",
       "      <td>77</td>\n",
       "    </tr>\n",
       "    <tr>\n",
       "      <th>RecallK_100</th>\n",
       "      <td>0.390238</td>\n",
       "      <td>77</td>\n",
       "    </tr>\n",
       "  </tbody>\n",
       "</table>\n",
       "</div>"
      ],
      "text/plain": [
       "                                                         score  num_user\n",
       "Algorithm                 Timestamp   Metric                            \n",
       "ItemKNNStatic(K=100)      t=880606923 PrecisionK_100  0.061067        75\n",
       "                                      RecallK_100     0.238028        75\n",
       "                          t=883198923 PrecisionK_100  0.041170        94\n",
       "                                      RecallK_100     0.149700        94\n",
       "                          t=885790923 PrecisionK_100  0.028556        90\n",
       "                                      RecallK_100     0.149462        90\n",
       "                          t=888382923 PrecisionK_100  0.041176       102\n",
       "                                      RecallK_100     0.132315       102\n",
       "                          t=890974923 PrecisionK_100  0.032468        77\n",
       "                                      RecallK_100     0.141610        77\n",
       "ItemKNNRolling(K=100)     t=880606923 PrecisionK_100  0.061067        75\n",
       "                                      RecallK_100     0.238028        75\n",
       "                          t=883198923 PrecisionK_100  0.041170        94\n",
       "                                      RecallK_100     0.149700        94\n",
       "                          t=885790923 PrecisionK_100  0.028556        90\n",
       "                                      RecallK_100     0.149462        90\n",
       "                          t=888382923 PrecisionK_100  0.041176       102\n",
       "                                      RecallK_100     0.132315       102\n",
       "                          t=890974923 PrecisionK_100  0.032468        77\n",
       "                                      RecallK_100     0.141610        77\n",
       "ItemKNNIncremental(K=100) t=880606923 PrecisionK_100  0.061067        75\n",
       "                                      RecallK_100     0.238028        75\n",
       "                          t=883198923 PrecisionK_100  0.041596        94\n",
       "                                      RecallK_100     0.145339        94\n",
       "                          t=885790923 PrecisionK_100  0.031000        90\n",
       "                                      RecallK_100     0.155420        90\n",
       "                          t=888382923 PrecisionK_100  0.041765       102\n",
       "                                      RecallK_100     0.139082       102\n",
       "                          t=890974923 PrecisionK_100  0.037532        77\n",
       "                                      RecallK_100     0.152248        77\n",
       "Random(K=100,seed=42)     t=880606923 PrecisionK_100  0.009733        75\n",
       "                                      RecallK_100     0.015962        75\n",
       "                          t=883198923 PrecisionK_100  0.004574        94\n",
       "                                      RecallK_100     0.008352        94\n",
       "                          t=885790923 PrecisionK_100  0.004667        90\n",
       "                                      RecallK_100     0.009559        90\n",
       "                          t=888382923 PrecisionK_100  0.007451       102\n",
       "                                      RecallK_100     0.010914       102\n",
       "                          t=890974923 PrecisionK_100  0.005974        77\n",
       "                                      RecallK_100     0.009607        77\n",
       "Popularity(K=100)         t=880606923 PrecisionK_100  0.059200        75\n",
       "                                      RecallK_100     0.232054        75\n",
       "                          t=883198923 PrecisionK_100  0.043723        94\n",
       "                                      RecallK_100     0.206262        94\n",
       "                          t=885790923 PrecisionK_100  0.041000        90\n",
       "                                      RecallK_100     0.290002        90\n",
       "                          t=888382923 PrecisionK_100  0.050784       102\n",
       "                                      RecallK_100     0.306311       102\n",
       "                          t=890974923 PrecisionK_100  0.045325        77\n",
       "                                      RecallK_100     0.390238        77"
      ]
     },
     "execution_count": 5,
     "metadata": {},
     "output_type": "execute_result"
    }
   ],
   "source": [
    "evaluator.metric_results(level=\"micro\")"
   ]
  },
  {
   "cell_type": "code",
   "execution_count": 4,
   "metadata": {},
   "outputs": [
    {
     "name": "stdout",
     "output_type": "stream",
     "text": [
      "\u001b[32mINFO    \u001b[0m - streamsight.datasets.base - \u001b[34mMovieLens100K is loading dataset...\u001b[0m\n",
      "\u001b[32mINFO    \u001b[0m - streamsight.datasets.base - \u001b[34mMovieLens100K dataset loaded - Took 0.07s\u001b[0m\n",
      "\u001b[32mINFO    \u001b[0m - streamsight.settings.base - \u001b[34mSplitting data...\u001b[0m\n"
     ]
    },
    {
     "name": "stderr",
     "output_type": "stream",
     "text": [
      "15it [00:00, 284.42it/s]              "
     ]
    },
    {
     "name": "stdout",
     "output_type": "stream",
     "text": [
      "\u001b[32mINFO    \u001b[0m - streamsight.settings.sliding_window_setting - \u001b[34mFinished split with window size 864000 seconds. Number of splits: 16 in total.\u001b[0m\n",
      "\u001b[32mINFO    \u001b[0m - streamsight.evaluators.evaluator_pipeline - \u001b[34mPhase 1: Preparing the evaluator...\u001b[0m\n",
      "\u001b[32mINFO    \u001b[0m - streamsight.algorithms.base - \u001b[34mFitting ItemKNNStatic complete - Took 0.109s\u001b[0m\n"
     ]
    },
    {
     "name": "stderr",
     "output_type": "stream",
     "text": [
      "\n"
     ]
    },
    {
     "name": "stdout",
     "output_type": "stream",
     "text": [
      "\u001b[32mINFO    \u001b[0m - streamsight.algorithms.base - \u001b[34mFitting ItemKNNRolling complete - Took 0.101s\u001b[0m\n",
      "\u001b[32mINFO    \u001b[0m - streamsight.algorithms.itemknn_incremental - \u001b[34mUpdated historical data for ItemKNNIncremental - Took 0.000165s\u001b[0m\n",
      "\u001b[32mINFO    \u001b[0m - streamsight.algorithms.base - \u001b[34mFitting ItemKNNIncremental complete - Took 0.102s\u001b[0m\n",
      "\u001b[32mINFO    \u001b[0m - streamsight.algorithms.base - \u001b[34mFitting Random complete - Took 0.00193s\u001b[0m\n",
      "\u001b[32mINFO    \u001b[0m - streamsight.algorithms.base - \u001b[34mFitting Popularity complete - Took 0.0028s\u001b[0m\n",
      "\u001b[32mINFO    \u001b[0m - streamsight.settings.base - \u001b[34mResetting data generators.\u001b[0m\n",
      "\u001b[32mINFO    \u001b[0m - streamsight.settings.base - \u001b[34mData generators are reset.\u001b[0m\n"
     ]
    },
    {
     "name": "stderr",
     "output_type": "stream",
     "text": [
      "  0%|          | 0/15 [00:00<?, ?it/s]"
     ]
    },
    {
     "name": "stdout",
     "output_type": "stream",
     "text": [
      "\u001b[32mINFO    \u001b[0m - streamsight.evaluators.evaluator_pipeline - \u001b[34mPhase 2: Evaluating the algorithms...\u001b[0m\n",
      "\u001b[32mINFO    \u001b[0m - streamsight.evaluators.evaluator_pipeline - \u001b[34mPhase 3: Releasing the data...\u001b[0m\n",
      "\u001b[32mINFO    \u001b[0m - streamsight.algorithms.base - \u001b[34mFitting ItemKNNStatic complete - Took 0.0565s\u001b[0m\n",
      "\u001b[32mINFO    \u001b[0m - streamsight.algorithms.base - \u001b[34mFitting ItemKNNRolling complete - Took 0.0606s\u001b[0m\n",
      "\u001b[32mINFO    \u001b[0m - streamsight.algorithms.itemknn_incremental - \u001b[34mUpdated historical data for ItemKNNIncremental - Took 0.000686s\u001b[0m\n",
      "\u001b[32mINFO    \u001b[0m - streamsight.algorithms.base - \u001b[34mFitting ItemKNNIncremental complete - Took 0.105s\u001b[0m\n",
      "\u001b[32mINFO    \u001b[0m - streamsight.algorithms.base - \u001b[34mFitting Random complete - Took 0.000897s\u001b[0m\n",
      "\u001b[32mINFO    \u001b[0m - streamsight.algorithms.base - \u001b[34mFitting Popularity complete - Took 0.00115s\u001b[0m\n"
     ]
    },
    {
     "name": "stderr",
     "output_type": "stream",
     "text": [
      "  7%|▋         | 1/15 [00:00<00:04,  3.36it/s]"
     ]
    },
    {
     "name": "stdout",
     "output_type": "stream",
     "text": [
      "\u001b[32mINFO    \u001b[0m - streamsight.evaluators.evaluator_pipeline - \u001b[34mPhase 2: Evaluating the algorithms...\u001b[0m\n",
      "\u001b[32mINFO    \u001b[0m - streamsight.evaluators.evaluator_pipeline - \u001b[34mPhase 3: Releasing the data...\u001b[0m\n",
      "\u001b[32mINFO    \u001b[0m - streamsight.algorithms.base - \u001b[34mFitting ItemKNNStatic complete - Took 0.0539s\u001b[0m\n",
      "\u001b[32mINFO    \u001b[0m - streamsight.algorithms.base - \u001b[34mFitting ItemKNNRolling complete - Took 0.0498s\u001b[0m\n",
      "\u001b[32mINFO    \u001b[0m - streamsight.algorithms.itemknn_incremental - \u001b[34mUpdated historical data for ItemKNNIncremental - Took 0.00123s\u001b[0m\n",
      "\u001b[32mINFO    \u001b[0m - streamsight.algorithms.base - \u001b[34mFitting ItemKNNIncremental complete - Took 0.105s\u001b[0m\n",
      "\u001b[32mINFO    \u001b[0m - streamsight.algorithms.base - \u001b[34mFitting Random complete - Took 0.000581s\u001b[0m\n",
      "\u001b[32mINFO    \u001b[0m - streamsight.algorithms.base - \u001b[34mFitting Popularity complete - Took 0.000853s\u001b[0m\n"
     ]
    },
    {
     "name": "stderr",
     "output_type": "stream",
     "text": [
      " 13%|█▎        | 2/15 [00:00<00:03,  3.51it/s]"
     ]
    },
    {
     "name": "stdout",
     "output_type": "stream",
     "text": [
      "\u001b[32mINFO    \u001b[0m - streamsight.evaluators.evaluator_pipeline - \u001b[34mPhase 2: Evaluating the algorithms...\u001b[0m\n",
      "\u001b[32mINFO    \u001b[0m - streamsight.evaluators.evaluator_pipeline - \u001b[34mPhase 3: Releasing the data...\u001b[0m\n",
      "\u001b[32mINFO    \u001b[0m - streamsight.algorithms.base - \u001b[34mFitting ItemKNNStatic complete - Took 0.0669s\u001b[0m\n",
      "\u001b[32mINFO    \u001b[0m - streamsight.algorithms.base - \u001b[34mFitting ItemKNNRolling complete - Took 0.0681s\u001b[0m\n",
      "\u001b[32mINFO    \u001b[0m - streamsight.algorithms.itemknn_incremental - \u001b[34mUpdated historical data for ItemKNNIncremental - Took 0.00101s\u001b[0m\n",
      "\u001b[32mINFO    \u001b[0m - streamsight.algorithms.base - \u001b[34mFitting ItemKNNIncremental complete - Took 0.109s\u001b[0m\n",
      "\u001b[32mINFO    \u001b[0m - streamsight.algorithms.base - \u001b[34mFitting Random complete - Took 0.000663s\u001b[0m\n",
      "\u001b[32mINFO    \u001b[0m - streamsight.algorithms.base - \u001b[34mFitting Popularity complete - Took 0.00125s\u001b[0m\n"
     ]
    },
    {
     "name": "stderr",
     "output_type": "stream",
     "text": [
      " 20%|██        | 3/15 [00:00<00:03,  3.40it/s]"
     ]
    },
    {
     "name": "stdout",
     "output_type": "stream",
     "text": [
      "\u001b[32mINFO    \u001b[0m - streamsight.evaluators.evaluator_pipeline - \u001b[34mPhase 2: Evaluating the algorithms...\u001b[0m\n",
      "\u001b[32mINFO    \u001b[0m - streamsight.evaluators.evaluator_pipeline - \u001b[34mPhase 3: Releasing the data...\u001b[0m\n",
      "\u001b[32mINFO    \u001b[0m - streamsight.algorithms.base - \u001b[34mFitting ItemKNNStatic complete - Took 0.0625s\u001b[0m\n",
      "\u001b[32mINFO    \u001b[0m - streamsight.algorithms.base - \u001b[34mFitting ItemKNNRolling complete - Took 0.0623s\u001b[0m\n",
      "\u001b[32mINFO    \u001b[0m - streamsight.algorithms.itemknn_incremental - \u001b[34mUpdated historical data for ItemKNNIncremental - Took 0.000636s\u001b[0m\n",
      "\u001b[32mINFO    \u001b[0m - streamsight.algorithms.base - \u001b[34mFitting ItemKNNIncremental complete - Took 0.114s\u001b[0m\n",
      "\u001b[32mINFO    \u001b[0m - streamsight.algorithms.base - \u001b[34mFitting Random complete - Took 0.000688s\u001b[0m\n",
      "\u001b[32mINFO    \u001b[0m - streamsight.algorithms.base - \u001b[34mFitting Popularity complete - Took 0.00166s\u001b[0m\n"
     ]
    },
    {
     "name": "stderr",
     "output_type": "stream",
     "text": [
      " 27%|██▋       | 4/15 [00:01<00:03,  3.29it/s]"
     ]
    },
    {
     "name": "stdout",
     "output_type": "stream",
     "text": [
      "\u001b[32mINFO    \u001b[0m - streamsight.evaluators.evaluator_pipeline - \u001b[34mPhase 2: Evaluating the algorithms...\u001b[0m\n",
      "\u001b[32mINFO    \u001b[0m - streamsight.evaluators.evaluator_pipeline - \u001b[34mPhase 3: Releasing the data...\u001b[0m\n",
      "\u001b[32mINFO    \u001b[0m - streamsight.algorithms.base - \u001b[34mFitting ItemKNNStatic complete - Took 0.0627s\u001b[0m\n",
      "\u001b[32mINFO    \u001b[0m - streamsight.algorithms.base - \u001b[34mFitting ItemKNNRolling complete - Took 0.0631s\u001b[0m\n",
      "\u001b[32mINFO    \u001b[0m - streamsight.algorithms.itemknn_incremental - \u001b[34mUpdated historical data for ItemKNNIncremental - Took 0.000902s\u001b[0m\n",
      "\u001b[32mINFO    \u001b[0m - streamsight.algorithms.base - \u001b[34mFitting ItemKNNIncremental complete - Took 0.116s\u001b[0m\n",
      "\u001b[32mINFO    \u001b[0m - streamsight.algorithms.base - \u001b[34mFitting Random complete - Took 0.00125s\u001b[0m\n",
      "\u001b[32mINFO    \u001b[0m - streamsight.algorithms.base - \u001b[34mFitting Popularity complete - Took 0.000714s\u001b[0m\n"
     ]
    },
    {
     "name": "stderr",
     "output_type": "stream",
     "text": [
      " 33%|███▎      | 5/15 [00:01<00:03,  3.07it/s]"
     ]
    },
    {
     "name": "stdout",
     "output_type": "stream",
     "text": [
      "\u001b[32mINFO    \u001b[0m - streamsight.evaluators.evaluator_pipeline - \u001b[34mPhase 2: Evaluating the algorithms...\u001b[0m\n",
      "\u001b[32mINFO    \u001b[0m - streamsight.evaluators.evaluator_pipeline - \u001b[34mPhase 3: Releasing the data...\u001b[0m\n",
      "\u001b[32mINFO    \u001b[0m - streamsight.algorithms.base - \u001b[34mFitting ItemKNNStatic complete - Took 0.0632s\u001b[0m\n",
      "\u001b[32mINFO    \u001b[0m - streamsight.algorithms.base - \u001b[34mFitting ItemKNNRolling complete - Took 0.0647s\u001b[0m\n",
      "\u001b[32mINFO    \u001b[0m - streamsight.algorithms.itemknn_incremental - \u001b[34mUpdated historical data for ItemKNNIncremental - Took 0.000702s\u001b[0m\n",
      "\u001b[32mINFO    \u001b[0m - streamsight.algorithms.base - \u001b[34mFitting ItemKNNIncremental complete - Took 0.122s\u001b[0m\n",
      "\u001b[32mINFO    \u001b[0m - streamsight.algorithms.base - \u001b[34mFitting Random complete - Took 0.00068s\u001b[0m\n",
      "\u001b[32mINFO    \u001b[0m - streamsight.algorithms.base - \u001b[34mFitting Popularity complete - Took 0.00104s\u001b[0m\n"
     ]
    },
    {
     "name": "stderr",
     "output_type": "stream",
     "text": [
      " 40%|████      | 6/15 [00:01<00:02,  3.07it/s]"
     ]
    },
    {
     "name": "stdout",
     "output_type": "stream",
     "text": [
      "\u001b[32mINFO    \u001b[0m - streamsight.evaluators.evaluator_pipeline - \u001b[34mPhase 2: Evaluating the algorithms...\u001b[0m\n",
      "\u001b[32mINFO    \u001b[0m - streamsight.evaluators.evaluator_pipeline - \u001b[34mPhase 3: Releasing the data...\u001b[0m\n",
      "\u001b[32mINFO    \u001b[0m - streamsight.algorithms.base - \u001b[34mFitting ItemKNNStatic complete - Took 0.0696s\u001b[0m\n",
      "\u001b[32mINFO    \u001b[0m - streamsight.algorithms.base - \u001b[34mFitting ItemKNNRolling complete - Took 0.0645s\u001b[0m\n",
      "\u001b[32mINFO    \u001b[0m - streamsight.algorithms.itemknn_incremental - \u001b[34mUpdated historical data for ItemKNNIncremental - Took 0.000777s\u001b[0m\n",
      "\u001b[32mINFO    \u001b[0m - streamsight.algorithms.base - \u001b[34mFitting ItemKNNIncremental complete - Took 0.126s\u001b[0m\n",
      "\u001b[32mINFO    \u001b[0m - streamsight.algorithms.base - \u001b[34mFitting Random complete - Took 0.000733s\u001b[0m\n",
      "\u001b[32mINFO    \u001b[0m - streamsight.algorithms.base - \u001b[34mFitting Popularity complete - Took 0.00122s\u001b[0m\n"
     ]
    },
    {
     "name": "stderr",
     "output_type": "stream",
     "text": [
      " 47%|████▋     | 7/15 [00:02<00:02,  3.02it/s]"
     ]
    },
    {
     "name": "stdout",
     "output_type": "stream",
     "text": [
      "\u001b[32mINFO    \u001b[0m - streamsight.evaluators.evaluator_pipeline - \u001b[34mPhase 2: Evaluating the algorithms...\u001b[0m\n",
      "\u001b[32mINFO    \u001b[0m - streamsight.evaluators.evaluator_pipeline - \u001b[34mPhase 3: Releasing the data...\u001b[0m\n",
      "\u001b[32mINFO    \u001b[0m - streamsight.algorithms.base - \u001b[34mFitting ItemKNNStatic complete - Took 0.0466s\u001b[0m\n",
      "\u001b[32mINFO    \u001b[0m - streamsight.algorithms.base - \u001b[34mFitting ItemKNNRolling complete - Took 0.0484s\u001b[0m\n",
      "\u001b[32mINFO    \u001b[0m - streamsight.algorithms.itemknn_incremental - \u001b[34mUpdated historical data for ItemKNNIncremental - Took 0.000783s\u001b[0m\n",
      "\u001b[32mINFO    \u001b[0m - streamsight.algorithms.base - \u001b[34mFitting ItemKNNIncremental complete - Took 0.128s\u001b[0m\n",
      "\u001b[32mINFO    \u001b[0m - streamsight.algorithms.base - \u001b[34mFitting Random complete - Took 0.000589s\u001b[0m\n",
      "\u001b[32mINFO    \u001b[0m - streamsight.algorithms.base - \u001b[34mFitting Popularity complete - Took 0.000941s\u001b[0m\n"
     ]
    },
    {
     "name": "stderr",
     "output_type": "stream",
     "text": [
      " 53%|█████▎    | 8/15 [00:02<00:02,  3.16it/s]"
     ]
    },
    {
     "name": "stdout",
     "output_type": "stream",
     "text": [
      "\u001b[32mINFO    \u001b[0m - streamsight.evaluators.evaluator_pipeline - \u001b[34mPhase 2: Evaluating the algorithms...\u001b[0m\n",
      "\u001b[32mINFO    \u001b[0m - streamsight.evaluators.evaluator_pipeline - \u001b[34mPhase 3: Releasing the data...\u001b[0m\n",
      "\u001b[32mINFO    \u001b[0m - streamsight.algorithms.base - \u001b[34mFitting ItemKNNStatic complete - Took 0.0683s\u001b[0m\n",
      "\u001b[32mINFO    \u001b[0m - streamsight.algorithms.base - \u001b[34mFitting ItemKNNRolling complete - Took 0.068s\u001b[0m\n",
      "\u001b[32mINFO    \u001b[0m - streamsight.algorithms.itemknn_incremental - \u001b[34mUpdated historical data for ItemKNNIncremental - Took 0.00152s\u001b[0m\n",
      "\u001b[32mINFO    \u001b[0m - streamsight.algorithms.base - \u001b[34mFitting ItemKNNIncremental complete - Took 0.144s\u001b[0m\n",
      "\u001b[32mINFO    \u001b[0m - streamsight.algorithms.base - \u001b[34mFitting Random complete - Took 0.00124s\u001b[0m\n",
      "\u001b[32mINFO    \u001b[0m - streamsight.algorithms.base - \u001b[34mFitting Popularity complete - Took 0.00104s\u001b[0m\n"
     ]
    },
    {
     "name": "stderr",
     "output_type": "stream",
     "text": [
      " 60%|██████    | 9/15 [00:02<00:01,  3.05it/s]"
     ]
    },
    {
     "name": "stdout",
     "output_type": "stream",
     "text": [
      "\u001b[32mINFO    \u001b[0m - streamsight.evaluators.evaluator_pipeline - \u001b[34mPhase 2: Evaluating the algorithms...\u001b[0m\n",
      "\u001b[32mINFO    \u001b[0m - streamsight.evaluators.evaluator_pipeline - \u001b[34mPhase 3: Releasing the data...\u001b[0m\n",
      "\u001b[32mINFO    \u001b[0m - streamsight.algorithms.base - \u001b[34mFitting ItemKNNStatic complete - Took 0.0643s\u001b[0m\n",
      "\u001b[32mINFO    \u001b[0m - streamsight.algorithms.base - \u001b[34mFitting ItemKNNRolling complete - Took 0.0651s\u001b[0m\n",
      "\u001b[32mINFO    \u001b[0m - streamsight.algorithms.itemknn_incremental - \u001b[34mUpdated historical data for ItemKNNIncremental - Took 0.00114s\u001b[0m\n",
      "\u001b[32mINFO    \u001b[0m - streamsight.algorithms.base - \u001b[34mFitting ItemKNNIncremental complete - Took 0.134s\u001b[0m\n",
      "\u001b[32mINFO    \u001b[0m - streamsight.algorithms.base - \u001b[34mFitting Random complete - Took 0.000752s\u001b[0m\n",
      "\u001b[32mINFO    \u001b[0m - streamsight.algorithms.base - \u001b[34mFitting Popularity complete - Took 0.000646s\u001b[0m\n"
     ]
    },
    {
     "name": "stderr",
     "output_type": "stream",
     "text": [
      " 67%|██████▋   | 10/15 [00:03<00:01,  2.97it/s]"
     ]
    },
    {
     "name": "stdout",
     "output_type": "stream",
     "text": [
      "\u001b[32mINFO    \u001b[0m - streamsight.evaluators.evaluator_pipeline - \u001b[34mPhase 2: Evaluating the algorithms...\u001b[0m\n",
      "\u001b[32mINFO    \u001b[0m - streamsight.evaluators.evaluator_pipeline - \u001b[34mPhase 3: Releasing the data...\u001b[0m\n",
      "\u001b[32mINFO    \u001b[0m - streamsight.algorithms.base - \u001b[34mFitting ItemKNNStatic complete - Took 0.049s\u001b[0m\n",
      "\u001b[32mINFO    \u001b[0m - streamsight.algorithms.base - \u001b[34mFitting ItemKNNRolling complete - Took 0.0498s\u001b[0m\n",
      "\u001b[32mINFO    \u001b[0m - streamsight.algorithms.itemknn_incremental - \u001b[34mUpdated historical data for ItemKNNIncremental - Took 0.00118s\u001b[0m\n",
      "\u001b[32mINFO    \u001b[0m - streamsight.algorithms.base - \u001b[34mFitting ItemKNNIncremental complete - Took 0.135s\u001b[0m\n",
      "\u001b[32mINFO    \u001b[0m - streamsight.algorithms.base - \u001b[34mFitting Random complete - Took 0.000665s\u001b[0m\n",
      "\u001b[32mINFO    \u001b[0m - streamsight.algorithms.base - \u001b[34mFitting Popularity complete - Took 0.000718s\u001b[0m\n"
     ]
    },
    {
     "name": "stderr",
     "output_type": "stream",
     "text": [
      " 73%|███████▎  | 11/15 [00:03<00:01,  3.05it/s]"
     ]
    },
    {
     "name": "stdout",
     "output_type": "stream",
     "text": [
      "\u001b[32mINFO    \u001b[0m - streamsight.evaluators.evaluator_pipeline - \u001b[34mPhase 2: Evaluating the algorithms...\u001b[0m\n",
      "\u001b[32mINFO    \u001b[0m - streamsight.evaluators.evaluator_pipeline - \u001b[34mPhase 3: Releasing the data...\u001b[0m\n",
      "\u001b[32mINFO    \u001b[0m - streamsight.algorithms.base - \u001b[34mFitting ItemKNNStatic complete - Took 0.0458s\u001b[0m\n",
      "\u001b[32mINFO    \u001b[0m - streamsight.algorithms.base - \u001b[34mFitting ItemKNNRolling complete - Took 0.0373s\u001b[0m\n",
      "\u001b[32mINFO    \u001b[0m - streamsight.algorithms.itemknn_incremental - \u001b[34mUpdated historical data for ItemKNNIncremental - Took 0.00152s\u001b[0m\n",
      "\u001b[32mINFO    \u001b[0m - streamsight.algorithms.base - \u001b[34mFitting ItemKNNIncremental complete - Took 0.136s\u001b[0m\n",
      "\u001b[32mINFO    \u001b[0m - streamsight.algorithms.base - \u001b[34mFitting Random complete - Took 0.000553s\u001b[0m\n",
      "\u001b[32mINFO    \u001b[0m - streamsight.algorithms.base - \u001b[34mFitting Popularity complete - Took 0.000911s\u001b[0m\n"
     ]
    },
    {
     "name": "stderr",
     "output_type": "stream",
     "text": [
      " 80%|████████  | 12/15 [00:03<00:00,  3.19it/s]"
     ]
    },
    {
     "name": "stdout",
     "output_type": "stream",
     "text": [
      "\u001b[32mINFO    \u001b[0m - streamsight.evaluators.evaluator_pipeline - \u001b[34mPhase 2: Evaluating the algorithms...\u001b[0m\n",
      "\u001b[32mINFO    \u001b[0m - streamsight.evaluators.evaluator_pipeline - \u001b[34mPhase 3: Releasing the data...\u001b[0m\n",
      "\u001b[32mINFO    \u001b[0m - streamsight.algorithms.base - \u001b[34mFitting ItemKNNStatic complete - Took 0.0773s\u001b[0m\n",
      "\u001b[32mINFO    \u001b[0m - streamsight.algorithms.base - \u001b[34mFitting ItemKNNRolling complete - Took 0.0798s\u001b[0m\n",
      "\u001b[32mINFO    \u001b[0m - streamsight.algorithms.itemknn_incremental - \u001b[34mUpdated historical data for ItemKNNIncremental - Took 0.000963s\u001b[0m\n",
      "\u001b[32mINFO    \u001b[0m - streamsight.algorithms.base - \u001b[34mFitting ItemKNNIncremental complete - Took 0.144s\u001b[0m\n",
      "\u001b[32mINFO    \u001b[0m - streamsight.algorithms.base - \u001b[34mFitting Random complete - Took 0.0011s\u001b[0m\n",
      "\u001b[32mINFO    \u001b[0m - streamsight.algorithms.base - \u001b[34mFitting Popularity complete - Took 0.00153s\u001b[0m\n"
     ]
    },
    {
     "name": "stderr",
     "output_type": "stream",
     "text": [
      " 87%|████████▋ | 13/15 [00:04<00:00,  2.94it/s]"
     ]
    },
    {
     "name": "stdout",
     "output_type": "stream",
     "text": [
      "\u001b[32mINFO    \u001b[0m - streamsight.evaluators.evaluator_pipeline - \u001b[34mPhase 2: Evaluating the algorithms...\u001b[0m\n",
      "\u001b[32mINFO    \u001b[0m - streamsight.evaluators.evaluator_pipeline - \u001b[34mPhase 3: Releasing the data...\u001b[0m\n",
      "\u001b[32mINFO    \u001b[0m - streamsight.algorithms.base - \u001b[34mFitting ItemKNNStatic complete - Took 0.0477s\u001b[0m\n",
      "\u001b[32mINFO    \u001b[0m - streamsight.algorithms.base - \u001b[34mFitting ItemKNNRolling complete - Took 0.0473s\u001b[0m\n",
      "\u001b[32mINFO    \u001b[0m - streamsight.algorithms.itemknn_incremental - \u001b[34mUpdated historical data for ItemKNNIncremental - Took 0.00166s\u001b[0m\n",
      "\u001b[32mINFO    \u001b[0m - streamsight.algorithms.base - \u001b[34mFitting ItemKNNIncremental complete - Took 0.142s\u001b[0m\n",
      "\u001b[32mINFO    \u001b[0m - streamsight.algorithms.base - \u001b[34mFitting Random complete - Took 0.00068s\u001b[0m\n",
      "\u001b[32mINFO    \u001b[0m - streamsight.algorithms.base - \u001b[34mFitting Popularity complete - Took 0.000767s\u001b[0m\n"
     ]
    },
    {
     "name": "stderr",
     "output_type": "stream",
     "text": [
      " 93%|█████████▎| 14/15 [00:04<00:00,  3.00it/s]"
     ]
    },
    {
     "name": "stdout",
     "output_type": "stream",
     "text": [
      "\u001b[32mINFO    \u001b[0m - streamsight.evaluators.evaluator_pipeline - \u001b[34mPhase 2: Evaluating the algorithms...\u001b[0m\n",
      "\u001b[32mINFO    \u001b[0m - streamsight.evaluators.evaluator_pipeline - \u001b[34mPhase 3: Releasing the data...\u001b[0m\n",
      "\u001b[32mINFO    \u001b[0m - streamsight.algorithms.base - \u001b[34mFitting ItemKNNStatic complete - Took 0.0473s\u001b[0m\n",
      "\u001b[32mINFO    \u001b[0m - streamsight.algorithms.base - \u001b[34mFitting ItemKNNRolling complete - Took 0.0468s\u001b[0m\n",
      "\u001b[32mINFO    \u001b[0m - streamsight.algorithms.itemknn_incremental - \u001b[34mUpdated historical data for ItemKNNIncremental - Took 0.00218s\u001b[0m\n",
      "\u001b[32mINFO    \u001b[0m - streamsight.algorithms.base - \u001b[34mFitting ItemKNNIncremental complete - Took 0.144s\u001b[0m\n",
      "\u001b[32mINFO    \u001b[0m - streamsight.algorithms.base - \u001b[34mFitting Random complete - Took 0.000582s\u001b[0m\n",
      "\u001b[32mINFO    \u001b[0m - streamsight.algorithms.base - \u001b[34mFitting Popularity complete - Took 0.000996s\u001b[0m\n"
     ]
    },
    {
     "name": "stderr",
     "output_type": "stream",
     "text": [
      "100%|██████████| 15/15 [00:04<00:00,  3.10it/s]\n"
     ]
    },
    {
     "data": {
      "text/html": [
       "<div>\n",
       "<style scoped>\n",
       "    .dataframe tbody tr th:only-of-type {\n",
       "        vertical-align: middle;\n",
       "    }\n",
       "\n",
       "    .dataframe tbody tr th {\n",
       "        vertical-align: top;\n",
       "    }\n",
       "\n",
       "    .dataframe thead th {\n",
       "        text-align: right;\n",
       "    }\n",
       "</style>\n",
       "<table border=\"1\" class=\"dataframe\">\n",
       "  <thead>\n",
       "    <tr style=\"text-align: right;\">\n",
       "      <th></th>\n",
       "      <th></th>\n",
       "      <th>score</th>\n",
       "    </tr>\n",
       "    <tr>\n",
       "      <th>Algorithm</th>\n",
       "      <th>Metric</th>\n",
       "      <th></th>\n",
       "    </tr>\n",
       "  </thead>\n",
       "  <tbody>\n",
       "    <tr>\n",
       "      <th rowspan=\"2\" valign=\"top\">ItemKNNStatic(K=100)</th>\n",
       "      <th>PrecisionK_100</th>\n",
       "      <td>0.014519</td>\n",
       "    </tr>\n",
       "    <tr>\n",
       "      <th>RecallK_100</th>\n",
       "      <td>0.078756</td>\n",
       "    </tr>\n",
       "    <tr>\n",
       "      <th rowspan=\"2\" valign=\"top\">ItemKNNRolling(K=100)</th>\n",
       "      <th>PrecisionK_100</th>\n",
       "      <td>0.014519</td>\n",
       "    </tr>\n",
       "    <tr>\n",
       "      <th>RecallK_100</th>\n",
       "      <td>0.078756</td>\n",
       "    </tr>\n",
       "    <tr>\n",
       "      <th rowspan=\"2\" valign=\"top\">ItemKNNIncremental(K=100)</th>\n",
       "      <th>PrecisionK_100</th>\n",
       "      <td>0.018467</td>\n",
       "    </tr>\n",
       "    <tr>\n",
       "      <th>RecallK_100</th>\n",
       "      <td>0.087193</td>\n",
       "    </tr>\n",
       "    <tr>\n",
       "      <th rowspan=\"2\" valign=\"top\">Random(K=100,seed=42)</th>\n",
       "      <th>PrecisionK_100</th>\n",
       "      <td>0.013963</td>\n",
       "    </tr>\n",
       "    <tr>\n",
       "      <th>RecallK_100</th>\n",
       "      <td>0.019196</td>\n",
       "    </tr>\n",
       "    <tr>\n",
       "      <th rowspan=\"2\" valign=\"top\">Popularity(K=100)</th>\n",
       "      <th>PrecisionK_100</th>\n",
       "      <td>0.111597</td>\n",
       "    </tr>\n",
       "    <tr>\n",
       "      <th>RecallK_100</th>\n",
       "      <td>0.340820</td>\n",
       "    </tr>\n",
       "  </tbody>\n",
       "</table>\n",
       "</div>"
      ],
      "text/plain": [
       "                                             score\n",
       "Algorithm                 Metric                  \n",
       "ItemKNNStatic(K=100)      PrecisionK_100  0.014519\n",
       "                          RecallK_100     0.078756\n",
       "ItemKNNRolling(K=100)     PrecisionK_100  0.014519\n",
       "                          RecallK_100     0.078756\n",
       "ItemKNNIncremental(K=100) PrecisionK_100  0.018467\n",
       "                          RecallK_100     0.087193\n",
       "Random(K=100,seed=42)     PrecisionK_100  0.013963\n",
       "                          RecallK_100     0.019196\n",
       "Popularity(K=100)         PrecisionK_100  0.111597\n",
       "                          RecallK_100     0.340820"
      ]
     },
     "execution_count": 4,
     "metadata": {},
     "output_type": "execute_result"
    }
   ],
   "source": [
    "from streamsight.datasets import MovieLens100K\n",
    "from streamsight.settings import SlidingWindowSetting\n",
    "k=100\n",
    "\n",
    "dataset = MovieLens100K(use_default_filters=False)\n",
    "data = dataset.load()\n",
    "setting_sliding = SlidingWindowSetting(\n",
    "    background_t=880606923,\n",
    "    window_size=60 * 60 * 24 * 10, # day times N\n",
    "    n_seq_data=9999,\n",
    "    top_K=k\n",
    ")\n",
    "setting_sliding.split(data)\n",
    "\n",
    "from streamsight.evaluators import EvaluatorBuilder\n",
    "\n",
    "builder = EvaluatorBuilder(ignore_unknown_item=True,\n",
    "                           ignore_unknown_user=True)\n",
    "builder.add_setting(setting_sliding)\n",
    "\n",
    "builder.add_algorithm(\"ItemKNNStatic\", {\"K\": k})\n",
    "builder.add_algorithm(\"ItemKNNRolling\", {\"K\": k})\n",
    "builder.add_algorithm(\"ItemKNNIncremental\", {\"K\": k})\n",
    "builder.add_algorithm(\"Random\", {\"K\": k})\n",
    "builder.add_algorithm(\"Popularity\", {\"K\": k})\n",
    "\n",
    "builder.add_metric(\"PrecisionK\", K=k)\n",
    "builder.add_metric(\"RecallK\", K=k)\n",
    "evaluator = builder.build()\n",
    "\n",
    "evaluator.run()\n",
    "\n",
    "evaluator.metric_results(level=\"macro\")"
   ]
  }
 ],
 "metadata": {
  "kernelspec": {
   "display_name": ".venv",
   "language": "python",
   "name": "python3"
  },
  "language_info": {
   "codemirror_mode": {
    "name": "ipython",
    "version": 3
   },
   "file_extension": ".py",
   "mimetype": "text/x-python",
   "name": "python",
   "nbconvert_exporter": "python",
   "pygments_lexer": "ipython3",
   "version": "3.12.5"
  }
 },
 "nbformat": 4,
 "nbformat_minor": 2
}

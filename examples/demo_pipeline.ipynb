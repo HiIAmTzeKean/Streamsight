{
 "cells": [
  {
   "cell_type": "code",
   "execution_count": null,
   "metadata": {},
   "outputs": [],
   "source": [
    "k = 10"
   ]
  },
  {
   "cell_type": "code",
   "execution_count": null,
   "metadata": {},
   "outputs": [
    {
     "name": "stdout",
     "output_type": "stream",
     "text": [
      "\u001b[37mDEBUG   \u001b[0m - streamsight.datasets.base - \u001b[34mAmazonMovieDataset being initialized with 'data' as the base path.\u001b[0m\n",
      "\u001b[37mDEBUG   \u001b[0m - streamsight.datasets.base - \u001b[34mAmazonMovieDataset is initialized.\u001b[0m\n",
      "\u001b[32mINFO    \u001b[0m - streamsight.datasets.base - \u001b[34mAmazonMovieDataset is loading dataset...\u001b[0m\n",
      "\u001b[37mDEBUG   \u001b[0m - streamsight.datasets.base - \u001b[34mData file is in memory and in dir specified.\u001b[0m\n",
      "\u001b[37mDEBUG   \u001b[0m - streamsight.datasets.base - \u001b[34mAmazonMovieDataset applying filters set.\u001b[0m\n",
      "\u001b[37mDEBUG   \u001b[0m - streamsight.preprocessing.preprocessor - \u001b[34m\tinteractions before preprocess: 8765568\u001b[0m\n",
      "\u001b[37mDEBUG   \u001b[0m - streamsight.preprocessing.preprocessor - \u001b[34m\titems before preprocess: 182032\u001b[0m\n",
      "\u001b[37mDEBUG   \u001b[0m - streamsight.preprocessing.preprocessor - \u001b[34m\tusers before preprocess: 3826085\u001b[0m\n",
      "\u001b[37mDEBUG   \u001b[0m - streamsight.preprocessing.preprocessor - \u001b[34m\tinteractions after preprocess: 8765568\u001b[0m\n",
      "\u001b[37mDEBUG   \u001b[0m - streamsight.preprocessing.preprocessor - \u001b[34m\titems after preprocess: 182032\u001b[0m\n",
      "\u001b[37mDEBUG   \u001b[0m - streamsight.preprocessing.preprocessor - \u001b[34m\tusers after preprocess: 3826085\u001b[0m\n",
      "\u001b[32mINFO    \u001b[0m - streamsight.datasets.base - \u001b[34mAmazonMovieDataset dataset loaded - Took 12.6s\u001b[0m\n",
      "\u001b[32mINFO    \u001b[0m - streamsight.settings.base - \u001b[34mSplitting data...\u001b[0m\n",
      "\u001b[37mDEBUG   \u001b[0m - streamsight.matrix.interaction_matrix - \u001b[34mPerforming lt(t, 1406851200)\u001b[0m\n",
      "\u001b[37mDEBUG   \u001b[0m - streamsight.matrix.interaction_matrix - \u001b[34mPerforming ge(t, 1406851200)\u001b[0m\n",
      "\u001b[37mDEBUG   \u001b[0m - streamsight.settings.splitters - \u001b[34mTimestampSplitter(t=1406851200,t_lower=None,t_upper=None) - Split successful\u001b[0m\n"
     ]
    },
    {
     "name": "stderr",
     "output_type": "stream",
     "text": [
      "  0%|          | 0/5 [00:00<?, ?it/s]"
     ]
    },
    {
     "name": "stdout",
     "output_type": "stream",
     "text": [
      "\u001b[37mDEBUG   \u001b[0m - streamsight.settings.splitters - \u001b[34mNPastInteractionTimestampSplitter(t=1406851200,t_lower=None,t_upper=25920000,n_seq_data=3) - Updating split point to t=1406851200\u001b[0m\n",
      "\u001b[37mDEBUG   \u001b[0m - streamsight.matrix.interaction_matrix - \u001b[34mPerforming lt(t, 1432771200)\u001b[0m\n",
      "\u001b[37mDEBUG   \u001b[0m - streamsight.matrix.interaction_matrix - \u001b[34mPerforming ge(t, 1406851200)\u001b[0m\n",
      "\u001b[37mDEBUG   \u001b[0m - streamsight.matrix.interaction_matrix - \u001b[34mPerforming get_user_n_last_interaction comparison\u001b[0m\n",
      "\u001b[37mDEBUG   \u001b[0m - streamsight.settings.splitters - \u001b[34mNPastInteractionTimestampSplitter(t=1406851200,t_lower=None,t_upper=25920000,n_seq_data=3) - Split successful\u001b[0m\n"
     ]
    },
    {
     "name": "stderr",
     "output_type": "stream",
     "text": [
      " 20%|██        | 1/5 [00:00<00:02,  1.66it/s]"
     ]
    },
    {
     "name": "stdout",
     "output_type": "stream",
     "text": [
      "\u001b[37mDEBUG   \u001b[0m - streamsight.settings.splitters - \u001b[34mNPastInteractionTimestampSplitter(t=1406851200,t_lower=None,t_upper=25920000,n_seq_data=3) - Updating split point to t=1432771200\u001b[0m\n",
      "\u001b[37mDEBUG   \u001b[0m - streamsight.matrix.interaction_matrix - \u001b[34mPerforming lt(t, 1458691200)\u001b[0m\n",
      "\u001b[37mDEBUG   \u001b[0m - streamsight.matrix.interaction_matrix - \u001b[34mPerforming ge(t, 1432771200)\u001b[0m\n",
      "\u001b[37mDEBUG   \u001b[0m - streamsight.matrix.interaction_matrix - \u001b[34mPerforming get_user_n_last_interaction comparison\u001b[0m\n",
      "\u001b[37mDEBUG   \u001b[0m - streamsight.settings.splitters - \u001b[34mNPastInteractionTimestampSplitter(t=1432771200,t_lower=None,t_upper=25920000,n_seq_data=3) - Split successful\u001b[0m\n"
     ]
    },
    {
     "name": "stderr",
     "output_type": "stream",
     "text": [
      " 40%|████      | 2/5 [00:01<00:01,  1.65it/s]"
     ]
    },
    {
     "name": "stdout",
     "output_type": "stream",
     "text": [
      "\u001b[37mDEBUG   \u001b[0m - streamsight.settings.splitters - \u001b[34mNPastInteractionTimestampSplitter(t=1432771200,t_lower=None,t_upper=25920000,n_seq_data=3) - Updating split point to t=1458691200\u001b[0m\n",
      "\u001b[37mDEBUG   \u001b[0m - streamsight.matrix.interaction_matrix - \u001b[34mPerforming lt(t, 1484611200)\u001b[0m\n",
      "\u001b[37mDEBUG   \u001b[0m - streamsight.matrix.interaction_matrix - \u001b[34mPerforming ge(t, 1458691200)\u001b[0m\n",
      "\u001b[37mDEBUG   \u001b[0m - streamsight.matrix.interaction_matrix - \u001b[34mPerforming get_user_n_last_interaction comparison\u001b[0m\n",
      "\u001b[37mDEBUG   \u001b[0m - streamsight.settings.splitters - \u001b[34mNPastInteractionTimestampSplitter(t=1458691200,t_lower=None,t_upper=25920000,n_seq_data=3) - Split successful\u001b[0m\n"
     ]
    },
    {
     "name": "stderr",
     "output_type": "stream",
     "text": [
      " 60%|██████    | 3/5 [00:01<00:01,  1.54it/s]"
     ]
    },
    {
     "name": "stdout",
     "output_type": "stream",
     "text": [
      "\u001b[37mDEBUG   \u001b[0m - streamsight.settings.splitters - \u001b[34mNPastInteractionTimestampSplitter(t=1458691200,t_lower=None,t_upper=25920000,n_seq_data=3) - Updating split point to t=1484611200\u001b[0m\n",
      "\u001b[37mDEBUG   \u001b[0m - streamsight.matrix.interaction_matrix - \u001b[34mPerforming lt(t, 1510531200)\u001b[0m\n",
      "\u001b[37mDEBUG   \u001b[0m - streamsight.matrix.interaction_matrix - \u001b[34mPerforming ge(t, 1484611200)\u001b[0m\n",
      "\u001b[37mDEBUG   \u001b[0m - streamsight.matrix.interaction_matrix - \u001b[34mPerforming get_user_n_last_interaction comparison\u001b[0m\n",
      "\u001b[37mDEBUG   \u001b[0m - streamsight.settings.splitters - \u001b[34mNPastInteractionTimestampSplitter(t=1484611200,t_lower=None,t_upper=25920000,n_seq_data=3) - Split successful\u001b[0m\n"
     ]
    },
    {
     "name": "stderr",
     "output_type": "stream",
     "text": [
      " 80%|████████  | 4/5 [00:02<00:00,  1.75it/s]"
     ]
    },
    {
     "name": "stdout",
     "output_type": "stream",
     "text": [
      "\u001b[37mDEBUG   \u001b[0m - streamsight.settings.splitters - \u001b[34mNPastInteractionTimestampSplitter(t=1484611200,t_lower=None,t_upper=25920000,n_seq_data=3) - Updating split point to t=1510531200\u001b[0m\n",
      "\u001b[37mDEBUG   \u001b[0m - streamsight.matrix.interaction_matrix - \u001b[34mPerforming lt(t, 1536451200)\u001b[0m\n",
      "\u001b[37mDEBUG   \u001b[0m - streamsight.matrix.interaction_matrix - \u001b[34mPerforming ge(t, 1510531200)\u001b[0m\n",
      "\u001b[37mDEBUG   \u001b[0m - streamsight.matrix.interaction_matrix - \u001b[34mPerforming get_user_n_last_interaction comparison\u001b[0m\n",
      "\u001b[37mDEBUG   \u001b[0m - streamsight.settings.splitters - \u001b[34mNPastInteractionTimestampSplitter(t=1510531200,t_lower=None,t_upper=25920000,n_seq_data=3) - Split successful\u001b[0m\n"
     ]
    },
    {
     "name": "stderr",
     "output_type": "stream",
     "text": [
      "100%|██████████| 5/5 [00:02<00:00,  1.95it/s]"
     ]
    },
    {
     "name": "stdout",
     "output_type": "stream",
     "text": [
      "\u001b[37mDEBUG   \u001b[0m - streamsight.settings.splitters - \u001b[34mNPastInteractionTimestampSplitter(t=1510531200,t_lower=None,t_upper=25920000,n_seq_data=3) - Updating split point to t=1536451200\u001b[0m\n",
      "\u001b[37mDEBUG   \u001b[0m - streamsight.matrix.interaction_matrix - \u001b[34mPerforming lt(t, 1562371200)\u001b[0m\n",
      "\u001b[37mDEBUG   \u001b[0m - streamsight.matrix.interaction_matrix - \u001b[34mPerforming ge(t, 1536451200)\u001b[0m\n",
      "\u001b[37mDEBUG   \u001b[0m - streamsight.matrix.interaction_matrix - \u001b[34mPerforming get_user_n_last_interaction comparison\u001b[0m\n",
      "\u001b[37mDEBUG   \u001b[0m - streamsight.settings.splitters - \u001b[34mNPastInteractionTimestampSplitter(t=1536451200,t_lower=None,t_upper=25920000,n_seq_data=3) - Split successful\u001b[0m\n"
     ]
    },
    {
     "name": "stderr",
     "output_type": "stream",
     "text": [
      "6it [00:03,  1.95it/s]                       "
     ]
    },
    {
     "name": "stdout",
     "output_type": "stream",
     "text": [
      "\u001b[32mINFO    \u001b[0m - streamsight.settings.sliding_window_setting - \u001b[34mFinished split with window size 25920000 seconds. Number of splits: 6\u001b[0m\n",
      "\u001b[37mDEBUG   \u001b[0m - streamsight.settings.base - \u001b[34mChecking split attribute and sizes.\u001b[0m\n",
      "\u001b[37mDEBUG   \u001b[0m - streamsight.settings.base - \u001b[34mChecking split attributes.\u001b[0m\n",
      "\u001b[37mDEBUG   \u001b[0m - streamsight.settings.base - \u001b[34mSplit attributes are set.\u001b[0m\n",
      "\u001b[37mDEBUG   \u001b[0m - streamsight.settings.base - \u001b[34mChecking size of split sets.\u001b[0m\n",
      "\u001b[37mDEBUG   \u001b[0m - streamsight.settings.base - \u001b[34mSize of split sets are checked.\u001b[0m\n"
     ]
    },
    {
     "name": "stderr",
     "output_type": "stream",
     "text": [
      "\n"
     ]
    }
   ],
   "source": [
    "from streamsight.datasets import AmazonMovieDataset\n",
    "from streamsight.settings import SlidingWindowSetting\n",
    "\n",
    "dataset = AmazonMovieDataset()\n",
    "data = dataset.load()\n",
    "setting_sliding = SlidingWindowSetting(\n",
    "    background_t=1406851200,\n",
    "    window_size=60 * 60 * 24 * 300, # day times N\n",
    "    n_seq_data=3,\n",
    "    top_K=k\n",
    ")\n",
    "setting_sliding.split(data)\n"
   ]
  },
  {
   "cell_type": "code",
   "execution_count": null,
   "metadata": {},
   "outputs": [
    {
     "name": "stdout",
     "output_type": "stream",
     "text": [
      "\u001b[32mINFO    \u001b[0m - streamsight.evaluator.evaluator_pipeline - \u001b[34mPhase 1: Preparing the evaluator...\u001b[0m\n"
     ]
    },
    {
     "name": "stderr",
     "output_type": "stream",
     "text": [
      "/Users/ngtzekean/Github/Streamsight/.venv/lib/python3.12/site-packages/scipy/sparse/_index.py:145: SparseEfficiencyWarning: Changing the sparsity structure of a csr_matrix is expensive. lil_matrix is more efficient.\n",
      "  self._set_arrayXarray(i, j, x)\n"
     ]
    },
    {
     "name": "stdout",
     "output_type": "stream",
     "text": [
      "\u001b[32mINFO    \u001b[0m - streamsight.algorithms.base - \u001b[34mFitting ItemKNNStatic complete - Took 4.56s\u001b[0m\n"
     ]
    },
    {
     "name": "stderr",
     "output_type": "stream",
     "text": [
      "/Users/ngtzekean/Github/Streamsight/.venv/lib/python3.12/site-packages/scipy/sparse/_index.py:145: SparseEfficiencyWarning: Changing the sparsity structure of a csr_matrix is expensive. lil_matrix is more efficient.\n",
      "  self._set_arrayXarray(i, j, x)\n"
     ]
    },
    {
     "name": "stdout",
     "output_type": "stream",
     "text": [
      "\u001b[32mINFO    \u001b[0m - streamsight.algorithms.base - \u001b[34mFitting ItemKNNRolling complete - Took 4.35s\u001b[0m\n",
      "\u001b[32mINFO    \u001b[0m - streamsight.algorithms.itemknn_incremental - \u001b[34mUpdating historical data for ItemKNNIncremental - Took 9.54e-07s\u001b[0m\n"
     ]
    },
    {
     "name": "stderr",
     "output_type": "stream",
     "text": [
      "/Users/ngtzekean/Github/Streamsight/.venv/lib/python3.12/site-packages/scipy/sparse/_index.py:145: SparseEfficiencyWarning: Changing the sparsity structure of a csr_matrix is expensive. lil_matrix is more efficient.\n",
      "  self._set_arrayXarray(i, j, x)\n"
     ]
    },
    {
     "name": "stdout",
     "output_type": "stream",
     "text": [
      "\u001b[32mINFO    \u001b[0m - streamsight.algorithms.base - \u001b[34mFitting ItemKNNIncremental complete - Took 4.06s\u001b[0m\n",
      "\u001b[37mDEBUG   \u001b[0m - streamsight.evaluator.evaluator_pipeline - \u001b[34mAlgorithms trained with background data...\u001b[0m\n",
      "\u001b[37mDEBUG   \u001b[0m - streamsight.evaluator.accumulator - \u001b[34mMetric PrecisionK(K=10) created for algorithm ItemKNNStatic(K=10)\u001b[0m\n",
      "\u001b[37mDEBUG   \u001b[0m - streamsight.evaluator.accumulator - \u001b[34mMetric RecallK(K=10) created for algorithm ItemKNNStatic(K=10)\u001b[0m\n",
      "\u001b[37mDEBUG   \u001b[0m - streamsight.evaluator.accumulator - \u001b[34mMetric PrecisionK(K=10) created for algorithm ItemKNNRolling(K=10)\u001b[0m\n",
      "\u001b[37mDEBUG   \u001b[0m - streamsight.evaluator.accumulator - \u001b[34mMetric RecallK(K=10) created for algorithm ItemKNNRolling(K=10)\u001b[0m\n",
      "\u001b[37mDEBUG   \u001b[0m - streamsight.evaluator.accumulator - \u001b[34mMetric PrecisionK(K=10) created for algorithm ItemKNNIncremental(K=10)\u001b[0m\n",
      "\u001b[37mDEBUG   \u001b[0m - streamsight.evaluator.accumulator - \u001b[34mMetric RecallK(K=10) created for algorithm ItemKNNIncremental(K=10)\u001b[0m\n",
      "\u001b[37mDEBUG   \u001b[0m - streamsight.evaluator.evaluator_pipeline - \u001b[34mMetric accumulator instantiated...\u001b[0m\n",
      "\u001b[32mINFO    \u001b[0m - streamsight.settings.base - \u001b[34mResetting data generators.\u001b[0m\n",
      "\u001b[32mINFO    \u001b[0m - streamsight.settings.base - \u001b[34mData generators are reset.\u001b[0m\n",
      "\u001b[37mDEBUG   \u001b[0m - streamsight.evaluator.evaluator_pipeline - \u001b[34mSetting data generators ready...\u001b[0m\n"
     ]
    },
    {
     "name": "stderr",
     "output_type": "stream",
     "text": [
      "  0%|          | 0/6 [00:00<?, ?it/s]"
     ]
    },
    {
     "name": "stdout",
     "output_type": "stream",
     "text": [
      "\u001b[32mINFO    \u001b[0m - streamsight.evaluator.evaluator_pipeline - \u001b[34mPhase 2: Evaluating the algorithms...\u001b[0m\n",
      "\u001b[37mDEBUG   \u001b[0m - streamsight.matrix.interaction_matrix - \u001b[34mPerforming items_in comparison\u001b[0m\n",
      "\u001b[37mDEBUG   \u001b[0m - streamsight.algorithms.base - \u001b[34mPredictions by algorithm completed\u001b[0m\n",
      "\u001b[37mDEBUG   \u001b[0m - streamsight.algorithms.base - \u001b[34mPadding user ID in range(156676, 2357677) with random items\u001b[0m\n",
      "\u001b[37mDEBUG   \u001b[0m - streamsight.algorithms.base - \u001b[34mPadding completed\u001b[0m\n",
      "\u001b[37mDEBUG   \u001b[0m - streamsight.metrics.precision - \u001b[34mPrecision compute complete - PrecisionK_10\u001b[0m\n",
      "\u001b[37mDEBUG   \u001b[0m - streamsight.evaluator.accumulator - \u001b[34mMetric PrecisionK(timestamp_limit=1406851200,K=10) created for algorithm ItemKNNStatic(K=10)\u001b[0m\n",
      "\u001b[37mDEBUG   \u001b[0m - streamsight.metrics.recall - \u001b[34mRecall compute complete - RecallK_10\u001b[0m\n",
      "\u001b[37mDEBUG   \u001b[0m - streamsight.evaluator.accumulator - \u001b[34mMetric RecallK(timestamp_limit=1406851200,K=10) created for algorithm ItemKNNStatic(K=10)\u001b[0m\n",
      "\u001b[37mDEBUG   \u001b[0m - streamsight.matrix.interaction_matrix - \u001b[34mPerforming items_in comparison\u001b[0m\n",
      "\u001b[37mDEBUG   \u001b[0m - streamsight.algorithms.base - \u001b[34mPredictions by algorithm completed\u001b[0m\n",
      "\u001b[37mDEBUG   \u001b[0m - streamsight.algorithms.base - \u001b[34mPadding user ID in range(2357677, 2357677) with random items\u001b[0m\n",
      "\u001b[37mDEBUG   \u001b[0m - streamsight.algorithms.base - \u001b[34mPadding completed\u001b[0m\n",
      "\u001b[37mDEBUG   \u001b[0m - streamsight.metrics.precision - \u001b[34mPrecision compute complete - PrecisionK_10\u001b[0m\n",
      "\u001b[37mDEBUG   \u001b[0m - streamsight.evaluator.accumulator - \u001b[34mMetric PrecisionK(timestamp_limit=1406851200,K=10) created for algorithm ItemKNNRolling(K=10)\u001b[0m\n",
      "\u001b[37mDEBUG   \u001b[0m - streamsight.metrics.recall - \u001b[34mRecall compute complete - RecallK_10\u001b[0m\n",
      "\u001b[37mDEBUG   \u001b[0m - streamsight.evaluator.accumulator - \u001b[34mMetric RecallK(timestamp_limit=1406851200,K=10) created for algorithm ItemKNNRolling(K=10)\u001b[0m\n",
      "\u001b[37mDEBUG   \u001b[0m - streamsight.matrix.interaction_matrix - \u001b[34mPerforming items_in comparison\u001b[0m\n",
      "\u001b[37mDEBUG   \u001b[0m - streamsight.algorithms.base - \u001b[34mPredictions by algorithm completed\u001b[0m\n",
      "\u001b[37mDEBUG   \u001b[0m - streamsight.algorithms.base - \u001b[34mPadding user ID in range(2357677, 2357677) with random items\u001b[0m\n",
      "\u001b[37mDEBUG   \u001b[0m - streamsight.algorithms.base - \u001b[34mPadding completed\u001b[0m\n",
      "\u001b[37mDEBUG   \u001b[0m - streamsight.metrics.precision - \u001b[34mPrecision compute complete - PrecisionK_10\u001b[0m\n",
      "\u001b[37mDEBUG   \u001b[0m - streamsight.evaluator.accumulator - \u001b[34mMetric PrecisionK(timestamp_limit=1406851200,K=10) created for algorithm ItemKNNIncremental(K=10)\u001b[0m\n",
      "\u001b[37mDEBUG   \u001b[0m - streamsight.metrics.recall - \u001b[34mRecall compute complete - RecallK_10\u001b[0m\n",
      "\u001b[37mDEBUG   \u001b[0m - streamsight.evaluator.accumulator - \u001b[34mMetric RecallK(timestamp_limit=1406851200,K=10) created for algorithm ItemKNNIncremental(K=10)\u001b[0m\n",
      "\u001b[32mINFO    \u001b[0m - streamsight.evaluator.evaluator_pipeline - \u001b[34mPhase 3: Releasing the data...\u001b[0m\n"
     ]
    },
    {
     "name": "stderr",
     "output_type": "stream",
     "text": [
      "/Users/ngtzekean/Github/Streamsight/.venv/lib/python3.12/site-packages/scipy/sparse/_index.py:145: SparseEfficiencyWarning: Changing the sparsity structure of a csr_matrix is expensive. lil_matrix is more efficient.\n",
      "  self._set_arrayXarray(i, j, x)\n"
     ]
    },
    {
     "name": "stdout",
     "output_type": "stream",
     "text": [
      "\u001b[32mINFO    \u001b[0m - streamsight.algorithms.base - \u001b[34mFitting ItemKNNStatic complete - Took 1.41s\u001b[0m\n"
     ]
    },
    {
     "name": "stderr",
     "output_type": "stream",
     "text": [
      "/Users/ngtzekean/Github/Streamsight/.venv/lib/python3.12/site-packages/scipy/sparse/_index.py:145: SparseEfficiencyWarning: Changing the sparsity structure of a csr_matrix is expensive. lil_matrix is more efficient.\n",
      "  self._set_arrayXarray(i, j, x)\n"
     ]
    },
    {
     "name": "stdout",
     "output_type": "stream",
     "text": [
      "\u001b[32mINFO    \u001b[0m - streamsight.algorithms.base - \u001b[34mFitting ItemKNNRolling complete - Took 1.45s\u001b[0m\n",
      "\u001b[32mINFO    \u001b[0m - streamsight.algorithms.itemknn_incremental - \u001b[34mUpdating historical data for ItemKNNIncremental - Took 0.145s\u001b[0m\n"
     ]
    },
    {
     "name": "stderr",
     "output_type": "stream",
     "text": [
      "/Users/ngtzekean/Github/Streamsight/.venv/lib/python3.12/site-packages/scipy/sparse/_index.py:145: SparseEfficiencyWarning: Changing the sparsity structure of a csr_matrix is expensive. lil_matrix is more efficient.\n",
      "  self._set_arrayXarray(i, j, x)\n"
     ]
    },
    {
     "name": "stdout",
     "output_type": "stream",
     "text": [
      "\u001b[32mINFO    \u001b[0m - streamsight.algorithms.base - \u001b[34mFitting ItemKNNIncremental complete - Took 5.45s\u001b[0m\n"
     ]
    },
    {
     "name": "stderr",
     "output_type": "stream",
     "text": [
      " 17%|█▋        | 1/6 [00:33<02:49, 33.87s/it]"
     ]
    },
    {
     "name": "stdout",
     "output_type": "stream",
     "text": [
      "\u001b[32mINFO    \u001b[0m - streamsight.evaluator.evaluator_pipeline - \u001b[34mPhase 2: Evaluating the algorithms...\u001b[0m\n",
      "\u001b[37mDEBUG   \u001b[0m - streamsight.matrix.interaction_matrix - \u001b[34mPerforming items_in comparison\u001b[0m\n",
      "\u001b[37mDEBUG   \u001b[0m - streamsight.algorithms.base - \u001b[34mPredictions by algorithm completed\u001b[0m\n",
      "\u001b[37mDEBUG   \u001b[0m - streamsight.algorithms.base - \u001b[34mPadding user ID in range(156676, 2859229) with random items\u001b[0m\n",
      "\u001b[37mDEBUG   \u001b[0m - streamsight.algorithms.base - \u001b[34mPadding completed\u001b[0m\n",
      "\u001b[37mDEBUG   \u001b[0m - streamsight.metrics.precision - \u001b[34mPrecision compute complete - PrecisionK_10\u001b[0m\n",
      "\u001b[37mDEBUG   \u001b[0m - streamsight.evaluator.accumulator - \u001b[34mMetric PrecisionK(timestamp_limit=1432771200,K=10) created for algorithm ItemKNNStatic(K=10)\u001b[0m\n",
      "\u001b[37mDEBUG   \u001b[0m - streamsight.metrics.recall - \u001b[34mRecall compute complete - RecallK_10\u001b[0m\n",
      "\u001b[37mDEBUG   \u001b[0m - streamsight.evaluator.accumulator - \u001b[34mMetric RecallK(timestamp_limit=1432771200,K=10) created for algorithm ItemKNNStatic(K=10)\u001b[0m\n",
      "\u001b[37mDEBUG   \u001b[0m - streamsight.matrix.interaction_matrix - \u001b[34mPerforming items_in comparison\u001b[0m\n",
      "\u001b[37mDEBUG   \u001b[0m - streamsight.algorithms.base - \u001b[34mPredictions by algorithm completed\u001b[0m\n",
      "\u001b[37mDEBUG   \u001b[0m - streamsight.algorithms.base - \u001b[34mPadding user ID in range(2357677, 2859229) with random items\u001b[0m\n",
      "\u001b[37mDEBUG   \u001b[0m - streamsight.algorithms.base - \u001b[34mPadding completed\u001b[0m\n",
      "\u001b[37mDEBUG   \u001b[0m - streamsight.metrics.precision - \u001b[34mPrecision compute complete - PrecisionK_10\u001b[0m\n",
      "\u001b[37mDEBUG   \u001b[0m - streamsight.evaluator.accumulator - \u001b[34mMetric PrecisionK(timestamp_limit=1432771200,K=10) created for algorithm ItemKNNRolling(K=10)\u001b[0m\n",
      "\u001b[37mDEBUG   \u001b[0m - streamsight.metrics.recall - \u001b[34mRecall compute complete - RecallK_10\u001b[0m\n",
      "\u001b[37mDEBUG   \u001b[0m - streamsight.evaluator.accumulator - \u001b[34mMetric RecallK(timestamp_limit=1432771200,K=10) created for algorithm ItemKNNRolling(K=10)\u001b[0m\n",
      "\u001b[37mDEBUG   \u001b[0m - streamsight.matrix.interaction_matrix - \u001b[34mPerforming items_in comparison\u001b[0m\n",
      "\u001b[37mDEBUG   \u001b[0m - streamsight.algorithms.base - \u001b[34mPredictions by algorithm completed\u001b[0m\n",
      "\u001b[37mDEBUG   \u001b[0m - streamsight.algorithms.base - \u001b[34mPadding user ID in range(2357677, 2859229) with random items\u001b[0m\n",
      "\u001b[37mDEBUG   \u001b[0m - streamsight.algorithms.base - \u001b[34mPadding completed\u001b[0m\n",
      "\u001b[37mDEBUG   \u001b[0m - streamsight.metrics.precision - \u001b[34mPrecision compute complete - PrecisionK_10\u001b[0m\n",
      "\u001b[37mDEBUG   \u001b[0m - streamsight.evaluator.accumulator - \u001b[34mMetric PrecisionK(timestamp_limit=1432771200,K=10) created for algorithm ItemKNNIncremental(K=10)\u001b[0m\n",
      "\u001b[37mDEBUG   \u001b[0m - streamsight.metrics.recall - \u001b[34mRecall compute complete - RecallK_10\u001b[0m\n",
      "\u001b[37mDEBUG   \u001b[0m - streamsight.evaluator.accumulator - \u001b[34mMetric RecallK(timestamp_limit=1432771200,K=10) created for algorithm ItemKNNIncremental(K=10)\u001b[0m\n",
      "\u001b[32mINFO    \u001b[0m - streamsight.evaluator.evaluator_pipeline - \u001b[34mPhase 3: Releasing the data...\u001b[0m\n"
     ]
    },
    {
     "name": "stderr",
     "output_type": "stream",
     "text": [
      "/Users/ngtzekean/Github/Streamsight/.venv/lib/python3.12/site-packages/scipy/sparse/_index.py:145: SparseEfficiencyWarning: Changing the sparsity structure of a csr_matrix is expensive. lil_matrix is more efficient.\n",
      "  self._set_arrayXarray(i, j, x)\n"
     ]
    },
    {
     "name": "stdout",
     "output_type": "stream",
     "text": [
      "\u001b[32mINFO    \u001b[0m - streamsight.algorithms.base - \u001b[34mFitting ItemKNNStatic complete - Took 1.43s\u001b[0m\n"
     ]
    },
    {
     "name": "stderr",
     "output_type": "stream",
     "text": [
      "/Users/ngtzekean/Github/Streamsight/.venv/lib/python3.12/site-packages/scipy/sparse/_index.py:145: SparseEfficiencyWarning: Changing the sparsity structure of a csr_matrix is expensive. lil_matrix is more efficient.\n",
      "  self._set_arrayXarray(i, j, x)\n"
     ]
    },
    {
     "name": "stdout",
     "output_type": "stream",
     "text": [
      "\u001b[32mINFO    \u001b[0m - streamsight.algorithms.base - \u001b[34mFitting ItemKNNRolling complete - Took 1.45s\u001b[0m\n",
      "\u001b[32mINFO    \u001b[0m - streamsight.algorithms.itemknn_incremental - \u001b[34mUpdating historical data for ItemKNNIncremental - Took 0.256s\u001b[0m\n",
      "\u001b[32mINFO    \u001b[0m - streamsight.algorithms.base - \u001b[34mFitting ItemKNNIncremental complete - Took 6.07s\u001b[0m\n"
     ]
    },
    {
     "name": "stderr",
     "output_type": "stream",
     "text": [
      " 33%|███▎      | 2/6 [01:01<02:00, 30.13s/it]"
     ]
    },
    {
     "name": "stdout",
     "output_type": "stream",
     "text": [
      "\u001b[32mINFO    \u001b[0m - streamsight.evaluator.evaluator_pipeline - \u001b[34mPhase 2: Evaluating the algorithms...\u001b[0m\n",
      "\u001b[37mDEBUG   \u001b[0m - streamsight.matrix.interaction_matrix - \u001b[34mPerforming items_in comparison\u001b[0m\n",
      "\u001b[37mDEBUG   \u001b[0m - streamsight.algorithms.base - \u001b[34mPredictions by algorithm completed\u001b[0m\n",
      "\u001b[37mDEBUG   \u001b[0m - streamsight.algorithms.base - \u001b[34mPadding user ID in range(165672, 3513948) with random items\u001b[0m\n",
      "\u001b[37mDEBUG   \u001b[0m - streamsight.algorithms.base - \u001b[34mPadding completed\u001b[0m\n",
      "\u001b[37mDEBUG   \u001b[0m - streamsight.metrics.precision - \u001b[34mPrecision compute complete - PrecisionK_10\u001b[0m\n",
      "\u001b[37mDEBUG   \u001b[0m - streamsight.evaluator.accumulator - \u001b[34mMetric PrecisionK(timestamp_limit=1458691200,K=10) created for algorithm ItemKNNStatic(K=10)\u001b[0m\n",
      "\u001b[37mDEBUG   \u001b[0m - streamsight.metrics.recall - \u001b[34mRecall compute complete - RecallK_10\u001b[0m\n",
      "\u001b[37mDEBUG   \u001b[0m - streamsight.evaluator.accumulator - \u001b[34mMetric RecallK(timestamp_limit=1458691200,K=10) created for algorithm ItemKNNStatic(K=10)\u001b[0m\n",
      "\u001b[37mDEBUG   \u001b[0m - streamsight.matrix.interaction_matrix - \u001b[34mPerforming items_in comparison\u001b[0m\n",
      "\u001b[37mDEBUG   \u001b[0m - streamsight.algorithms.base - \u001b[34mPredictions by algorithm completed\u001b[0m\n",
      "\u001b[37mDEBUG   \u001b[0m - streamsight.algorithms.base - \u001b[34mPadding user ID in range(2859229, 3513948) with random items\u001b[0m\n",
      "\u001b[37mDEBUG   \u001b[0m - streamsight.algorithms.base - \u001b[34mPadding completed\u001b[0m\n",
      "\u001b[37mDEBUG   \u001b[0m - streamsight.metrics.precision - \u001b[34mPrecision compute complete - PrecisionK_10\u001b[0m\n",
      "\u001b[37mDEBUG   \u001b[0m - streamsight.evaluator.accumulator - \u001b[34mMetric PrecisionK(timestamp_limit=1458691200,K=10) created for algorithm ItemKNNRolling(K=10)\u001b[0m\n",
      "\u001b[37mDEBUG   \u001b[0m - streamsight.metrics.recall - \u001b[34mRecall compute complete - RecallK_10\u001b[0m\n",
      "\u001b[37mDEBUG   \u001b[0m - streamsight.evaluator.accumulator - \u001b[34mMetric RecallK(timestamp_limit=1458691200,K=10) created for algorithm ItemKNNRolling(K=10)\u001b[0m\n",
      "\u001b[37mDEBUG   \u001b[0m - streamsight.matrix.interaction_matrix - \u001b[34mPerforming items_in comparison\u001b[0m\n",
      "\u001b[37mDEBUG   \u001b[0m - streamsight.algorithms.base - \u001b[34mPredictions by algorithm completed\u001b[0m\n",
      "\u001b[37mDEBUG   \u001b[0m - streamsight.algorithms.base - \u001b[34mPadding user ID in range(2859229, 3513948) with random items\u001b[0m\n",
      "\u001b[37mDEBUG   \u001b[0m - streamsight.algorithms.base - \u001b[34mPadding completed\u001b[0m\n",
      "\u001b[37mDEBUG   \u001b[0m - streamsight.metrics.precision - \u001b[34mPrecision compute complete - PrecisionK_10\u001b[0m\n",
      "\u001b[37mDEBUG   \u001b[0m - streamsight.evaluator.accumulator - \u001b[34mMetric PrecisionK(timestamp_limit=1458691200,K=10) created for algorithm ItemKNNIncremental(K=10)\u001b[0m\n",
      "\u001b[37mDEBUG   \u001b[0m - streamsight.metrics.recall - \u001b[34mRecall compute complete - RecallK_10\u001b[0m\n",
      "\u001b[37mDEBUG   \u001b[0m - streamsight.evaluator.accumulator - \u001b[34mMetric RecallK(timestamp_limit=1458691200,K=10) created for algorithm ItemKNNIncremental(K=10)\u001b[0m\n",
      "\u001b[32mINFO    \u001b[0m - streamsight.evaluator.evaluator_pipeline - \u001b[34mPhase 3: Releasing the data...\u001b[0m\n"
     ]
    },
    {
     "name": "stderr",
     "output_type": "stream",
     "text": [
      "/Users/ngtzekean/Github/Streamsight/.venv/lib/python3.12/site-packages/scipy/sparse/_index.py:145: SparseEfficiencyWarning: Changing the sparsity structure of a csr_matrix is expensive. lil_matrix is more efficient.\n",
      "  self._set_arrayXarray(i, j, x)\n"
     ]
    },
    {
     "name": "stdout",
     "output_type": "stream",
     "text": [
      "\u001b[32mINFO    \u001b[0m - streamsight.algorithms.base - \u001b[34mFitting ItemKNNStatic complete - Took 1.54s\u001b[0m\n"
     ]
    },
    {
     "name": "stderr",
     "output_type": "stream",
     "text": [
      "/Users/ngtzekean/Github/Streamsight/.venv/lib/python3.12/site-packages/scipy/sparse/_index.py:145: SparseEfficiencyWarning: Changing the sparsity structure of a csr_matrix is expensive. lil_matrix is more efficient.\n",
      "  self._set_arrayXarray(i, j, x)\n"
     ]
    },
    {
     "name": "stdout",
     "output_type": "stream",
     "text": [
      "\u001b[32mINFO    \u001b[0m - streamsight.algorithms.base - \u001b[34mFitting ItemKNNRolling complete - Took 1.6s\u001b[0m\n",
      "\u001b[32mINFO    \u001b[0m - streamsight.algorithms.itemknn_incremental - \u001b[34mUpdating historical data for ItemKNNIncremental - Took 0.356s\u001b[0m\n",
      "\u001b[32mINFO    \u001b[0m - streamsight.algorithms.base - \u001b[34mFitting ItemKNNIncremental complete - Took 7.1s\u001b[0m\n"
     ]
    },
    {
     "name": "stderr",
     "output_type": "stream",
     "text": [
      " 50%|█████     | 3/6 [01:30<01:29, 29.72s/it]"
     ]
    },
    {
     "name": "stdout",
     "output_type": "stream",
     "text": [
      "\u001b[32mINFO    \u001b[0m - streamsight.evaluator.evaluator_pipeline - \u001b[34mPhase 2: Evaluating the algorithms...\u001b[0m\n",
      "\u001b[37mDEBUG   \u001b[0m - streamsight.matrix.interaction_matrix - \u001b[34mPerforming items_in comparison\u001b[0m\n",
      "\u001b[37mDEBUG   \u001b[0m - streamsight.algorithms.base - \u001b[34mPredictions by algorithm completed\u001b[0m\n",
      "\u001b[37mDEBUG   \u001b[0m - streamsight.algorithms.base - \u001b[34mPadding user ID in range(174404, 3715032) with random items\u001b[0m\n",
      "\u001b[37mDEBUG   \u001b[0m - streamsight.algorithms.base - \u001b[34mPadding completed\u001b[0m\n",
      "\u001b[37mDEBUG   \u001b[0m - streamsight.metrics.precision - \u001b[34mPrecision compute complete - PrecisionK_10\u001b[0m\n",
      "\u001b[37mDEBUG   \u001b[0m - streamsight.evaluator.accumulator - \u001b[34mMetric PrecisionK(timestamp_limit=1484611200,K=10) created for algorithm ItemKNNStatic(K=10)\u001b[0m\n",
      "\u001b[37mDEBUG   \u001b[0m - streamsight.metrics.recall - \u001b[34mRecall compute complete - RecallK_10\u001b[0m\n",
      "\u001b[37mDEBUG   \u001b[0m - streamsight.evaluator.accumulator - \u001b[34mMetric RecallK(timestamp_limit=1484611200,K=10) created for algorithm ItemKNNStatic(K=10)\u001b[0m\n",
      "\u001b[37mDEBUG   \u001b[0m - streamsight.matrix.interaction_matrix - \u001b[34mPerforming items_in comparison\u001b[0m\n",
      "\u001b[37mDEBUG   \u001b[0m - streamsight.algorithms.base - \u001b[34mPredictions by algorithm completed\u001b[0m\n",
      "\u001b[37mDEBUG   \u001b[0m - streamsight.algorithms.base - \u001b[34mPadding user ID in range(3513948, 3715032) with random items\u001b[0m\n",
      "\u001b[37mDEBUG   \u001b[0m - streamsight.algorithms.base - \u001b[34mPadding completed\u001b[0m\n",
      "\u001b[37mDEBUG   \u001b[0m - streamsight.metrics.precision - \u001b[34mPrecision compute complete - PrecisionK_10\u001b[0m\n",
      "\u001b[37mDEBUG   \u001b[0m - streamsight.evaluator.accumulator - \u001b[34mMetric PrecisionK(timestamp_limit=1484611200,K=10) created for algorithm ItemKNNRolling(K=10)\u001b[0m\n",
      "\u001b[37mDEBUG   \u001b[0m - streamsight.metrics.recall - \u001b[34mRecall compute complete - RecallK_10\u001b[0m\n",
      "\u001b[37mDEBUG   \u001b[0m - streamsight.evaluator.accumulator - \u001b[34mMetric RecallK(timestamp_limit=1484611200,K=10) created for algorithm ItemKNNRolling(K=10)\u001b[0m\n",
      "\u001b[37mDEBUG   \u001b[0m - streamsight.matrix.interaction_matrix - \u001b[34mPerforming items_in comparison\u001b[0m\n",
      "\u001b[37mDEBUG   \u001b[0m - streamsight.algorithms.base - \u001b[34mPredictions by algorithm completed\u001b[0m\n",
      "\u001b[37mDEBUG   \u001b[0m - streamsight.algorithms.base - \u001b[34mPadding user ID in range(3513948, 3715032) with random items\u001b[0m\n",
      "\u001b[37mDEBUG   \u001b[0m - streamsight.algorithms.base - \u001b[34mPadding completed\u001b[0m\n",
      "\u001b[37mDEBUG   \u001b[0m - streamsight.metrics.precision - \u001b[34mPrecision compute complete - PrecisionK_10\u001b[0m\n",
      "\u001b[37mDEBUG   \u001b[0m - streamsight.evaluator.accumulator - \u001b[34mMetric PrecisionK(timestamp_limit=1484611200,K=10) created for algorithm ItemKNNIncremental(K=10)\u001b[0m\n",
      "\u001b[37mDEBUG   \u001b[0m - streamsight.metrics.recall - \u001b[34mRecall compute complete - RecallK_10\u001b[0m\n",
      "\u001b[37mDEBUG   \u001b[0m - streamsight.evaluator.accumulator - \u001b[34mMetric RecallK(timestamp_limit=1484611200,K=10) created for algorithm ItemKNNIncremental(K=10)\u001b[0m\n",
      "\u001b[32mINFO    \u001b[0m - streamsight.evaluator.evaluator_pipeline - \u001b[34mPhase 3: Releasing the data...\u001b[0m\n"
     ]
    },
    {
     "name": "stderr",
     "output_type": "stream",
     "text": [
      "/Users/ngtzekean/Github/Streamsight/.venv/lib/python3.12/site-packages/scipy/sparse/_index.py:145: SparseEfficiencyWarning: Changing the sparsity structure of a csr_matrix is expensive. lil_matrix is more efficient.\n",
      "  self._set_arrayXarray(i, j, x)\n"
     ]
    },
    {
     "name": "stdout",
     "output_type": "stream",
     "text": [
      "\u001b[32mINFO    \u001b[0m - streamsight.algorithms.base - \u001b[34mFitting ItemKNNStatic complete - Took 1.52s\u001b[0m\n"
     ]
    },
    {
     "name": "stderr",
     "output_type": "stream",
     "text": [
      "/Users/ngtzekean/Github/Streamsight/.venv/lib/python3.12/site-packages/scipy/sparse/_index.py:145: SparseEfficiencyWarning: Changing the sparsity structure of a csr_matrix is expensive. lil_matrix is more efficient.\n",
      "  self._set_arrayXarray(i, j, x)\n"
     ]
    },
    {
     "name": "stdout",
     "output_type": "stream",
     "text": [
      "\u001b[32mINFO    \u001b[0m - streamsight.algorithms.base - \u001b[34mFitting ItemKNNRolling complete - Took 1.53s\u001b[0m\n",
      "\u001b[32mINFO    \u001b[0m - streamsight.algorithms.itemknn_incremental - \u001b[34mUpdating historical data for ItemKNNIncremental - Took 0.4s\u001b[0m\n",
      "\u001b[32mINFO    \u001b[0m - streamsight.algorithms.base - \u001b[34mFitting ItemKNNIncremental complete - Took 7.6s\u001b[0m\n"
     ]
    },
    {
     "name": "stderr",
     "output_type": "stream",
     "text": [
      " 67%|██████▋   | 4/6 [01:50<00:51, 25.82s/it]"
     ]
    },
    {
     "name": "stdout",
     "output_type": "stream",
     "text": [
      "\u001b[32mINFO    \u001b[0m - streamsight.evaluator.evaluator_pipeline - \u001b[34mPhase 2: Evaluating the algorithms...\u001b[0m\n",
      "\u001b[37mDEBUG   \u001b[0m - streamsight.matrix.interaction_matrix - \u001b[34mPerforming items_in comparison\u001b[0m\n",
      "\u001b[37mDEBUG   \u001b[0m - streamsight.algorithms.base - \u001b[34mPredictions by algorithm completed\u001b[0m\n",
      "\u001b[37mDEBUG   \u001b[0m - streamsight.algorithms.base - \u001b[34mPadding user ID in range(179572, 3825675) with random items\u001b[0m\n",
      "\u001b[37mDEBUG   \u001b[0m - streamsight.algorithms.base - \u001b[34mPadding completed\u001b[0m\n",
      "\u001b[37mDEBUG   \u001b[0m - streamsight.metrics.precision - \u001b[34mPrecision compute complete - PrecisionK_10\u001b[0m\n",
      "\u001b[37mDEBUG   \u001b[0m - streamsight.evaluator.accumulator - \u001b[34mMetric PrecisionK(timestamp_limit=1510531200,K=10) created for algorithm ItemKNNStatic(K=10)\u001b[0m\n",
      "\u001b[37mDEBUG   \u001b[0m - streamsight.metrics.recall - \u001b[34mRecall compute complete - RecallK_10\u001b[0m\n",
      "\u001b[37mDEBUG   \u001b[0m - streamsight.evaluator.accumulator - \u001b[34mMetric RecallK(timestamp_limit=1510531200,K=10) created for algorithm ItemKNNStatic(K=10)\u001b[0m\n",
      "\u001b[37mDEBUG   \u001b[0m - streamsight.matrix.interaction_matrix - \u001b[34mPerforming items_in comparison\u001b[0m\n",
      "\u001b[37mDEBUG   \u001b[0m - streamsight.algorithms.base - \u001b[34mPredictions by algorithm completed\u001b[0m\n",
      "\u001b[37mDEBUG   \u001b[0m - streamsight.algorithms.base - \u001b[34mPadding user ID in range(3715032, 3825675) with random items\u001b[0m\n",
      "\u001b[37mDEBUG   \u001b[0m - streamsight.algorithms.base - \u001b[34mPadding completed\u001b[0m\n",
      "\u001b[37mDEBUG   \u001b[0m - streamsight.metrics.precision - \u001b[34mPrecision compute complete - PrecisionK_10\u001b[0m\n",
      "\u001b[37mDEBUG   \u001b[0m - streamsight.evaluator.accumulator - \u001b[34mMetric PrecisionK(timestamp_limit=1510531200,K=10) created for algorithm ItemKNNRolling(K=10)\u001b[0m\n",
      "\u001b[37mDEBUG   \u001b[0m - streamsight.metrics.recall - \u001b[34mRecall compute complete - RecallK_10\u001b[0m\n",
      "\u001b[37mDEBUG   \u001b[0m - streamsight.evaluator.accumulator - \u001b[34mMetric RecallK(timestamp_limit=1510531200,K=10) created for algorithm ItemKNNRolling(K=10)\u001b[0m\n",
      "\u001b[37mDEBUG   \u001b[0m - streamsight.matrix.interaction_matrix - \u001b[34mPerforming items_in comparison\u001b[0m\n",
      "\u001b[37mDEBUG   \u001b[0m - streamsight.algorithms.base - \u001b[34mPredictions by algorithm completed\u001b[0m\n",
      "\u001b[37mDEBUG   \u001b[0m - streamsight.algorithms.base - \u001b[34mPadding user ID in range(3715032, 3825675) with random items\u001b[0m\n",
      "\u001b[37mDEBUG   \u001b[0m - streamsight.algorithms.base - \u001b[34mPadding completed\u001b[0m\n",
      "\u001b[37mDEBUG   \u001b[0m - streamsight.metrics.precision - \u001b[34mPrecision compute complete - PrecisionK_10\u001b[0m\n",
      "\u001b[37mDEBUG   \u001b[0m - streamsight.evaluator.accumulator - \u001b[34mMetric PrecisionK(timestamp_limit=1510531200,K=10) created for algorithm ItemKNNIncremental(K=10)\u001b[0m\n",
      "\u001b[37mDEBUG   \u001b[0m - streamsight.metrics.recall - \u001b[34mRecall compute complete - RecallK_10\u001b[0m\n",
      "\u001b[37mDEBUG   \u001b[0m - streamsight.evaluator.accumulator - \u001b[34mMetric RecallK(timestamp_limit=1510531200,K=10) created for algorithm ItemKNNIncremental(K=10)\u001b[0m\n",
      "\u001b[32mINFO    \u001b[0m - streamsight.evaluator.evaluator_pipeline - \u001b[34mPhase 3: Releasing the data...\u001b[0m\n"
     ]
    },
    {
     "name": "stderr",
     "output_type": "stream",
     "text": [
      "/Users/ngtzekean/Github/Streamsight/.venv/lib/python3.12/site-packages/scipy/sparse/_index.py:145: SparseEfficiencyWarning: Changing the sparsity structure of a csr_matrix is expensive. lil_matrix is more efficient.\n",
      "  self._set_arrayXarray(i, j, x)\n"
     ]
    },
    {
     "name": "stdout",
     "output_type": "stream",
     "text": [
      "\u001b[32mINFO    \u001b[0m - streamsight.algorithms.base - \u001b[34mFitting ItemKNNStatic complete - Took 1.43s\u001b[0m\n"
     ]
    },
    {
     "name": "stderr",
     "output_type": "stream",
     "text": [
      "/Users/ngtzekean/Github/Streamsight/.venv/lib/python3.12/site-packages/scipy/sparse/_index.py:145: SparseEfficiencyWarning: Changing the sparsity structure of a csr_matrix is expensive. lil_matrix is more efficient.\n",
      "  self._set_arrayXarray(i, j, x)\n"
     ]
    },
    {
     "name": "stdout",
     "output_type": "stream",
     "text": [
      "\u001b[32mINFO    \u001b[0m - streamsight.algorithms.base - \u001b[34mFitting ItemKNNRolling complete - Took 1.44s\u001b[0m\n",
      "\u001b[32mINFO    \u001b[0m - streamsight.algorithms.itemknn_incremental - \u001b[34mUpdating historical data for ItemKNNIncremental - Took 0.401s\u001b[0m\n",
      "\u001b[32mINFO    \u001b[0m - streamsight.algorithms.base - \u001b[34mFitting ItemKNNIncremental complete - Took 8.06s\u001b[0m\n"
     ]
    },
    {
     "name": "stderr",
     "output_type": "stream",
     "text": [
      " 83%|████████▎ | 5/6 [02:07<00:22, 22.52s/it]"
     ]
    },
    {
     "name": "stdout",
     "output_type": "stream",
     "text": [
      "\u001b[32mINFO    \u001b[0m - streamsight.evaluator.evaluator_pipeline - \u001b[34mPhase 2: Evaluating the algorithms...\u001b[0m\n",
      "\u001b[37mDEBUG   \u001b[0m - streamsight.matrix.interaction_matrix - \u001b[34mPerforming items_in comparison\u001b[0m\n",
      "\u001b[37mDEBUG   \u001b[0m - streamsight.algorithms.base - \u001b[34mPredictions by algorithm completed\u001b[0m\n",
      "\u001b[37mDEBUG   \u001b[0m - streamsight.algorithms.base - \u001b[34mPadding user ID in range(182031, 3826085) with random items\u001b[0m\n",
      "\u001b[37mDEBUG   \u001b[0m - streamsight.algorithms.base - \u001b[34mPadding completed\u001b[0m\n",
      "\u001b[37mDEBUG   \u001b[0m - streamsight.metrics.precision - \u001b[34mPrecision compute complete - PrecisionK_10\u001b[0m\n",
      "\u001b[37mDEBUG   \u001b[0m - streamsight.evaluator.accumulator - \u001b[34mMetric PrecisionK(timestamp_limit=1536451200,K=10) created for algorithm ItemKNNStatic(K=10)\u001b[0m\n",
      "\u001b[37mDEBUG   \u001b[0m - streamsight.metrics.recall - \u001b[34mRecall compute complete - RecallK_10\u001b[0m\n",
      "\u001b[37mDEBUG   \u001b[0m - streamsight.evaluator.accumulator - \u001b[34mMetric RecallK(timestamp_limit=1536451200,K=10) created for algorithm ItemKNNStatic(K=10)\u001b[0m\n",
      "\u001b[37mDEBUG   \u001b[0m - streamsight.matrix.interaction_matrix - \u001b[34mPerforming items_in comparison\u001b[0m\n",
      "\u001b[37mDEBUG   \u001b[0m - streamsight.algorithms.base - \u001b[34mPredictions by algorithm completed\u001b[0m\n",
      "\u001b[37mDEBUG   \u001b[0m - streamsight.algorithms.base - \u001b[34mPadding user ID in range(3825675, 3826085) with random items\u001b[0m\n",
      "\u001b[37mDEBUG   \u001b[0m - streamsight.algorithms.base - \u001b[34mPadding completed\u001b[0m\n",
      "\u001b[37mDEBUG   \u001b[0m - streamsight.metrics.precision - \u001b[34mPrecision compute complete - PrecisionK_10\u001b[0m\n",
      "\u001b[37mDEBUG   \u001b[0m - streamsight.evaluator.accumulator - \u001b[34mMetric PrecisionK(timestamp_limit=1536451200,K=10) created for algorithm ItemKNNRolling(K=10)\u001b[0m\n",
      "\u001b[37mDEBUG   \u001b[0m - streamsight.metrics.recall - \u001b[34mRecall compute complete - RecallK_10\u001b[0m\n",
      "\u001b[37mDEBUG   \u001b[0m - streamsight.evaluator.accumulator - \u001b[34mMetric RecallK(timestamp_limit=1536451200,K=10) created for algorithm ItemKNNRolling(K=10)\u001b[0m\n",
      "\u001b[37mDEBUG   \u001b[0m - streamsight.matrix.interaction_matrix - \u001b[34mPerforming items_in comparison\u001b[0m\n",
      "\u001b[37mDEBUG   \u001b[0m - streamsight.algorithms.base - \u001b[34mPredictions by algorithm completed\u001b[0m\n",
      "\u001b[37mDEBUG   \u001b[0m - streamsight.algorithms.base - \u001b[34mPadding user ID in range(3825675, 3826085) with random items\u001b[0m\n",
      "\u001b[37mDEBUG   \u001b[0m - streamsight.algorithms.base - \u001b[34mPadding completed\u001b[0m\n",
      "\u001b[37mDEBUG   \u001b[0m - streamsight.metrics.precision - \u001b[34mPrecision compute complete - PrecisionK_10\u001b[0m\n",
      "\u001b[37mDEBUG   \u001b[0m - streamsight.evaluator.accumulator - \u001b[34mMetric PrecisionK(timestamp_limit=1536451200,K=10) created for algorithm ItemKNNIncremental(K=10)\u001b[0m\n",
      "\u001b[37mDEBUG   \u001b[0m - streamsight.metrics.recall - \u001b[34mRecall compute complete - RecallK_10\u001b[0m\n",
      "\u001b[37mDEBUG   \u001b[0m - streamsight.evaluator.accumulator - \u001b[34mMetric RecallK(timestamp_limit=1536451200,K=10) created for algorithm ItemKNNIncremental(K=10)\u001b[0m\n",
      "\u001b[32mINFO    \u001b[0m - streamsight.evaluator.evaluator_pipeline - \u001b[34mPhase 3: Releasing the data...\u001b[0m\n"
     ]
    },
    {
     "name": "stderr",
     "output_type": "stream",
     "text": [
      "/Users/ngtzekean/Github/Streamsight/.venv/lib/python3.12/site-packages/scipy/sparse/_index.py:145: SparseEfficiencyWarning: Changing the sparsity structure of a csr_matrix is expensive. lil_matrix is more efficient.\n",
      "  self._set_arrayXarray(i, j, x)\n"
     ]
    },
    {
     "name": "stdout",
     "output_type": "stream",
     "text": [
      "\u001b[32mINFO    \u001b[0m - streamsight.algorithms.base - \u001b[34mFitting ItemKNNStatic complete - Took 1.49s\u001b[0m\n"
     ]
    },
    {
     "name": "stderr",
     "output_type": "stream",
     "text": [
      "/Users/ngtzekean/Github/Streamsight/.venv/lib/python3.12/site-packages/scipy/sparse/_index.py:145: SparseEfficiencyWarning: Changing the sparsity structure of a csr_matrix is expensive. lil_matrix is more efficient.\n",
      "  self._set_arrayXarray(i, j, x)\n"
     ]
    },
    {
     "name": "stdout",
     "output_type": "stream",
     "text": [
      "\u001b[32mINFO    \u001b[0m - streamsight.algorithms.base - \u001b[34mFitting ItemKNNRolling complete - Took 1.5s\u001b[0m\n",
      "\u001b[32mINFO    \u001b[0m - streamsight.algorithms.itemknn_incremental - \u001b[34mUpdating historical data for ItemKNNIncremental - Took 0.302s\u001b[0m\n",
      "\u001b[32mINFO    \u001b[0m - streamsight.algorithms.base - \u001b[34mFitting ItemKNNIncremental complete - Took 7.72s\u001b[0m\n"
     ]
    },
    {
     "name": "stderr",
     "output_type": "stream",
     "text": [
      "100%|██████████| 6/6 [02:18<00:00, 23.15s/it]\n"
     ]
    }
   ],
   "source": [
    "from streamsight.evaluator.evaluator_builder import EvaluatorBuilder\n",
    "\n",
    "builder = EvaluatorBuilder()\n",
    "builder.add_algorithm(\"ItemKNNStatic\", {\"K\": k})\n",
    "builder.add_algorithm(\"ItemKNNRolling\", {\"K\": k})\n",
    "builder.add_algorithm(\"ItemKNNIncremental\", {\"K\": k})\n",
    "\n",
    "builder.add_metric(\"PrecisionK\", K=k)\n",
    "builder.add_metric(\"RecallK\", K=k)\n",
    "builder.add_setting(setting_sliding)\n",
    "evaluator = builder.build()\n",
    "\n",
    "evaluator.run()"
   ]
  },
  {
   "cell_type": "code",
   "execution_count": null,
   "metadata": {},
   "outputs": [
    {
     "data": {
      "text/html": [
       "<div>\n",
       "<style scoped>\n",
       "    .dataframe tbody tr th:only-of-type {\n",
       "        vertical-align: middle;\n",
       "    }\n",
       "\n",
       "    .dataframe tbody tr th {\n",
       "        vertical-align: top;\n",
       "    }\n",
       "\n",
       "    .dataframe thead th {\n",
       "        text-align: right;\n",
       "    }\n",
       "</style>\n",
       "<table border=\"1\" class=\"dataframe\">\n",
       "  <thead>\n",
       "    <tr style=\"text-align: right;\">\n",
       "      <th></th>\n",
       "      <th></th>\n",
       "      <th></th>\n",
       "      <th>score</th>\n",
       "      <th>num_user</th>\n",
       "    </tr>\n",
       "    <tr>\n",
       "      <th>Algorithm</th>\n",
       "      <th>Timestamp</th>\n",
       "      <th>Metric</th>\n",
       "      <th></th>\n",
       "      <th></th>\n",
       "    </tr>\n",
       "  </thead>\n",
       "  <tbody>\n",
       "    <tr>\n",
       "      <th rowspan=\"12\" valign=\"top\">ItemKNNStatic(K=10)</th>\n",
       "      <th rowspan=\"2\" valign=\"top\">t=1406851200</th>\n",
       "      <th>PrecisionK_10</th>\n",
       "      <td>0.000007</td>\n",
       "      <td>785024</td>\n",
       "    </tr>\n",
       "    <tr>\n",
       "      <th>RecallK_10</th>\n",
       "      <td>0.000030</td>\n",
       "      <td>785024</td>\n",
       "    </tr>\n",
       "    <tr>\n",
       "      <th rowspan=\"2\" valign=\"top\">t=1432771200</th>\n",
       "      <th>PrecisionK_10</th>\n",
       "      <td>0.000014</td>\n",
       "      <td>342331</td>\n",
       "    </tr>\n",
       "    <tr>\n",
       "      <th>RecallK_10</th>\n",
       "      <td>0.000058</td>\n",
       "      <td>342331</td>\n",
       "    </tr>\n",
       "    <tr>\n",
       "      <th rowspan=\"2\" valign=\"top\">t=1458691200</th>\n",
       "      <th>PrecisionK_10</th>\n",
       "      <td>0.000010</td>\n",
       "      <td>260637</td>\n",
       "    </tr>\n",
       "    <tr>\n",
       "      <th>RecallK_10</th>\n",
       "      <td>0.000044</td>\n",
       "      <td>260637</td>\n",
       "    </tr>\n",
       "    <tr>\n",
       "      <th rowspan=\"2\" valign=\"top\">t=1484611200</th>\n",
       "      <th>PrecisionK_10</th>\n",
       "      <td>0.000025</td>\n",
       "      <td>126083</td>\n",
       "    </tr>\n",
       "    <tr>\n",
       "      <th>RecallK_10</th>\n",
       "      <td>0.000118</td>\n",
       "      <td>126083</td>\n",
       "    </tr>\n",
       "    <tr>\n",
       "      <th rowspan=\"2\" valign=\"top\">t=1510531200</th>\n",
       "      <th>PrecisionK_10</th>\n",
       "      <td>0.000009</td>\n",
       "      <td>66625</td>\n",
       "    </tr>\n",
       "    <tr>\n",
       "      <th>RecallK_10</th>\n",
       "      <td>0.000064</td>\n",
       "      <td>66625</td>\n",
       "    </tr>\n",
       "    <tr>\n",
       "      <th rowspan=\"2\" valign=\"top\">t=1536451200</th>\n",
       "      <th>PrecisionK_10</th>\n",
       "      <td>0.000000</td>\n",
       "      <td>377</td>\n",
       "    </tr>\n",
       "    <tr>\n",
       "      <th>RecallK_10</th>\n",
       "      <td>0.000000</td>\n",
       "      <td>377</td>\n",
       "    </tr>\n",
       "    <tr>\n",
       "      <th rowspan=\"12\" valign=\"top\">ItemKNNRolling(K=10)</th>\n",
       "      <th rowspan=\"2\" valign=\"top\">t=1406851200</th>\n",
       "      <th>PrecisionK_10</th>\n",
       "      <td>0.000712</td>\n",
       "      <td>785024</td>\n",
       "    </tr>\n",
       "    <tr>\n",
       "      <th>RecallK_10</th>\n",
       "      <td>0.003552</td>\n",
       "      <td>785024</td>\n",
       "    </tr>\n",
       "    <tr>\n",
       "      <th rowspan=\"2\" valign=\"top\">t=1432771200</th>\n",
       "      <th>PrecisionK_10</th>\n",
       "      <td>0.001766</td>\n",
       "      <td>342331</td>\n",
       "    </tr>\n",
       "    <tr>\n",
       "      <th>RecallK_10</th>\n",
       "      <td>0.009503</td>\n",
       "      <td>342331</td>\n",
       "    </tr>\n",
       "    <tr>\n",
       "      <th rowspan=\"2\" valign=\"top\">t=1458691200</th>\n",
       "      <th>PrecisionK_10</th>\n",
       "      <td>0.002885</td>\n",
       "      <td>260637</td>\n",
       "    </tr>\n",
       "    <tr>\n",
       "      <th>RecallK_10</th>\n",
       "      <td>0.016929</td>\n",
       "      <td>260637</td>\n",
       "    </tr>\n",
       "    <tr>\n",
       "      <th rowspan=\"2\" valign=\"top\">t=1484611200</th>\n",
       "      <th>PrecisionK_10</th>\n",
       "      <td>0.002889</td>\n",
       "      <td>126083</td>\n",
       "    </tr>\n",
       "    <tr>\n",
       "      <th>RecallK_10</th>\n",
       "      <td>0.019928</td>\n",
       "      <td>126083</td>\n",
       "    </tr>\n",
       "    <tr>\n",
       "      <th rowspan=\"2\" valign=\"top\">t=1510531200</th>\n",
       "      <th>PrecisionK_10</th>\n",
       "      <td>0.001177</td>\n",
       "      <td>66625</td>\n",
       "    </tr>\n",
       "    <tr>\n",
       "      <th>RecallK_10</th>\n",
       "      <td>0.006403</td>\n",
       "      <td>66625</td>\n",
       "    </tr>\n",
       "    <tr>\n",
       "      <th rowspan=\"2\" valign=\"top\">t=1536451200</th>\n",
       "      <th>PrecisionK_10</th>\n",
       "      <td>0.000796</td>\n",
       "      <td>377</td>\n",
       "    </tr>\n",
       "    <tr>\n",
       "      <th>RecallK_10</th>\n",
       "      <td>0.006631</td>\n",
       "      <td>377</td>\n",
       "    </tr>\n",
       "    <tr>\n",
       "      <th rowspan=\"12\" valign=\"top\">ItemKNNIncremental(K=10)</th>\n",
       "      <th rowspan=\"2\" valign=\"top\">t=1406851200</th>\n",
       "      <th>PrecisionK_10</th>\n",
       "      <td>0.000712</td>\n",
       "      <td>785024</td>\n",
       "    </tr>\n",
       "    <tr>\n",
       "      <th>RecallK_10</th>\n",
       "      <td>0.003552</td>\n",
       "      <td>785024</td>\n",
       "    </tr>\n",
       "    <tr>\n",
       "      <th rowspan=\"2\" valign=\"top\">t=1432771200</th>\n",
       "      <th>PrecisionK_10</th>\n",
       "      <td>0.002119</td>\n",
       "      <td>342331</td>\n",
       "    </tr>\n",
       "    <tr>\n",
       "      <th>RecallK_10</th>\n",
       "      <td>0.011268</td>\n",
       "      <td>342331</td>\n",
       "    </tr>\n",
       "    <tr>\n",
       "      <th rowspan=\"2\" valign=\"top\">t=1458691200</th>\n",
       "      <th>PrecisionK_10</th>\n",
       "      <td>0.003758</td>\n",
       "      <td>260637</td>\n",
       "    </tr>\n",
       "    <tr>\n",
       "      <th>RecallK_10</th>\n",
       "      <td>0.021564</td>\n",
       "      <td>260637</td>\n",
       "    </tr>\n",
       "    <tr>\n",
       "      <th rowspan=\"2\" valign=\"top\">t=1484611200</th>\n",
       "      <th>PrecisionK_10</th>\n",
       "      <td>0.003744</td>\n",
       "      <td>126083</td>\n",
       "    </tr>\n",
       "    <tr>\n",
       "      <th>RecallK_10</th>\n",
       "      <td>0.024861</td>\n",
       "      <td>126083</td>\n",
       "    </tr>\n",
       "    <tr>\n",
       "      <th rowspan=\"2\" valign=\"top\">t=1510531200</th>\n",
       "      <th>PrecisionK_10</th>\n",
       "      <td>0.002298</td>\n",
       "      <td>66625</td>\n",
       "    </tr>\n",
       "    <tr>\n",
       "      <th>RecallK_10</th>\n",
       "      <td>0.011937</td>\n",
       "      <td>66625</td>\n",
       "    </tr>\n",
       "    <tr>\n",
       "      <th rowspan=\"2\" valign=\"top\">t=1536451200</th>\n",
       "      <th>PrecisionK_10</th>\n",
       "      <td>0.001857</td>\n",
       "      <td>377</td>\n",
       "    </tr>\n",
       "    <tr>\n",
       "      <th>RecallK_10</th>\n",
       "      <td>0.015915</td>\n",
       "      <td>377</td>\n",
       "    </tr>\n",
       "  </tbody>\n",
       "</table>\n",
       "</div>"
      ],
      "text/plain": [
       "                                                        score  num_user\n",
       "Algorithm                Timestamp    Metric                           \n",
       "ItemKNNStatic(K=10)      t=1406851200 PrecisionK_10  0.000007    785024\n",
       "                                      RecallK_10     0.000030    785024\n",
       "                         t=1432771200 PrecisionK_10  0.000014    342331\n",
       "                                      RecallK_10     0.000058    342331\n",
       "                         t=1458691200 PrecisionK_10  0.000010    260637\n",
       "                                      RecallK_10     0.000044    260637\n",
       "                         t=1484611200 PrecisionK_10  0.000025    126083\n",
       "                                      RecallK_10     0.000118    126083\n",
       "                         t=1510531200 PrecisionK_10  0.000009     66625\n",
       "                                      RecallK_10     0.000064     66625\n",
       "                         t=1536451200 PrecisionK_10  0.000000       377\n",
       "                                      RecallK_10     0.000000       377\n",
       "ItemKNNRolling(K=10)     t=1406851200 PrecisionK_10  0.000712    785024\n",
       "                                      RecallK_10     0.003552    785024\n",
       "                         t=1432771200 PrecisionK_10  0.001766    342331\n",
       "                                      RecallK_10     0.009503    342331\n",
       "                         t=1458691200 PrecisionK_10  0.002885    260637\n",
       "                                      RecallK_10     0.016929    260637\n",
       "                         t=1484611200 PrecisionK_10  0.002889    126083\n",
       "                                      RecallK_10     0.019928    126083\n",
       "                         t=1510531200 PrecisionK_10  0.001177     66625\n",
       "                                      RecallK_10     0.006403     66625\n",
       "                         t=1536451200 PrecisionK_10  0.000796       377\n",
       "                                      RecallK_10     0.006631       377\n",
       "ItemKNNIncremental(K=10) t=1406851200 PrecisionK_10  0.000712    785024\n",
       "                                      RecallK_10     0.003552    785024\n",
       "                         t=1432771200 PrecisionK_10  0.002119    342331\n",
       "                                      RecallK_10     0.011268    342331\n",
       "                         t=1458691200 PrecisionK_10  0.003758    260637\n",
       "                                      RecallK_10     0.021564    260637\n",
       "                         t=1484611200 PrecisionK_10  0.003744    126083\n",
       "                                      RecallK_10     0.024861    126083\n",
       "                         t=1510531200 PrecisionK_10  0.002298     66625\n",
       "                                      RecallK_10     0.011937     66625\n",
       "                         t=1536451200 PrecisionK_10  0.001857       377\n",
       "                                      RecallK_10     0.015915       377"
      ]
     },
     "metadata": {},
     "output_type": "display_data"
    }
   ],
   "source": [
    "evaluator.metric_results(level=\"micro\")"
   ]
  },
  {
   "cell_type": "code",
   "execution_count": null,
   "metadata": {},
   "outputs": [
    {
     "name": "stdout",
     "output_type": "stream",
     "text": [
      "\u001b[37mDEBUG   \u001b[0m - streamsight.metrics.precision - \u001b[34mPrecision compute complete - PrecisionK_10\u001b[0m\n",
      "\u001b[37mDEBUG   \u001b[0m - streamsight.metrics.recall - \u001b[34mRecall compute complete - RecallK_10\u001b[0m\n",
      "\u001b[37mDEBUG   \u001b[0m - streamsight.metrics.precision - \u001b[34mPrecision compute complete - PrecisionK_10\u001b[0m\n",
      "\u001b[37mDEBUG   \u001b[0m - streamsight.metrics.recall - \u001b[34mRecall compute complete - RecallK_10\u001b[0m\n",
      "\u001b[37mDEBUG   \u001b[0m - streamsight.metrics.precision - \u001b[34mPrecision compute complete - PrecisionK_10\u001b[0m\n",
      "\u001b[37mDEBUG   \u001b[0m - streamsight.metrics.recall - \u001b[34mRecall compute complete - RecallK_10\u001b[0m\n"
     ]
    },
    {
     "data": {
      "text/html": [
       "<div>\n",
       "<style scoped>\n",
       "    .dataframe tbody tr th:only-of-type {\n",
       "        vertical-align: middle;\n",
       "    }\n",
       "\n",
       "    .dataframe tbody tr th {\n",
       "        vertical-align: top;\n",
       "    }\n",
       "\n",
       "    .dataframe thead th {\n",
       "        text-align: right;\n",
       "    }\n",
       "</style>\n",
       "<table border=\"1\" class=\"dataframe\">\n",
       "  <thead>\n",
       "    <tr style=\"text-align: right;\">\n",
       "      <th></th>\n",
       "      <th></th>\n",
       "      <th>score</th>\n",
       "    </tr>\n",
       "    <tr>\n",
       "      <th>Algorithm</th>\n",
       "      <th>Metric</th>\n",
       "      <th></th>\n",
       "    </tr>\n",
       "  </thead>\n",
       "  <tbody>\n",
       "    <tr>\n",
       "      <th rowspan=\"2\" valign=\"top\">ItemKNNStatic(K=10)</th>\n",
       "      <th>PrecisionK_10</th>\n",
       "      <td>0.000011</td>\n",
       "    </tr>\n",
       "    <tr>\n",
       "      <th>RecallK_10</th>\n",
       "      <td>0.000047</td>\n",
       "    </tr>\n",
       "    <tr>\n",
       "      <th rowspan=\"2\" valign=\"top\">ItemKNNRolling(K=10)</th>\n",
       "      <th>PrecisionK_10</th>\n",
       "      <td>0.001492</td>\n",
       "    </tr>\n",
       "    <tr>\n",
       "      <th>RecallK_10</th>\n",
       "      <td>0.008473</td>\n",
       "    </tr>\n",
       "    <tr>\n",
       "      <th rowspan=\"2\" valign=\"top\">ItemKNNIncremental(K=10)</th>\n",
       "      <th>PrecisionK_10</th>\n",
       "      <td>0.001828</td>\n",
       "    </tr>\n",
       "    <tr>\n",
       "      <th>RecallK_10</th>\n",
       "      <td>0.010248</td>\n",
       "    </tr>\n",
       "  </tbody>\n",
       "</table>\n",
       "</div>"
      ],
      "text/plain": [
       "                                           score\n",
       "Algorithm                Metric                 \n",
       "ItemKNNStatic(K=10)      PrecisionK_10  0.000011\n",
       "                         RecallK_10     0.000047\n",
       "ItemKNNRolling(K=10)     PrecisionK_10  0.001492\n",
       "                         RecallK_10     0.008473\n",
       "ItemKNNIncremental(K=10) PrecisionK_10  0.001828\n",
       "                         RecallK_10     0.010248"
      ]
     },
     "metadata": {},
     "output_type": "display_data"
    }
   ],
   "source": [
    "evaluator.metric_results(level=\"macro\")"
   ]
  }
 ],
 "metadata": {
  "language_info": {
   "name": "python"
  }
 },
 "nbformat": 4,
 "nbformat_minor": 2
}

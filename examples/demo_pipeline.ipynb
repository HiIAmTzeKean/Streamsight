{
 "cells": [
  {
   "cell_type": "markdown",
   "metadata": {},
   "source": [
    "# Demo Pipeline\n",
    "\n",
    "In this workbook we will be demonstrating how to use streamsight to create\n",
    "a pipeline to evaluate RecSys algorithms. Please refer to [demo.ipynb](demo.ipynb)\n",
    "if you have not as it outlines how the pipeline works under the hood.\n",
    "\n",
    "We will use Amazon movie data to show case the pipeline and some of the common\n",
    "methods that you can call to evaluate your RecSys algorithms.\n",
    "\n",
    "To start off, we will set the k value to be 10 first. This will mean that\n",
    "for any of the top K metric or algorithm, we will only consider the top 10\n",
    "recommendations."
   ]
  },
  {
   "cell_type": "code",
   "execution_count": 1,
   "metadata": {},
   "outputs": [],
   "source": [
    "k = 10"
   ]
  },
  {
   "cell_type": "markdown",
   "metadata": {},
   "source": [
    "## Load\n",
    "\n",
    "We will load the dataset of choice and instantiate the setting that we want\n",
    "to evaluate the algorithms on. We will use the sliding window setting for this\n",
    "demo to show case the results of the evaluation.\n",
    "\n",
    "Similarly to the demo, we can specify a range of parametres to create different\n",
    "window sizes."
   ]
  },
  {
   "cell_type": "code",
   "execution_count": 2,
   "metadata": {},
   "outputs": [
    {
     "name": "stdout",
     "output_type": "stream",
     "text": [
      "\u001b[37mDEBUG   \u001b[0m - streamsight - \u001b[34mLogging is configured.\u001b[0m\n",
      "\u001b[32mINFO    \u001b[0m - streamsight - \u001b[34mLogging started\u001b[0m\n",
      "\u001b[33mWARNING \u001b[0m - streamsight - \u001b[34mLogging warning works\u001b[0m\n",
      "\u001b[37mDEBUG   \u001b[0m - streamsight.datasets.base - \u001b[34mAmazonMovieDataset being initialized with 'data' as the base path.\u001b[0m\n",
      "\u001b[37mDEBUG   \u001b[0m - streamsight.datasets.base - \u001b[34mAmazonMovieDataset is initialized.\u001b[0m\n",
      "\u001b[32mINFO    \u001b[0m - streamsight.datasets.base - \u001b[34mAmazonMovieDataset is loading dataset...\u001b[0m\n",
      "\u001b[37mDEBUG   \u001b[0m - streamsight.datasets.base - \u001b[34mData file is in memory and in dir specified.\u001b[0m\n"
     ]
    },
    {
     "name": "stderr",
     "output_type": "stream",
     "text": [
      "/Users/ngtzekean/Github/Streamsight/.venv/lib/python3.12/site-packages/tqdm/auto.py:21: TqdmWarning: IProgress not found. Please update jupyter and ipywidgets. See https://ipywidgets.readthedocs.io/en/stable/user_install.html\n",
      "  from .autonotebook import tqdm as notebook_tqdm\n"
     ]
    },
    {
     "name": "stdout",
     "output_type": "stream",
     "text": [
      "\u001b[37mDEBUG   \u001b[0m - streamsight.datasets.base - \u001b[34mAmazonMovieDataset applying filters set.\u001b[0m\n",
      "\u001b[37mDEBUG   \u001b[0m - streamsight.preprocessing.preprocessor - \u001b[34m\tinteractions before preprocess: 8765568\u001b[0m\n",
      "\u001b[37mDEBUG   \u001b[0m - streamsight.preprocessing.preprocessor - \u001b[34m\titems before preprocess: 182032\u001b[0m\n",
      "\u001b[37mDEBUG   \u001b[0m - streamsight.preprocessing.preprocessor - \u001b[34m\tusers before preprocess: 3826085\u001b[0m\n",
      "\u001b[37mDEBUG   \u001b[0m - streamsight.preprocessing.preprocessor - \u001b[34m\tinteractions after preprocess: 8765568\u001b[0m\n",
      "\u001b[37mDEBUG   \u001b[0m - streamsight.preprocessing.preprocessor - \u001b[34m\titems after preprocess: 182032\u001b[0m\n",
      "\u001b[37mDEBUG   \u001b[0m - streamsight.preprocessing.preprocessor - \u001b[34m\tusers after preprocess: 3826085\u001b[0m\n",
      "\u001b[32mINFO    \u001b[0m - streamsight.datasets.base - \u001b[34mAmazonMovieDataset dataset loaded - Took 12.1s\u001b[0m\n",
      "\u001b[32mINFO    \u001b[0m - streamsight.settings.base - \u001b[34mSplitting data...\u001b[0m\n",
      "\u001b[37mDEBUG   \u001b[0m - streamsight.matrix.interaction_matrix - \u001b[34mPerforming lt(t, 1406851200)\u001b[0m\n",
      "\u001b[37mDEBUG   \u001b[0m - streamsight.matrix.interaction_matrix - \u001b[34mPerforming ge(t, 1406851200)\u001b[0m\n",
      "\u001b[37mDEBUG   \u001b[0m - streamsight.settings.splitters - \u001b[34mTimestampSplitter(t=1406851200,t_lower=None,t_upper=None) has complete split\u001b[0m\n"
     ]
    },
    {
     "name": "stderr",
     "output_type": "stream",
     "text": [
      "  0%|          | 0/5 [00:00<?, ?it/s]"
     ]
    },
    {
     "name": "stdout",
     "output_type": "stream",
     "text": [
      "\u001b[37mDEBUG   \u001b[0m - streamsight.settings.splitters - \u001b[34mNPastInteractionTimestampSplitter(t=1406851200,t_lower=None,t_upper=25920000,n_seq_data=10) - Updating split point to t=1406851200\u001b[0m\n",
      "\u001b[37mDEBUG   \u001b[0m - streamsight.matrix.interaction_matrix - \u001b[34mPerforming lt(t, 1432771200)\u001b[0m\n",
      "\u001b[37mDEBUG   \u001b[0m - streamsight.matrix.interaction_matrix - \u001b[34mPerforming ge(t, 1406851200)\u001b[0m\n",
      "\u001b[37mDEBUG   \u001b[0m - streamsight.matrix.interaction_matrix - \u001b[34mPerforming get_user_n_last_interaction comparison\u001b[0m\n",
      "\u001b[37mDEBUG   \u001b[0m - streamsight.settings.splitters - \u001b[34mNPastInteractionTimestampSplitter(t=1406851200,t_lower=None,t_upper=25920000,n_seq_data=10) has complete split\u001b[0m\n"
     ]
    },
    {
     "name": "stderr",
     "output_type": "stream",
     "text": [
      " 20%|██        | 1/5 [00:00<00:02,  1.51it/s]"
     ]
    },
    {
     "name": "stdout",
     "output_type": "stream",
     "text": [
      "\u001b[37mDEBUG   \u001b[0m - streamsight.settings.splitters - \u001b[34mNPastInteractionTimestampSplitter(t=1406851200,t_lower=None,t_upper=25920000,n_seq_data=10) - Updating split point to t=1432771200\u001b[0m\n",
      "\u001b[37mDEBUG   \u001b[0m - streamsight.matrix.interaction_matrix - \u001b[34mPerforming lt(t, 1458691200)\u001b[0m\n",
      "\u001b[37mDEBUG   \u001b[0m - streamsight.matrix.interaction_matrix - \u001b[34mPerforming ge(t, 1432771200)\u001b[0m\n",
      "\u001b[37mDEBUG   \u001b[0m - streamsight.matrix.interaction_matrix - \u001b[34mPerforming get_user_n_last_interaction comparison\u001b[0m\n",
      "\u001b[37mDEBUG   \u001b[0m - streamsight.settings.splitters - \u001b[34mNPastInteractionTimestampSplitter(t=1432771200,t_lower=None,t_upper=25920000,n_seq_data=10) has complete split\u001b[0m\n"
     ]
    },
    {
     "name": "stderr",
     "output_type": "stream",
     "text": [
      " 40%|████      | 2/5 [00:01<00:01,  1.61it/s]"
     ]
    },
    {
     "name": "stdout",
     "output_type": "stream",
     "text": [
      "\u001b[37mDEBUG   \u001b[0m - streamsight.settings.splitters - \u001b[34mNPastInteractionTimestampSplitter(t=1432771200,t_lower=None,t_upper=25920000,n_seq_data=10) - Updating split point to t=1458691200\u001b[0m\n",
      "\u001b[37mDEBUG   \u001b[0m - streamsight.matrix.interaction_matrix - \u001b[34mPerforming lt(t, 1484611200)\u001b[0m\n",
      "\u001b[37mDEBUG   \u001b[0m - streamsight.matrix.interaction_matrix - \u001b[34mPerforming ge(t, 1458691200)\u001b[0m\n",
      "\u001b[37mDEBUG   \u001b[0m - streamsight.matrix.interaction_matrix - \u001b[34mPerforming get_user_n_last_interaction comparison\u001b[0m\n",
      "\u001b[37mDEBUG   \u001b[0m - streamsight.settings.splitters - \u001b[34mNPastInteractionTimestampSplitter(t=1458691200,t_lower=None,t_upper=25920000,n_seq_data=10) has complete split\u001b[0m\n"
     ]
    },
    {
     "name": "stderr",
     "output_type": "stream",
     "text": [
      " 60%|██████    | 3/5 [00:01<00:01,  1.52it/s]"
     ]
    },
    {
     "name": "stdout",
     "output_type": "stream",
     "text": [
      "\u001b[37mDEBUG   \u001b[0m - streamsight.settings.splitters - \u001b[34mNPastInteractionTimestampSplitter(t=1458691200,t_lower=None,t_upper=25920000,n_seq_data=10) - Updating split point to t=1484611200\u001b[0m\n",
      "\u001b[37mDEBUG   \u001b[0m - streamsight.matrix.interaction_matrix - \u001b[34mPerforming lt(t, 1510531200)\u001b[0m\n",
      "\u001b[37mDEBUG   \u001b[0m - streamsight.matrix.interaction_matrix - \u001b[34mPerforming ge(t, 1484611200)\u001b[0m\n",
      "\u001b[37mDEBUG   \u001b[0m - streamsight.matrix.interaction_matrix - \u001b[34mPerforming get_user_n_last_interaction comparison\u001b[0m\n",
      "\u001b[37mDEBUG   \u001b[0m - streamsight.settings.splitters - \u001b[34mNPastInteractionTimestampSplitter(t=1484611200,t_lower=None,t_upper=25920000,n_seq_data=10) has complete split\u001b[0m\n"
     ]
    },
    {
     "name": "stderr",
     "output_type": "stream",
     "text": [
      " 80%|████████  | 4/5 [00:02<00:00,  1.73it/s]"
     ]
    },
    {
     "name": "stdout",
     "output_type": "stream",
     "text": [
      "\u001b[37mDEBUG   \u001b[0m - streamsight.settings.splitters - \u001b[34mNPastInteractionTimestampSplitter(t=1484611200,t_lower=None,t_upper=25920000,n_seq_data=10) - Updating split point to t=1510531200\u001b[0m\n",
      "\u001b[37mDEBUG   \u001b[0m - streamsight.matrix.interaction_matrix - \u001b[34mPerforming lt(t, 1536451200)\u001b[0m\n",
      "\u001b[37mDEBUG   \u001b[0m - streamsight.matrix.interaction_matrix - \u001b[34mPerforming ge(t, 1510531200)\u001b[0m\n",
      "\u001b[37mDEBUG   \u001b[0m - streamsight.matrix.interaction_matrix - \u001b[34mPerforming get_user_n_last_interaction comparison\u001b[0m\n",
      "\u001b[37mDEBUG   \u001b[0m - streamsight.settings.splitters - \u001b[34mNPastInteractionTimestampSplitter(t=1510531200,t_lower=None,t_upper=25920000,n_seq_data=10) has complete split\u001b[0m\n"
     ]
    },
    {
     "name": "stderr",
     "output_type": "stream",
     "text": [
      "100%|██████████| 5/5 [00:02<00:00,  1.91it/s]"
     ]
    },
    {
     "name": "stdout",
     "output_type": "stream",
     "text": [
      "\u001b[37mDEBUG   \u001b[0m - streamsight.settings.splitters - \u001b[34mNPastInteractionTimestampSplitter(t=1510531200,t_lower=None,t_upper=25920000,n_seq_data=10) - Updating split point to t=1536451200\u001b[0m\n",
      "\u001b[37mDEBUG   \u001b[0m - streamsight.matrix.interaction_matrix - \u001b[34mPerforming lt(t, 1562371200)\u001b[0m\n",
      "\u001b[37mDEBUG   \u001b[0m - streamsight.matrix.interaction_matrix - \u001b[34mPerforming ge(t, 1536451200)\u001b[0m\n",
      "\u001b[37mDEBUG   \u001b[0m - streamsight.matrix.interaction_matrix - \u001b[34mPerforming get_user_n_last_interaction comparison\u001b[0m\n",
      "\u001b[37mDEBUG   \u001b[0m - streamsight.settings.splitters - \u001b[34mNPastInteractionTimestampSplitter(t=1536451200,t_lower=None,t_upper=25920000,n_seq_data=10) has complete split\u001b[0m\n"
     ]
    },
    {
     "name": "stderr",
     "output_type": "stream",
     "text": [
      "6it [00:03,  1.94it/s]                       "
     ]
    },
    {
     "name": "stdout",
     "output_type": "stream",
     "text": [
      "\u001b[32mINFO    \u001b[0m - streamsight.settings.sliding_window_setting - \u001b[34mFinished split with window size 25920000 seconds. Number of splits: 6\u001b[0m\n",
      "\u001b[37mDEBUG   \u001b[0m - streamsight.settings.base - \u001b[34mChecking split attribute and sizes.\u001b[0m\n",
      "\u001b[37mDEBUG   \u001b[0m - streamsight.settings.base - \u001b[34mChecking split attributes.\u001b[0m\n",
      "\u001b[37mDEBUG   \u001b[0m - streamsight.settings.base - \u001b[34mSplit attributes are set.\u001b[0m\n",
      "\u001b[37mDEBUG   \u001b[0m - streamsight.settings.base - \u001b[34mChecking size of split sets.\u001b[0m\n",
      "\u001b[37mDEBUG   \u001b[0m - streamsight.settings.base - \u001b[34mSize of split sets are checked.\u001b[0m\n"
     ]
    },
    {
     "name": "stderr",
     "output_type": "stream",
     "text": [
      "\n"
     ]
    }
   ],
   "source": [
    "from streamsight.datasets import AmazonMovieDataset\n",
    "from streamsight.settings import SlidingWindowSetting\n",
    "\n",
    "dataset = AmazonMovieDataset()\n",
    "data = dataset.load()\n",
    "setting_sliding = SlidingWindowSetting(\n",
    "    background_t=1406851200,\n",
    "    window_size=60 * 60 * 24 * 300, # day times N\n",
    "    n_seq_data=10,\n",
    "    top_K=k\n",
    ")\n",
    "setting_sliding.split(data)\n"
   ]
  },
  {
   "cell_type": "markdown",
   "metadata": {},
   "source": [
    "## Evaluate\n",
    "\n",
    "The evaluation of the algorithm will be abstracted by the pipeline. To create\n",
    "the pipeline a builder class is used. This is the recommended way to create\n",
    "pipelines as it allows for easy modification of the pipeline and easy\n",
    "reproduction of the pipeline.\n",
    "\n",
    "Adding of algorithm and metric can be done as shown below. Once the builder is\n",
    "set up, the pipeline can will be returned by calling the `build` method.\n",
    "\n",
    "Running the pipeline can be done via the `run` method. To run the pipeline in\n",
    "step, the `run_step` method can be used. This will run the pipeline step by\n",
    "step."
   ]
  },
  {
   "cell_type": "code",
   "execution_count": 3,
   "metadata": {},
   "outputs": [
    {
     "name": "stdout",
     "output_type": "stream",
     "text": [
      "\u001b[32mINFO    \u001b[0m - streamsight.evaluators.evaluator_pipeline - \u001b[34mPhase 1: Preparing the evaluator...\u001b[0m\n",
      "\u001b[32mINFO    \u001b[0m - streamsight.algorithms.base - \u001b[34mFitting ItemKNNStatic complete - Took 3.79s\u001b[0m\n",
      "\u001b[32mINFO    \u001b[0m - streamsight.algorithms.base - \u001b[34mFitting ItemKNNRolling complete - Took 3.84s\u001b[0m\n",
      "\u001b[32mINFO    \u001b[0m - streamsight.algorithms.itemknn_incremental - \u001b[34mUpdating historical data for ItemKNNIncremental - Took 9.54e-07s\u001b[0m\n",
      "\u001b[32mINFO    \u001b[0m - streamsight.algorithms.base - \u001b[34mFitting ItemKNNIncremental complete - Took 3.77s\u001b[0m\n",
      "\u001b[37mDEBUG   \u001b[0m - streamsight.evaluators.evaluator_pipeline - \u001b[34mAlgorithms trained with background data...\u001b[0m\n",
      "\u001b[37mDEBUG   \u001b[0m - streamsight.evaluators.accumulator - \u001b[34mMetric PrecisionK(K=10) created for algorithm ItemKNNStatic(K=10)\u001b[0m\n",
      "\u001b[37mDEBUG   \u001b[0m - streamsight.evaluators.accumulator - \u001b[34mMetric RecallK(K=10) created for algorithm ItemKNNStatic(K=10)\u001b[0m\n",
      "\u001b[37mDEBUG   \u001b[0m - streamsight.evaluators.accumulator - \u001b[34mMetric PrecisionK(K=10) created for algorithm ItemKNNRolling(K=10)\u001b[0m\n",
      "\u001b[37mDEBUG   \u001b[0m - streamsight.evaluators.accumulator - \u001b[34mMetric RecallK(K=10) created for algorithm ItemKNNRolling(K=10)\u001b[0m\n",
      "\u001b[37mDEBUG   \u001b[0m - streamsight.evaluators.accumulator - \u001b[34mMetric PrecisionK(K=10) created for algorithm ItemKNNIncremental(K=10)\u001b[0m\n",
      "\u001b[37mDEBUG   \u001b[0m - streamsight.evaluators.accumulator - \u001b[34mMetric RecallK(K=10) created for algorithm ItemKNNIncremental(K=10)\u001b[0m\n",
      "\u001b[37mDEBUG   \u001b[0m - streamsight.evaluators.evaluator_pipeline - \u001b[34mMetric accumulator instantiated...\u001b[0m\n",
      "\u001b[32mINFO    \u001b[0m - streamsight.settings.base - \u001b[34mResetting data generators.\u001b[0m\n",
      "\u001b[32mINFO    \u001b[0m - streamsight.settings.base - \u001b[34mData generators are reset.\u001b[0m\n",
      "\u001b[37mDEBUG   \u001b[0m - streamsight.evaluators.evaluator_pipeline - \u001b[34mSetting data generators ready...\u001b[0m\n"
     ]
    },
    {
     "name": "stderr",
     "output_type": "stream",
     "text": [
      "  0%|          | 0/6 [00:00<?, ?it/s]"
     ]
    },
    {
     "name": "stdout",
     "output_type": "stream",
     "text": [
      "\u001b[32mINFO    \u001b[0m - streamsight.evaluators.evaluator_pipeline - \u001b[34mPhase 2: Evaluating the algorithms...\u001b[0m\n",
      "\u001b[37mDEBUG   \u001b[0m - streamsight.matrix.interaction_matrix - \u001b[34mPerforming items_in comparison\u001b[0m\n",
      "\u001b[37mDEBUG   \u001b[0m - streamsight.algorithms.base - \u001b[34mPredictions by algorithm completed\u001b[0m\n",
      "\u001b[37mDEBUG   \u001b[0m - streamsight.algorithms.base - \u001b[34mPadding user ID in range(139256, 2227666) with random items\u001b[0m\n",
      "\u001b[37mDEBUG   \u001b[0m - streamsight.algorithms.base - \u001b[34mPadding completed\u001b[0m\n",
      "\u001b[37mDEBUG   \u001b[0m - streamsight.metrics.precision - \u001b[34mPrecision compute complete - PrecisionK_10\u001b[0m\n",
      "\u001b[37mDEBUG   \u001b[0m - streamsight.evaluators.accumulator - \u001b[34mMetric PrecisionK(timestamp_limit=1406851200,K=10) created for algorithm ItemKNNStatic(K=10)\u001b[0m\n",
      "\u001b[37mDEBUG   \u001b[0m - streamsight.metrics.recall - \u001b[34mRecall compute complete - RecallK_10\u001b[0m\n",
      "\u001b[37mDEBUG   \u001b[0m - streamsight.evaluators.accumulator - \u001b[34mMetric RecallK(timestamp_limit=1406851200,K=10) created for algorithm ItemKNNStatic(K=10)\u001b[0m\n",
      "\u001b[37mDEBUG   \u001b[0m - streamsight.matrix.interaction_matrix - \u001b[34mPerforming items_in comparison\u001b[0m\n",
      "\u001b[37mDEBUG   \u001b[0m - streamsight.algorithms.base - \u001b[34mPredictions by algorithm completed\u001b[0m\n",
      "\u001b[37mDEBUG   \u001b[0m - streamsight.algorithms.base - \u001b[34mPadding user ID in range(1610953, 2227666) with random items\u001b[0m\n",
      "\u001b[37mDEBUG   \u001b[0m - streamsight.algorithms.base - \u001b[34mPadding completed\u001b[0m\n",
      "\u001b[37mDEBUG   \u001b[0m - streamsight.metrics.precision - \u001b[34mPrecision compute complete - PrecisionK_10\u001b[0m\n",
      "\u001b[37mDEBUG   \u001b[0m - streamsight.evaluators.accumulator - \u001b[34mMetric PrecisionK(timestamp_limit=1406851200,K=10) created for algorithm ItemKNNRolling(K=10)\u001b[0m\n",
      "\u001b[37mDEBUG   \u001b[0m - streamsight.metrics.recall - \u001b[34mRecall compute complete - RecallK_10\u001b[0m\n",
      "\u001b[37mDEBUG   \u001b[0m - streamsight.evaluators.accumulator - \u001b[34mMetric RecallK(timestamp_limit=1406851200,K=10) created for algorithm ItemKNNRolling(K=10)\u001b[0m\n",
      "\u001b[37mDEBUG   \u001b[0m - streamsight.matrix.interaction_matrix - \u001b[34mPerforming items_in comparison\u001b[0m\n",
      "\u001b[37mDEBUG   \u001b[0m - streamsight.algorithms.base - \u001b[34mPredictions by algorithm completed\u001b[0m\n",
      "\u001b[37mDEBUG   \u001b[0m - streamsight.algorithms.base - \u001b[34mPadding user ID in range(1610953, 2227666) with random items\u001b[0m\n",
      "\u001b[37mDEBUG   \u001b[0m - streamsight.algorithms.base - \u001b[34mPadding completed\u001b[0m\n",
      "\u001b[37mDEBUG   \u001b[0m - streamsight.metrics.precision - \u001b[34mPrecision compute complete - PrecisionK_10\u001b[0m\n",
      "\u001b[37mDEBUG   \u001b[0m - streamsight.evaluators.accumulator - \u001b[34mMetric PrecisionK(timestamp_limit=1406851200,K=10) created for algorithm ItemKNNIncremental(K=10)\u001b[0m\n",
      "\u001b[37mDEBUG   \u001b[0m - streamsight.metrics.recall - \u001b[34mRecall compute complete - RecallK_10\u001b[0m\n",
      "\u001b[37mDEBUG   \u001b[0m - streamsight.evaluators.accumulator - \u001b[34mMetric RecallK(timestamp_limit=1406851200,K=10) created for algorithm ItemKNNIncremental(K=10)\u001b[0m\n",
      "\u001b[32mINFO    \u001b[0m - streamsight.evaluators.evaluator_pipeline - \u001b[34mPhase 3: Releasing the data...\u001b[0m\n",
      "\u001b[32mINFO    \u001b[0m - streamsight.algorithms.base - \u001b[34mFitting ItemKNNStatic complete - Took 1.17s\u001b[0m\n",
      "\u001b[32mINFO    \u001b[0m - streamsight.algorithms.base - \u001b[34mFitting ItemKNNRolling complete - Took 1.17s\u001b[0m\n",
      "\u001b[32mINFO    \u001b[0m - streamsight.algorithms.itemknn_incremental - \u001b[34mUpdating historical data for ItemKNNIncremental - Took 0.0168s\u001b[0m\n",
      "\u001b[32mINFO    \u001b[0m - streamsight.algorithms.base - \u001b[34mFitting ItemKNNIncremental complete - Took 4.74s\u001b[0m\n"
     ]
    },
    {
     "name": "stderr",
     "output_type": "stream",
     "text": [
      " 17%|█▋        | 1/6 [00:18<01:34, 18.92s/it]"
     ]
    },
    {
     "name": "stdout",
     "output_type": "stream",
     "text": [
      "\u001b[32mINFO    \u001b[0m - streamsight.evaluators.evaluator_pipeline - \u001b[34mPhase 2: Evaluating the algorithms...\u001b[0m\n",
      "\u001b[37mDEBUG   \u001b[0m - streamsight.matrix.interaction_matrix - \u001b[34mPerforming items_in comparison\u001b[0m\n",
      "\u001b[37mDEBUG   \u001b[0m - streamsight.algorithms.base - \u001b[34mPredictions by algorithm completed\u001b[0m\n",
      "\u001b[37mDEBUG   \u001b[0m - streamsight.algorithms.base - \u001b[34mPadding user ID in range(154300, 2859229) with random items\u001b[0m\n",
      "\u001b[37mDEBUG   \u001b[0m - streamsight.algorithms.base - \u001b[34mPadding completed\u001b[0m\n",
      "\u001b[37mDEBUG   \u001b[0m - streamsight.metrics.precision - \u001b[34mPrecision compute complete - PrecisionK_10\u001b[0m\n",
      "\u001b[37mDEBUG   \u001b[0m - streamsight.evaluators.accumulator - \u001b[34mMetric PrecisionK(timestamp_limit=1432771200,K=10) created for algorithm ItemKNNStatic(K=10)\u001b[0m\n",
      "\u001b[37mDEBUG   \u001b[0m - streamsight.metrics.recall - \u001b[34mRecall compute complete - RecallK_10\u001b[0m\n",
      "\u001b[37mDEBUG   \u001b[0m - streamsight.evaluators.accumulator - \u001b[34mMetric RecallK(timestamp_limit=1432771200,K=10) created for algorithm ItemKNNStatic(K=10)\u001b[0m\n",
      "\u001b[37mDEBUG   \u001b[0m - streamsight.matrix.interaction_matrix - \u001b[34mPerforming items_in comparison\u001b[0m\n",
      "\u001b[37mDEBUG   \u001b[0m - streamsight.algorithms.base - \u001b[34mPredictions by algorithm completed\u001b[0m\n",
      "\u001b[37mDEBUG   \u001b[0m - streamsight.algorithms.base - \u001b[34mPadding user ID in range(2227666, 2859229) with random items\u001b[0m\n",
      "\u001b[37mDEBUG   \u001b[0m - streamsight.algorithms.base - \u001b[34mPadding completed\u001b[0m\n",
      "\u001b[37mDEBUG   \u001b[0m - streamsight.metrics.precision - \u001b[34mPrecision compute complete - PrecisionK_10\u001b[0m\n",
      "\u001b[37mDEBUG   \u001b[0m - streamsight.evaluators.accumulator - \u001b[34mMetric PrecisionK(timestamp_limit=1432771200,K=10) created for algorithm ItemKNNRolling(K=10)\u001b[0m\n",
      "\u001b[37mDEBUG   \u001b[0m - streamsight.metrics.recall - \u001b[34mRecall compute complete - RecallK_10\u001b[0m\n",
      "\u001b[37mDEBUG   \u001b[0m - streamsight.evaluators.accumulator - \u001b[34mMetric RecallK(timestamp_limit=1432771200,K=10) created for algorithm ItemKNNRolling(K=10)\u001b[0m\n",
      "\u001b[37mDEBUG   \u001b[0m - streamsight.matrix.interaction_matrix - \u001b[34mPerforming items_in comparison\u001b[0m\n",
      "\u001b[37mDEBUG   \u001b[0m - streamsight.algorithms.base - \u001b[34mPredictions by algorithm completed\u001b[0m\n",
      "\u001b[37mDEBUG   \u001b[0m - streamsight.algorithms.base - \u001b[34mPadding user ID in range(2227666, 2859229) with random items\u001b[0m\n",
      "\u001b[37mDEBUG   \u001b[0m - streamsight.algorithms.base - \u001b[34mPadding completed\u001b[0m\n",
      "\u001b[37mDEBUG   \u001b[0m - streamsight.metrics.precision - \u001b[34mPrecision compute complete - PrecisionK_10\u001b[0m\n",
      "\u001b[37mDEBUG   \u001b[0m - streamsight.evaluators.accumulator - \u001b[34mMetric PrecisionK(timestamp_limit=1432771200,K=10) created for algorithm ItemKNNIncremental(K=10)\u001b[0m\n",
      "\u001b[37mDEBUG   \u001b[0m - streamsight.metrics.recall - \u001b[34mRecall compute complete - RecallK_10\u001b[0m\n",
      "\u001b[37mDEBUG   \u001b[0m - streamsight.evaluators.accumulator - \u001b[34mMetric RecallK(timestamp_limit=1432771200,K=10) created for algorithm ItemKNNIncremental(K=10)\u001b[0m\n",
      "\u001b[32mINFO    \u001b[0m - streamsight.evaluators.evaluator_pipeline - \u001b[34mPhase 3: Releasing the data...\u001b[0m\n",
      "\u001b[32mINFO    \u001b[0m - streamsight.algorithms.base - \u001b[34mFitting ItemKNNStatic complete - Took 1.14s\u001b[0m\n",
      "\u001b[32mINFO    \u001b[0m - streamsight.algorithms.base - \u001b[34mFitting ItemKNNRolling complete - Took 1.14s\u001b[0m\n",
      "\u001b[32mINFO    \u001b[0m - streamsight.algorithms.itemknn_incremental - \u001b[34mUpdating historical data for ItemKNNIncremental - Took 0.0285s\u001b[0m\n",
      "\u001b[32mINFO    \u001b[0m - streamsight.algorithms.base - \u001b[34mFitting ItemKNNIncremental complete - Took 5.83s\u001b[0m\n"
     ]
    },
    {
     "name": "stderr",
     "output_type": "stream",
     "text": [
      " 33%|███▎      | 2/6 [00:42<01:25, 21.40s/it]"
     ]
    },
    {
     "name": "stdout",
     "output_type": "stream",
     "text": [
      "\u001b[32mINFO    \u001b[0m - streamsight.evaluators.evaluator_pipeline - \u001b[34mPhase 2: Evaluating the algorithms...\u001b[0m\n",
      "\u001b[37mDEBUG   \u001b[0m - streamsight.matrix.interaction_matrix - \u001b[34mPerforming items_in comparison\u001b[0m\n",
      "\u001b[37mDEBUG   \u001b[0m - streamsight.algorithms.base - \u001b[34mPredictions by algorithm completed\u001b[0m\n",
      "\u001b[37mDEBUG   \u001b[0m - streamsight.algorithms.base - \u001b[34mPadding user ID in range(165672, 3513948) with random items\u001b[0m\n",
      "\u001b[37mDEBUG   \u001b[0m - streamsight.algorithms.base - \u001b[34mPadding completed\u001b[0m\n",
      "\u001b[37mDEBUG   \u001b[0m - streamsight.metrics.precision - \u001b[34mPrecision compute complete - PrecisionK_10\u001b[0m\n",
      "\u001b[37mDEBUG   \u001b[0m - streamsight.evaluators.accumulator - \u001b[34mMetric PrecisionK(timestamp_limit=1458691200,K=10) created for algorithm ItemKNNStatic(K=10)\u001b[0m\n",
      "\u001b[37mDEBUG   \u001b[0m - streamsight.metrics.recall - \u001b[34mRecall compute complete - RecallK_10\u001b[0m\n",
      "\u001b[37mDEBUG   \u001b[0m - streamsight.evaluators.accumulator - \u001b[34mMetric RecallK(timestamp_limit=1458691200,K=10) created for algorithm ItemKNNStatic(K=10)\u001b[0m\n",
      "\u001b[37mDEBUG   \u001b[0m - streamsight.matrix.interaction_matrix - \u001b[34mPerforming items_in comparison\u001b[0m\n",
      "\u001b[37mDEBUG   \u001b[0m - streamsight.algorithms.base - \u001b[34mPredictions by algorithm completed\u001b[0m\n",
      "\u001b[37mDEBUG   \u001b[0m - streamsight.algorithms.base - \u001b[34mPadding user ID in range(2859229, 3513948) with random items\u001b[0m\n",
      "\u001b[37mDEBUG   \u001b[0m - streamsight.algorithms.base - \u001b[34mPadding completed\u001b[0m\n",
      "\u001b[37mDEBUG   \u001b[0m - streamsight.metrics.precision - \u001b[34mPrecision compute complete - PrecisionK_10\u001b[0m\n",
      "\u001b[37mDEBUG   \u001b[0m - streamsight.evaluators.accumulator - \u001b[34mMetric PrecisionK(timestamp_limit=1458691200,K=10) created for algorithm ItemKNNRolling(K=10)\u001b[0m\n",
      "\u001b[37mDEBUG   \u001b[0m - streamsight.metrics.recall - \u001b[34mRecall compute complete - RecallK_10\u001b[0m\n",
      "\u001b[37mDEBUG   \u001b[0m - streamsight.evaluators.accumulator - \u001b[34mMetric RecallK(timestamp_limit=1458691200,K=10) created for algorithm ItemKNNRolling(K=10)\u001b[0m\n",
      "\u001b[37mDEBUG   \u001b[0m - streamsight.matrix.interaction_matrix - \u001b[34mPerforming items_in comparison\u001b[0m\n",
      "\u001b[37mDEBUG   \u001b[0m - streamsight.algorithms.base - \u001b[34mPredictions by algorithm completed\u001b[0m\n",
      "\u001b[37mDEBUG   \u001b[0m - streamsight.algorithms.base - \u001b[34mPadding user ID in range(2859229, 3513948) with random items\u001b[0m\n",
      "\u001b[37mDEBUG   \u001b[0m - streamsight.algorithms.base - \u001b[34mPadding completed\u001b[0m\n",
      "\u001b[37mDEBUG   \u001b[0m - streamsight.metrics.precision - \u001b[34mPrecision compute complete - PrecisionK_10\u001b[0m\n",
      "\u001b[37mDEBUG   \u001b[0m - streamsight.evaluators.accumulator - \u001b[34mMetric PrecisionK(timestamp_limit=1458691200,K=10) created for algorithm ItemKNNIncremental(K=10)\u001b[0m\n",
      "\u001b[37mDEBUG   \u001b[0m - streamsight.metrics.recall - \u001b[34mRecall compute complete - RecallK_10\u001b[0m\n",
      "\u001b[37mDEBUG   \u001b[0m - streamsight.evaluators.accumulator - \u001b[34mMetric RecallK(timestamp_limit=1458691200,K=10) created for algorithm ItemKNNIncremental(K=10)\u001b[0m\n",
      "\u001b[32mINFO    \u001b[0m - streamsight.evaluators.evaluator_pipeline - \u001b[34mPhase 3: Releasing the data...\u001b[0m\n",
      "\u001b[32mINFO    \u001b[0m - streamsight.algorithms.base - \u001b[34mFitting ItemKNNStatic complete - Took 1.13s\u001b[0m\n",
      "\u001b[32mINFO    \u001b[0m - streamsight.algorithms.base - \u001b[34mFitting ItemKNNRolling complete - Took 1.16s\u001b[0m\n",
      "\u001b[32mINFO    \u001b[0m - streamsight.algorithms.itemknn_incremental - \u001b[34mUpdating historical data for ItemKNNIncremental - Took 0.0854s\u001b[0m\n",
      "\u001b[32mINFO    \u001b[0m - streamsight.algorithms.base - \u001b[34mFitting ItemKNNIncremental complete - Took 6.93s\u001b[0m\n"
     ]
    },
    {
     "name": "stderr",
     "output_type": "stream",
     "text": [
      " 50%|█████     | 3/6 [01:09<01:13, 24.38s/it]"
     ]
    },
    {
     "name": "stdout",
     "output_type": "stream",
     "text": [
      "\u001b[32mINFO    \u001b[0m - streamsight.evaluators.evaluator_pipeline - \u001b[34mPhase 2: Evaluating the algorithms...\u001b[0m\n",
      "\u001b[37mDEBUG   \u001b[0m - streamsight.matrix.interaction_matrix - \u001b[34mPerforming items_in comparison\u001b[0m\n",
      "\u001b[37mDEBUG   \u001b[0m - streamsight.algorithms.base - \u001b[34mPredictions by algorithm completed\u001b[0m\n",
      "\u001b[37mDEBUG   \u001b[0m - streamsight.algorithms.base - \u001b[34mPadding user ID in range(174404, 3715032) with random items\u001b[0m\n",
      "\u001b[37mDEBUG   \u001b[0m - streamsight.algorithms.base - \u001b[34mPadding completed\u001b[0m\n",
      "\u001b[37mDEBUG   \u001b[0m - streamsight.metrics.precision - \u001b[34mPrecision compute complete - PrecisionK_10\u001b[0m\n",
      "\u001b[37mDEBUG   \u001b[0m - streamsight.evaluators.accumulator - \u001b[34mMetric PrecisionK(timestamp_limit=1484611200,K=10) created for algorithm ItemKNNStatic(K=10)\u001b[0m\n",
      "\u001b[37mDEBUG   \u001b[0m - streamsight.metrics.recall - \u001b[34mRecall compute complete - RecallK_10\u001b[0m\n",
      "\u001b[37mDEBUG   \u001b[0m - streamsight.evaluators.accumulator - \u001b[34mMetric RecallK(timestamp_limit=1484611200,K=10) created for algorithm ItemKNNStatic(K=10)\u001b[0m\n",
      "\u001b[37mDEBUG   \u001b[0m - streamsight.matrix.interaction_matrix - \u001b[34mPerforming items_in comparison\u001b[0m\n",
      "\u001b[37mDEBUG   \u001b[0m - streamsight.algorithms.base - \u001b[34mPredictions by algorithm completed\u001b[0m\n",
      "\u001b[37mDEBUG   \u001b[0m - streamsight.algorithms.base - \u001b[34mPadding user ID in range(3513948, 3715032) with random items\u001b[0m\n",
      "\u001b[37mDEBUG   \u001b[0m - streamsight.algorithms.base - \u001b[34mPadding completed\u001b[0m\n",
      "\u001b[37mDEBUG   \u001b[0m - streamsight.metrics.precision - \u001b[34mPrecision compute complete - PrecisionK_10\u001b[0m\n",
      "\u001b[37mDEBUG   \u001b[0m - streamsight.evaluators.accumulator - \u001b[34mMetric PrecisionK(timestamp_limit=1484611200,K=10) created for algorithm ItemKNNRolling(K=10)\u001b[0m\n",
      "\u001b[37mDEBUG   \u001b[0m - streamsight.metrics.recall - \u001b[34mRecall compute complete - RecallK_10\u001b[0m\n",
      "\u001b[37mDEBUG   \u001b[0m - streamsight.evaluators.accumulator - \u001b[34mMetric RecallK(timestamp_limit=1484611200,K=10) created for algorithm ItemKNNRolling(K=10)\u001b[0m\n",
      "\u001b[37mDEBUG   \u001b[0m - streamsight.matrix.interaction_matrix - \u001b[34mPerforming items_in comparison\u001b[0m\n",
      "\u001b[37mDEBUG   \u001b[0m - streamsight.algorithms.base - \u001b[34mPredictions by algorithm completed\u001b[0m\n",
      "\u001b[37mDEBUG   \u001b[0m - streamsight.algorithms.base - \u001b[34mPadding user ID in range(3513948, 3715032) with random items\u001b[0m\n",
      "\u001b[37mDEBUG   \u001b[0m - streamsight.algorithms.base - \u001b[34mPadding completed\u001b[0m\n",
      "\u001b[37mDEBUG   \u001b[0m - streamsight.metrics.precision - \u001b[34mPrecision compute complete - PrecisionK_10\u001b[0m\n",
      "\u001b[37mDEBUG   \u001b[0m - streamsight.evaluators.accumulator - \u001b[34mMetric PrecisionK(timestamp_limit=1484611200,K=10) created for algorithm ItemKNNIncremental(K=10)\u001b[0m\n",
      "\u001b[37mDEBUG   \u001b[0m - streamsight.metrics.recall - \u001b[34mRecall compute complete - RecallK_10\u001b[0m\n",
      "\u001b[37mDEBUG   \u001b[0m - streamsight.evaluators.accumulator - \u001b[34mMetric RecallK(timestamp_limit=1484611200,K=10) created for algorithm ItemKNNIncremental(K=10)\u001b[0m\n",
      "\u001b[32mINFO    \u001b[0m - streamsight.evaluators.evaluator_pipeline - \u001b[34mPhase 3: Releasing the data...\u001b[0m\n",
      "\u001b[32mINFO    \u001b[0m - streamsight.algorithms.base - \u001b[34mFitting ItemKNNStatic complete - Took 1.08s\u001b[0m\n",
      "\u001b[32mINFO    \u001b[0m - streamsight.algorithms.base - \u001b[34mFitting ItemKNNRolling complete - Took 1.03s\u001b[0m\n",
      "\u001b[32mINFO    \u001b[0m - streamsight.algorithms.itemknn_incremental - \u001b[34mUpdating historical data for ItemKNNIncremental - Took 0.107s\u001b[0m\n",
      "\u001b[32mINFO    \u001b[0m - streamsight.algorithms.base - \u001b[34mFitting ItemKNNIncremental complete - Took 7.8s\u001b[0m\n"
     ]
    },
    {
     "name": "stderr",
     "output_type": "stream",
     "text": [
      " 67%|██████▋   | 4/6 [01:28<00:44, 22.05s/it]"
     ]
    },
    {
     "name": "stdout",
     "output_type": "stream",
     "text": [
      "\u001b[32mINFO    \u001b[0m - streamsight.evaluators.evaluator_pipeline - \u001b[34mPhase 2: Evaluating the algorithms...\u001b[0m\n",
      "\u001b[37mDEBUG   \u001b[0m - streamsight.matrix.interaction_matrix - \u001b[34mPerforming items_in comparison\u001b[0m\n",
      "\u001b[37mDEBUG   \u001b[0m - streamsight.algorithms.base - \u001b[34mPredictions by algorithm completed\u001b[0m\n",
      "\u001b[37mDEBUG   \u001b[0m - streamsight.algorithms.base - \u001b[34mPadding user ID in range(179572, 3825675) with random items\u001b[0m\n",
      "\u001b[37mDEBUG   \u001b[0m - streamsight.algorithms.base - \u001b[34mPadding completed\u001b[0m\n",
      "\u001b[37mDEBUG   \u001b[0m - streamsight.metrics.precision - \u001b[34mPrecision compute complete - PrecisionK_10\u001b[0m\n",
      "\u001b[37mDEBUG   \u001b[0m - streamsight.evaluators.accumulator - \u001b[34mMetric PrecisionK(timestamp_limit=1510531200,K=10) created for algorithm ItemKNNStatic(K=10)\u001b[0m\n",
      "\u001b[37mDEBUG   \u001b[0m - streamsight.metrics.recall - \u001b[34mRecall compute complete - RecallK_10\u001b[0m\n",
      "\u001b[37mDEBUG   \u001b[0m - streamsight.evaluators.accumulator - \u001b[34mMetric RecallK(timestamp_limit=1510531200,K=10) created for algorithm ItemKNNStatic(K=10)\u001b[0m\n",
      "\u001b[37mDEBUG   \u001b[0m - streamsight.matrix.interaction_matrix - \u001b[34mPerforming items_in comparison\u001b[0m\n",
      "\u001b[37mDEBUG   \u001b[0m - streamsight.algorithms.base - \u001b[34mPredictions by algorithm completed\u001b[0m\n",
      "\u001b[37mDEBUG   \u001b[0m - streamsight.algorithms.base - \u001b[34mPadding user ID in range(3715032, 3825675) with random items\u001b[0m\n",
      "\u001b[37mDEBUG   \u001b[0m - streamsight.algorithms.base - \u001b[34mPadding completed\u001b[0m\n",
      "\u001b[37mDEBUG   \u001b[0m - streamsight.metrics.precision - \u001b[34mPrecision compute complete - PrecisionK_10\u001b[0m\n",
      "\u001b[37mDEBUG   \u001b[0m - streamsight.evaluators.accumulator - \u001b[34mMetric PrecisionK(timestamp_limit=1510531200,K=10) created for algorithm ItemKNNRolling(K=10)\u001b[0m\n",
      "\u001b[37mDEBUG   \u001b[0m - streamsight.metrics.recall - \u001b[34mRecall compute complete - RecallK_10\u001b[0m\n",
      "\u001b[37mDEBUG   \u001b[0m - streamsight.evaluators.accumulator - \u001b[34mMetric RecallK(timestamp_limit=1510531200,K=10) created for algorithm ItemKNNRolling(K=10)\u001b[0m\n",
      "\u001b[37mDEBUG   \u001b[0m - streamsight.matrix.interaction_matrix - \u001b[34mPerforming items_in comparison\u001b[0m\n",
      "\u001b[37mDEBUG   \u001b[0m - streamsight.algorithms.base - \u001b[34mPredictions by algorithm completed\u001b[0m\n",
      "\u001b[37mDEBUG   \u001b[0m - streamsight.algorithms.base - \u001b[34mPadding user ID in range(3715032, 3825675) with random items\u001b[0m\n",
      "\u001b[37mDEBUG   \u001b[0m - streamsight.algorithms.base - \u001b[34mPadding completed\u001b[0m\n",
      "\u001b[37mDEBUG   \u001b[0m - streamsight.metrics.precision - \u001b[34mPrecision compute complete - PrecisionK_10\u001b[0m\n",
      "\u001b[37mDEBUG   \u001b[0m - streamsight.evaluators.accumulator - \u001b[34mMetric PrecisionK(timestamp_limit=1510531200,K=10) created for algorithm ItemKNNIncremental(K=10)\u001b[0m\n",
      "\u001b[37mDEBUG   \u001b[0m - streamsight.metrics.recall - \u001b[34mRecall compute complete - RecallK_10\u001b[0m\n",
      "\u001b[37mDEBUG   \u001b[0m - streamsight.evaluators.accumulator - \u001b[34mMetric RecallK(timestamp_limit=1510531200,K=10) created for algorithm ItemKNNIncremental(K=10)\u001b[0m\n",
      "\u001b[32mINFO    \u001b[0m - streamsight.evaluators.evaluator_pipeline - \u001b[34mPhase 3: Releasing the data...\u001b[0m\n",
      "\u001b[32mINFO    \u001b[0m - streamsight.algorithms.base - \u001b[34mFitting ItemKNNStatic complete - Took 0.849s\u001b[0m\n",
      "\u001b[32mINFO    \u001b[0m - streamsight.algorithms.base - \u001b[34mFitting ItemKNNRolling complete - Took 0.85s\u001b[0m\n",
      "\u001b[32mINFO    \u001b[0m - streamsight.algorithms.itemknn_incremental - \u001b[34mUpdating historical data for ItemKNNIncremental - Took 0.078s\u001b[0m\n",
      "\u001b[32mINFO    \u001b[0m - streamsight.algorithms.base - \u001b[34mFitting ItemKNNIncremental complete - Took 7.87s\u001b[0m\n"
     ]
    },
    {
     "name": "stderr",
     "output_type": "stream",
     "text": [
      " 83%|████████▎ | 5/6 [01:42<00:19, 19.33s/it]"
     ]
    },
    {
     "name": "stdout",
     "output_type": "stream",
     "text": [
      "\u001b[32mINFO    \u001b[0m - streamsight.evaluators.evaluator_pipeline - \u001b[34mPhase 2: Evaluating the algorithms...\u001b[0m\n",
      "\u001b[37mDEBUG   \u001b[0m - streamsight.matrix.interaction_matrix - \u001b[34mPerforming items_in comparison\u001b[0m\n",
      "\u001b[37mDEBUG   \u001b[0m - streamsight.algorithms.base - \u001b[34mPredictions by algorithm completed\u001b[0m\n",
      "\u001b[37mDEBUG   \u001b[0m - streamsight.algorithms.base - \u001b[34mPadding user ID in range(182031, 3826085) with random items\u001b[0m\n",
      "\u001b[37mDEBUG   \u001b[0m - streamsight.algorithms.base - \u001b[34mPadding completed\u001b[0m\n",
      "\u001b[37mDEBUG   \u001b[0m - streamsight.metrics.precision - \u001b[34mPrecision compute complete - PrecisionK_10\u001b[0m\n",
      "\u001b[37mDEBUG   \u001b[0m - streamsight.evaluators.accumulator - \u001b[34mMetric PrecisionK(timestamp_limit=1536451200,K=10) created for algorithm ItemKNNStatic(K=10)\u001b[0m\n",
      "\u001b[37mDEBUG   \u001b[0m - streamsight.metrics.recall - \u001b[34mRecall compute complete - RecallK_10\u001b[0m\n",
      "\u001b[37mDEBUG   \u001b[0m - streamsight.evaluators.accumulator - \u001b[34mMetric RecallK(timestamp_limit=1536451200,K=10) created for algorithm ItemKNNStatic(K=10)\u001b[0m\n",
      "\u001b[37mDEBUG   \u001b[0m - streamsight.matrix.interaction_matrix - \u001b[34mPerforming items_in comparison\u001b[0m\n",
      "\u001b[37mDEBUG   \u001b[0m - streamsight.algorithms.base - \u001b[34mPredictions by algorithm completed\u001b[0m\n",
      "\u001b[37mDEBUG   \u001b[0m - streamsight.algorithms.base - \u001b[34mPadding user ID in range(3825675, 3826085) with random items\u001b[0m\n",
      "\u001b[37mDEBUG   \u001b[0m - streamsight.algorithms.base - \u001b[34mPadding completed\u001b[0m\n",
      "\u001b[37mDEBUG   \u001b[0m - streamsight.metrics.precision - \u001b[34mPrecision compute complete - PrecisionK_10\u001b[0m\n",
      "\u001b[37mDEBUG   \u001b[0m - streamsight.evaluators.accumulator - \u001b[34mMetric PrecisionK(timestamp_limit=1536451200,K=10) created for algorithm ItemKNNRolling(K=10)\u001b[0m\n",
      "\u001b[37mDEBUG   \u001b[0m - streamsight.metrics.recall - \u001b[34mRecall compute complete - RecallK_10\u001b[0m\n",
      "\u001b[37mDEBUG   \u001b[0m - streamsight.evaluators.accumulator - \u001b[34mMetric RecallK(timestamp_limit=1536451200,K=10) created for algorithm ItemKNNRolling(K=10)\u001b[0m\n",
      "\u001b[37mDEBUG   \u001b[0m - streamsight.matrix.interaction_matrix - \u001b[34mPerforming items_in comparison\u001b[0m\n",
      "\u001b[37mDEBUG   \u001b[0m - streamsight.algorithms.base - \u001b[34mPredictions by algorithm completed\u001b[0m\n",
      "\u001b[37mDEBUG   \u001b[0m - streamsight.algorithms.base - \u001b[34mPadding user ID in range(3825675, 3826085) with random items\u001b[0m\n",
      "\u001b[37mDEBUG   \u001b[0m - streamsight.algorithms.base - \u001b[34mPadding completed\u001b[0m\n",
      "\u001b[37mDEBUG   \u001b[0m - streamsight.metrics.precision - \u001b[34mPrecision compute complete - PrecisionK_10\u001b[0m\n",
      "\u001b[37mDEBUG   \u001b[0m - streamsight.evaluators.accumulator - \u001b[34mMetric PrecisionK(timestamp_limit=1536451200,K=10) created for algorithm ItemKNNIncremental(K=10)\u001b[0m\n",
      "\u001b[37mDEBUG   \u001b[0m - streamsight.metrics.recall - \u001b[34mRecall compute complete - RecallK_10\u001b[0m\n",
      "\u001b[37mDEBUG   \u001b[0m - streamsight.evaluators.accumulator - \u001b[34mMetric RecallK(timestamp_limit=1536451200,K=10) created for algorithm ItemKNNIncremental(K=10)\u001b[0m\n",
      "\u001b[32mINFO    \u001b[0m - streamsight.evaluators.evaluator_pipeline - \u001b[34mPhase 3: Releasing the data...\u001b[0m\n",
      "\u001b[32mINFO    \u001b[0m - streamsight.algorithms.base - \u001b[34mFitting ItemKNNStatic complete - Took 0.761s\u001b[0m\n",
      "\u001b[32mINFO    \u001b[0m - streamsight.algorithms.base - \u001b[34mFitting ItemKNNRolling complete - Took 0.744s\u001b[0m\n",
      "\u001b[32mINFO    \u001b[0m - streamsight.algorithms.itemknn_incremental - \u001b[34mUpdating historical data for ItemKNNIncremental - Took 0.0615s\u001b[0m\n",
      "\u001b[32mINFO    \u001b[0m - streamsight.algorithms.base - \u001b[34mFitting ItemKNNIncremental complete - Took 7.66s\u001b[0m\n"
     ]
    },
    {
     "name": "stderr",
     "output_type": "stream",
     "text": [
      "100%|██████████| 6/6 [01:52<00:00, 18.83s/it]\n"
     ]
    }
   ],
   "source": [
    "from streamsight.evaluators import EvaluatorBuilder\n",
    "\n",
    "builder = EvaluatorBuilder()\n",
    "builder.add_algorithm(\"ItemKNNStatic\", {\"K\": k})\n",
    "builder.add_algorithm(\"ItemKNNRolling\", {\"K\": k})\n",
    "builder.add_algorithm(\"ItemKNNIncremental\", {\"K\": k})\n",
    "\n",
    "builder.add_metric(\"PrecisionK\", K=k)\n",
    "builder.add_metric(\"RecallK\", K=k)\n",
    "builder.add_setting(setting_sliding)\n",
    "evaluator = builder.build()\n",
    "\n",
    "evaluator.run()"
   ]
  },
  {
   "cell_type": "markdown",
   "metadata": {},
   "source": [
    "## Metric Results\n",
    "The following metrics are calculated for each algorithm in the various splits.\n",
    "\n",
    "We define the micro metric as the computation of all users and items in that\n",
    "particular window.\n",
    "\n",
    "We define the macro metric as the computation of all users and items across all\n",
    "windows where the confusion matrix is first summed across all windows before\n",
    "computing the metric."
   ]
  },
  {
   "cell_type": "code",
   "execution_count": 4,
   "metadata": {},
   "outputs": [
    {
     "data": {
      "text/html": [
       "<div>\n",
       "<style scoped>\n",
       "    .dataframe tbody tr th:only-of-type {\n",
       "        vertical-align: middle;\n",
       "    }\n",
       "\n",
       "    .dataframe tbody tr th {\n",
       "        vertical-align: top;\n",
       "    }\n",
       "\n",
       "    .dataframe thead th {\n",
       "        text-align: right;\n",
       "    }\n",
       "</style>\n",
       "<table border=\"1\" class=\"dataframe\">\n",
       "  <thead>\n",
       "    <tr style=\"text-align: right;\">\n",
       "      <th></th>\n",
       "      <th></th>\n",
       "      <th></th>\n",
       "      <th>score</th>\n",
       "      <th>num_user</th>\n",
       "    </tr>\n",
       "    <tr>\n",
       "      <th>Algorithm</th>\n",
       "      <th>Timestamp</th>\n",
       "      <th>Metric</th>\n",
       "      <th></th>\n",
       "      <th></th>\n",
       "    </tr>\n",
       "  </thead>\n",
       "  <tbody>\n",
       "    <tr>\n",
       "      <th rowspan=\"12\" valign=\"top\">ItemKNNStatic(K=10)</th>\n",
       "      <th rowspan=\"2\" valign=\"top\">t=1406851200</th>\n",
       "      <th>PrecisionK_10</th>\n",
       "      <td>0.000029</td>\n",
       "      <td>150441</td>\n",
       "    </tr>\n",
       "    <tr>\n",
       "      <th>RecallK_10</th>\n",
       "      <td>0.000106</td>\n",
       "      <td>150441</td>\n",
       "    </tr>\n",
       "    <tr>\n",
       "      <th rowspan=\"2\" valign=\"top\">t=1432771200</th>\n",
       "      <th>PrecisionK_10</th>\n",
       "      <td>0.000015</td>\n",
       "      <td>205827</td>\n",
       "    </tr>\n",
       "    <tr>\n",
       "      <th>RecallK_10</th>\n",
       "      <td>0.000072</td>\n",
       "      <td>205827</td>\n",
       "    </tr>\n",
       "    <tr>\n",
       "      <th rowspan=\"2\" valign=\"top\">t=1458691200</th>\n",
       "      <th>PrecisionK_10</th>\n",
       "      <td>0.000008</td>\n",
       "      <td>260637</td>\n",
       "    </tr>\n",
       "    <tr>\n",
       "      <th>RecallK_10</th>\n",
       "      <td>0.000031</td>\n",
       "      <td>260637</td>\n",
       "    </tr>\n",
       "    <tr>\n",
       "      <th rowspan=\"2\" valign=\"top\">t=1484611200</th>\n",
       "      <th>PrecisionK_10</th>\n",
       "      <td>0.000020</td>\n",
       "      <td>126083</td>\n",
       "    </tr>\n",
       "    <tr>\n",
       "      <th>RecallK_10</th>\n",
       "      <td>0.000087</td>\n",
       "      <td>126083</td>\n",
       "    </tr>\n",
       "    <tr>\n",
       "      <th rowspan=\"2\" valign=\"top\">t=1510531200</th>\n",
       "      <th>PrecisionK_10</th>\n",
       "      <td>0.000006</td>\n",
       "      <td>66625</td>\n",
       "    </tr>\n",
       "    <tr>\n",
       "      <th>RecallK_10</th>\n",
       "      <td>0.000032</td>\n",
       "      <td>66625</td>\n",
       "    </tr>\n",
       "    <tr>\n",
       "      <th rowspan=\"2\" valign=\"top\">t=1536451200</th>\n",
       "      <th>PrecisionK_10</th>\n",
       "      <td>0.000000</td>\n",
       "      <td>377</td>\n",
       "    </tr>\n",
       "    <tr>\n",
       "      <th>RecallK_10</th>\n",
       "      <td>0.000000</td>\n",
       "      <td>377</td>\n",
       "    </tr>\n",
       "    <tr>\n",
       "      <th rowspan=\"12\" valign=\"top\">ItemKNNRolling(K=10)</th>\n",
       "      <th rowspan=\"2\" valign=\"top\">t=1406851200</th>\n",
       "      <th>PrecisionK_10</th>\n",
       "      <td>0.003685</td>\n",
       "      <td>150441</td>\n",
       "    </tr>\n",
       "    <tr>\n",
       "      <th>RecallK_10</th>\n",
       "      <td>0.019173</td>\n",
       "      <td>150441</td>\n",
       "    </tr>\n",
       "    <tr>\n",
       "      <th rowspan=\"2\" valign=\"top\">t=1432771200</th>\n",
       "      <th>PrecisionK_10</th>\n",
       "      <td>0.002824</td>\n",
       "      <td>205827</td>\n",
       "    </tr>\n",
       "    <tr>\n",
       "      <th>RecallK_10</th>\n",
       "      <td>0.015636</td>\n",
       "      <td>205827</td>\n",
       "    </tr>\n",
       "    <tr>\n",
       "      <th rowspan=\"2\" valign=\"top\">t=1458691200</th>\n",
       "      <th>PrecisionK_10</th>\n",
       "      <td>0.002814</td>\n",
       "      <td>260637</td>\n",
       "    </tr>\n",
       "    <tr>\n",
       "      <th>RecallK_10</th>\n",
       "      <td>0.016619</td>\n",
       "      <td>260637</td>\n",
       "    </tr>\n",
       "    <tr>\n",
       "      <th rowspan=\"2\" valign=\"top\">t=1484611200</th>\n",
       "      <th>PrecisionK_10</th>\n",
       "      <td>0.002803</td>\n",
       "      <td>126083</td>\n",
       "    </tr>\n",
       "    <tr>\n",
       "      <th>RecallK_10</th>\n",
       "      <td>0.019545</td>\n",
       "      <td>126083</td>\n",
       "    </tr>\n",
       "    <tr>\n",
       "      <th rowspan=\"2\" valign=\"top\">t=1510531200</th>\n",
       "      <th>PrecisionK_10</th>\n",
       "      <td>0.001202</td>\n",
       "      <td>66625</td>\n",
       "    </tr>\n",
       "    <tr>\n",
       "      <th>RecallK_10</th>\n",
       "      <td>0.006419</td>\n",
       "      <td>66625</td>\n",
       "    </tr>\n",
       "    <tr>\n",
       "      <th rowspan=\"2\" valign=\"top\">t=1536451200</th>\n",
       "      <th>PrecisionK_10</th>\n",
       "      <td>0.000531</td>\n",
       "      <td>377</td>\n",
       "    </tr>\n",
       "    <tr>\n",
       "      <th>RecallK_10</th>\n",
       "      <td>0.003979</td>\n",
       "      <td>377</td>\n",
       "    </tr>\n",
       "    <tr>\n",
       "      <th rowspan=\"12\" valign=\"top\">ItemKNNIncremental(K=10)</th>\n",
       "      <th rowspan=\"2\" valign=\"top\">t=1406851200</th>\n",
       "      <th>PrecisionK_10</th>\n",
       "      <td>0.003685</td>\n",
       "      <td>150441</td>\n",
       "    </tr>\n",
       "    <tr>\n",
       "      <th>RecallK_10</th>\n",
       "      <td>0.019173</td>\n",
       "      <td>150441</td>\n",
       "    </tr>\n",
       "    <tr>\n",
       "      <th rowspan=\"2\" valign=\"top\">t=1432771200</th>\n",
       "      <th>PrecisionK_10</th>\n",
       "      <td>0.003474</td>\n",
       "      <td>205827</td>\n",
       "    </tr>\n",
       "    <tr>\n",
       "      <th>RecallK_10</th>\n",
       "      <td>0.018821</td>\n",
       "      <td>205827</td>\n",
       "    </tr>\n",
       "    <tr>\n",
       "      <th rowspan=\"2\" valign=\"top\">t=1458691200</th>\n",
       "      <th>PrecisionK_10</th>\n",
       "      <td>0.003760</td>\n",
       "      <td>260637</td>\n",
       "    </tr>\n",
       "    <tr>\n",
       "      <th>RecallK_10</th>\n",
       "      <td>0.021604</td>\n",
       "      <td>260637</td>\n",
       "    </tr>\n",
       "    <tr>\n",
       "      <th rowspan=\"2\" valign=\"top\">t=1484611200</th>\n",
       "      <th>PrecisionK_10</th>\n",
       "      <td>0.003729</td>\n",
       "      <td>126083</td>\n",
       "    </tr>\n",
       "    <tr>\n",
       "      <th>RecallK_10</th>\n",
       "      <td>0.024767</td>\n",
       "      <td>126083</td>\n",
       "    </tr>\n",
       "    <tr>\n",
       "      <th rowspan=\"2\" valign=\"top\">t=1510531200</th>\n",
       "      <th>PrecisionK_10</th>\n",
       "      <td>0.002340</td>\n",
       "      <td>66625</td>\n",
       "    </tr>\n",
       "    <tr>\n",
       "      <th>RecallK_10</th>\n",
       "      <td>0.012057</td>\n",
       "      <td>66625</td>\n",
       "    </tr>\n",
       "    <tr>\n",
       "      <th rowspan=\"2\" valign=\"top\">t=1536451200</th>\n",
       "      <th>PrecisionK_10</th>\n",
       "      <td>0.001857</td>\n",
       "      <td>377</td>\n",
       "    </tr>\n",
       "    <tr>\n",
       "      <th>RecallK_10</th>\n",
       "      <td>0.015915</td>\n",
       "      <td>377</td>\n",
       "    </tr>\n",
       "  </tbody>\n",
       "</table>\n",
       "</div>"
      ],
      "text/plain": [
       "                                                        score  num_user\n",
       "Algorithm                Timestamp    Metric                           \n",
       "ItemKNNStatic(K=10)      t=1406851200 PrecisionK_10  0.000029    150441\n",
       "                                      RecallK_10     0.000106    150441\n",
       "                         t=1432771200 PrecisionK_10  0.000015    205827\n",
       "                                      RecallK_10     0.000072    205827\n",
       "                         t=1458691200 PrecisionK_10  0.000008    260637\n",
       "                                      RecallK_10     0.000031    260637\n",
       "                         t=1484611200 PrecisionK_10  0.000020    126083\n",
       "                                      RecallK_10     0.000087    126083\n",
       "                         t=1510531200 PrecisionK_10  0.000006     66625\n",
       "                                      RecallK_10     0.000032     66625\n",
       "                         t=1536451200 PrecisionK_10  0.000000       377\n",
       "                                      RecallK_10     0.000000       377\n",
       "ItemKNNRolling(K=10)     t=1406851200 PrecisionK_10  0.003685    150441\n",
       "                                      RecallK_10     0.019173    150441\n",
       "                         t=1432771200 PrecisionK_10  0.002824    205827\n",
       "                                      RecallK_10     0.015636    205827\n",
       "                         t=1458691200 PrecisionK_10  0.002814    260637\n",
       "                                      RecallK_10     0.016619    260637\n",
       "                         t=1484611200 PrecisionK_10  0.002803    126083\n",
       "                                      RecallK_10     0.019545    126083\n",
       "                         t=1510531200 PrecisionK_10  0.001202     66625\n",
       "                                      RecallK_10     0.006419     66625\n",
       "                         t=1536451200 PrecisionK_10  0.000531       377\n",
       "                                      RecallK_10     0.003979       377\n",
       "ItemKNNIncremental(K=10) t=1406851200 PrecisionK_10  0.003685    150441\n",
       "                                      RecallK_10     0.019173    150441\n",
       "                         t=1432771200 PrecisionK_10  0.003474    205827\n",
       "                                      RecallK_10     0.018821    205827\n",
       "                         t=1458691200 PrecisionK_10  0.003760    260637\n",
       "                                      RecallK_10     0.021604    260637\n",
       "                         t=1484611200 PrecisionK_10  0.003729    126083\n",
       "                                      RecallK_10     0.024767    126083\n",
       "                         t=1510531200 PrecisionK_10  0.002340     66625\n",
       "                                      RecallK_10     0.012057     66625\n",
       "                         t=1536451200 PrecisionK_10  0.001857       377\n",
       "                                      RecallK_10     0.015915       377"
      ]
     },
     "execution_count": 4,
     "metadata": {},
     "output_type": "execute_result"
    }
   ],
   "source": [
    "evaluator.metric_results(level=\"micro\")"
   ]
  },
  {
   "cell_type": "code",
   "execution_count": 5,
   "metadata": {},
   "outputs": [
    {
     "name": "stdout",
     "output_type": "stream",
     "text": [
      "\u001b[37mDEBUG   \u001b[0m - streamsight.metrics.precision - \u001b[34mPrecision compute complete - PrecisionK_10\u001b[0m\n",
      "\u001b[37mDEBUG   \u001b[0m - streamsight.metrics.recall - \u001b[34mRecall compute complete - RecallK_10\u001b[0m\n",
      "\u001b[37mDEBUG   \u001b[0m - streamsight.metrics.precision - \u001b[34mPrecision compute complete - PrecisionK_10\u001b[0m\n",
      "\u001b[37mDEBUG   \u001b[0m - streamsight.metrics.recall - \u001b[34mRecall compute complete - RecallK_10\u001b[0m\n",
      "\u001b[37mDEBUG   \u001b[0m - streamsight.metrics.precision - \u001b[34mPrecision compute complete - PrecisionK_10\u001b[0m\n",
      "\u001b[37mDEBUG   \u001b[0m - streamsight.metrics.recall - \u001b[34mRecall compute complete - RecallK_10\u001b[0m\n"
     ]
    },
    {
     "data": {
      "text/html": [
       "<div>\n",
       "<style scoped>\n",
       "    .dataframe tbody tr th:only-of-type {\n",
       "        vertical-align: middle;\n",
       "    }\n",
       "\n",
       "    .dataframe tbody tr th {\n",
       "        vertical-align: top;\n",
       "    }\n",
       "\n",
       "    .dataframe thead th {\n",
       "        text-align: right;\n",
       "    }\n",
       "</style>\n",
       "<table border=\"1\" class=\"dataframe\">\n",
       "  <thead>\n",
       "    <tr style=\"text-align: right;\">\n",
       "      <th></th>\n",
       "      <th></th>\n",
       "      <th>score</th>\n",
       "    </tr>\n",
       "    <tr>\n",
       "      <th>Algorithm</th>\n",
       "      <th>Metric</th>\n",
       "      <th></th>\n",
       "    </tr>\n",
       "  </thead>\n",
       "  <tbody>\n",
       "    <tr>\n",
       "      <th rowspan=\"2\" valign=\"top\">ItemKNNStatic(K=10)</th>\n",
       "      <th>PrecisionK_10</th>\n",
       "      <td>0.000015</td>\n",
       "    </tr>\n",
       "    <tr>\n",
       "      <th>RecallK_10</th>\n",
       "      <td>0.000064</td>\n",
       "    </tr>\n",
       "    <tr>\n",
       "      <th rowspan=\"2\" valign=\"top\">ItemKNNRolling(K=10)</th>\n",
       "      <th>PrecisionK_10</th>\n",
       "      <td>0.002843</td>\n",
       "    </tr>\n",
       "    <tr>\n",
       "      <th>RecallK_10</th>\n",
       "      <td>0.016454</td>\n",
       "    </tr>\n",
       "    <tr>\n",
       "      <th rowspan=\"2\" valign=\"top\">ItemKNNIncremental(K=10)</th>\n",
       "      <th>PrecisionK_10</th>\n",
       "      <td>0.003551</td>\n",
       "    </tr>\n",
       "    <tr>\n",
       "      <th>RecallK_10</th>\n",
       "      <td>0.020150</td>\n",
       "    </tr>\n",
       "  </tbody>\n",
       "</table>\n",
       "</div>"
      ],
      "text/plain": [
       "                                           score\n",
       "Algorithm                Metric                 \n",
       "ItemKNNStatic(K=10)      PrecisionK_10  0.000015\n",
       "                         RecallK_10     0.000064\n",
       "ItemKNNRolling(K=10)     PrecisionK_10  0.002843\n",
       "                         RecallK_10     0.016454\n",
       "ItemKNNIncremental(K=10) PrecisionK_10  0.003551\n",
       "                         RecallK_10     0.020150"
      ]
     },
     "execution_count": 5,
     "metadata": {},
     "output_type": "execute_result"
    }
   ],
   "source": [
    "evaluator.metric_results(level=\"macro\")"
   ]
  }
 ],
 "metadata": {
  "kernelspec": {
   "display_name": ".venv",
   "language": "python",
   "name": "python3"
  },
  "language_info": {
   "codemirror_mode": {
    "name": "ipython",
    "version": 3
   },
   "file_extension": ".py",
   "mimetype": "text/x-python",
   "name": "python",
   "nbconvert_exporter": "python",
   "pygments_lexer": "ipython3",
   "version": "3.12.5"
  }
 },
 "nbformat": 4,
 "nbformat_minor": 2
}

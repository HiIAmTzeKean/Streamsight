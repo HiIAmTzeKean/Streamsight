{
 "cells": [
  {
   "cell_type": "markdown",
   "metadata": {},
   "source": [
    "# Demo Pipeline\n",
    "\n",
    "In this workbook we will be demonstrating how to use streamsight to create\n",
    "a pipeline to evaluate RecSys algorithms. Please refer to [demo.ipynb](demo.ipynb)\n",
    "if you have not as it outlines how the pipeline works under the hood.\n",
    "\n",
    "We will use Amazon movie data to show case the pipeline and some of the common\n",
    "methods that you can call to evaluate your RecSys algorithms.\n",
    "\n",
    "To start off, we will set the k+100 value to be 10 first. This will mean that\n",
    "for any of the top K metric or algorithm, we will only consider the top 10\n",
    "recommendations."
   ]
  },
  {
   "cell_type": "code",
   "execution_count": 1,
   "metadata": {},
   "outputs": [],
   "source": [
    "k = 10"
   ]
  },
  {
   "cell_type": "markdown",
   "metadata": {},
   "source": [
    "## Load\n",
    "\n",
    "We will load the dataset of choice and instantiate the setting that we want\n",
    "to evaluate the algorithms on. We will use the sliding window setting for this\n",
    "demo to show case the results of the evaluation.\n",
    "\n",
    "Similarly to the demo, we can specify a range of parametres to create different\n",
    "window sizes."
   ]
  },
  {
   "cell_type": "code",
   "execution_count": 2,
   "metadata": {},
   "outputs": [
    {
     "name": "stdout",
     "output_type": "stream",
     "text": [
      "\u001b[32mINFO    \u001b[0m - streamsight.datasets.base - \u001b[34mAmazonMovieDataset is loading dataset...\u001b[0m\n",
      "\u001b[32mINFO    \u001b[0m - streamsight.datasets.base - \u001b[34mAmazonMovieDataset dataset loaded - Took 12.9s\u001b[0m\n"
     ]
    },
    {
     "name": "stderr",
     "output_type": "stream",
     "text": [
      "4it [00:01,  3.96it/s]                       "
     ]
    },
    {
     "name": "stdout",
     "output_type": "stream",
     "text": [
      "\u001b[32mINFO    \u001b[0m - streamsight.settings.sliding_window_setting - \u001b[34mFinished split with window size 2592000 seconds. Number of splits: 4 in total.\u001b[0m\n"
     ]
    },
    {
     "name": "stderr",
     "output_type": "stream",
     "text": [
      "\n"
     ]
    }
   ],
   "source": [
    "from streamsight.datasets import AmazonMovieDataset\n",
    "from streamsight.settings import SlidingWindowSetting\n",
    "\n",
    "dataset = AmazonMovieDataset(use_default_filters=False)\n",
    "data = dataset.load()\n",
    "setting_sliding = SlidingWindowSetting(\n",
    "    background_t=1530000000,\n",
    "    window_size=60 * 60 * 24 * 30, # day times N\n",
    "    n_seq_data=1,\n",
    "    top_K=k\n",
    ")\n",
    "setting_sliding.split(data)\n"
   ]
  },
  {
   "cell_type": "markdown",
   "metadata": {},
   "source": [
    "## Evaluate\n",
    "\n",
    "The evaluation of the algorithm will be abstracted by the pipeline. To create\n",
    "the pipeline a builder class is used. This is the recommended way to create\n",
    "pipelines as it allows for easy modification of the pipeline and easy\n",
    "reproduction of the pipeline.\n",
    "\n",
    "Adding of algorithm and metric can be done as shown below. Once the builder is\n",
    "set up, the pipeline can will be returned by calling the `build` method.\n",
    "\n",
    "Running the pipeline can be done via the `run` method. To run the pipeline in\n",
    "step, the `run_step` method can be used. This will run the pipeline step by\n",
    "step."
   ]
  },
  {
   "cell_type": "code",
   "execution_count": 3,
   "metadata": {},
   "outputs": [
    {
     "name": "stdout",
     "output_type": "stream",
     "text": [
      "\u001b[32mINFO    \u001b[0m - streamsight.evaluators.evaluator_pipeline - \u001b[34mPhase 1: Preparing the evaluator...\u001b[0m\n"
     ]
    },
    {
     "name": "stderr",
     "output_type": "stream",
     "text": [
      "  0%|          | 0/4 [00:00<?, ?it/s]"
     ]
    },
    {
     "name": "stdout",
     "output_type": "stream",
     "text": [
      "\u001b[32mINFO    \u001b[0m - streamsight.evaluators.evaluator_pipeline - \u001b[34mPhase 2: Evaluating the algorithms...\u001b[0m\n",
      "\u001b[32mINFO    \u001b[0m - streamsight.evaluators.evaluator_pipeline - \u001b[34mPhase 3: Releasing the data...\u001b[0m\n"
     ]
    },
    {
     "name": "stderr",
     "output_type": "stream",
     "text": [
      " 25%|██▌       | 1/4 [00:47<02:23, 47.99s/it]"
     ]
    },
    {
     "name": "stdout",
     "output_type": "stream",
     "text": [
      "\u001b[32mINFO    \u001b[0m - streamsight.evaluators.evaluator_pipeline - \u001b[34mPhase 2: Evaluating the algorithms...\u001b[0m\n",
      "\u001b[32mINFO    \u001b[0m - streamsight.evaluators.evaluator_pipeline - \u001b[34mPhase 3: Releasing the data...\u001b[0m\n"
     ]
    },
    {
     "name": "stderr",
     "output_type": "stream",
     "text": [
      " 50%|█████     | 2/4 [01:21<01:19, 39.52s/it]"
     ]
    },
    {
     "name": "stdout",
     "output_type": "stream",
     "text": [
      "\u001b[32mINFO    \u001b[0m - streamsight.evaluators.evaluator_pipeline - \u001b[34mPhase 2: Evaluating the algorithms...\u001b[0m\n",
      "\u001b[32mINFO    \u001b[0m - streamsight.evaluators.evaluator_pipeline - \u001b[34mPhase 3: Releasing the data...\u001b[0m\n"
     ]
    },
    {
     "name": "stderr",
     "output_type": "stream",
     "text": [
      " 75%|███████▌  | 3/4 [01:42<00:30, 30.91s/it]"
     ]
    },
    {
     "name": "stdout",
     "output_type": "stream",
     "text": [
      "\u001b[32mINFO    \u001b[0m - streamsight.evaluators.evaluator_pipeline - \u001b[34mPhase 2: Evaluating the algorithms...\u001b[0m\n",
      "\u001b[32mINFO    \u001b[0m - streamsight.evaluators.evaluator_pipeline - \u001b[34mPhase 3: Releasing the data...\u001b[0m\n"
     ]
    },
    {
     "name": "stderr",
     "output_type": "stream",
     "text": [
      "100%|██████████| 4/4 [01:56<00:00, 29.09s/it]\n"
     ]
    }
   ],
   "source": [
    "from streamsight.evaluators import EvaluatorPipelineBuilder\n",
    "\n",
    "builder = EvaluatorPipelineBuilder(ignore_unknown_item=True,\n",
    "                           ignore_unknown_user=True)\n",
    "builder.add_setting(setting_sliding)\n",
    "builder.set_metric_K(k)\n",
    "builder.add_algorithm(\"ItemKNNStatic\", {\"K\": k})\n",
    "builder.add_algorithm(\"ItemKNNRolling\", {\"K\": k})\n",
    "builder.add_algorithm(\"ItemKNNIncremental\", {\"K\": k})\n",
    "builder.add_algorithm(\"Popularity\", {\"K\": k})\n",
    "\n",
    "builder.add_metric(\"PrecisionK\")\n",
    "builder.add_metric(\"RecallK\")\n",
    "evaluator = builder.build()\n",
    "\n",
    "evaluator.run()"
   ]
  },
  {
   "cell_type": "markdown",
   "metadata": {},
   "source": [
    "## Metric Results\n",
    "The following metrics are calculated for each algorithm in the various splits.\n",
    "\n",
    "We define the micro metric as the computation of all users and items in that\n",
    "particular window.\n",
    "\n",
    "We define the macro metric as the computation of all users and items across all\n",
    "windows where the confusion matrix is first summed across all windows before\n",
    "computing the metric."
   ]
  },
  {
   "cell_type": "code",
   "execution_count": 4,
   "metadata": {},
   "outputs": [
    {
     "name": "stdout",
     "output_type": "stream",
     "text": [
      "\u001b[33mWARNING \u001b[0m - py.warnings - \u001b[34m/Users/ngtzekean/Github/Streamsight/streamsight/metrics/base.py:394: UserWarning: All predictions were off or the ground truth matrix was empty during compute of PrecisionK(timestamp_limit=1537776000,K=10).\n",
      "  warn(UserWarning(f\"All predictions were off or the ground truth matrix was empty during compute of {self.identifier}.\"))\n",
      "\u001b[0m\n",
      "\u001b[33mWARNING \u001b[0m - py.warnings - \u001b[34m/Users/ngtzekean/Github/Streamsight/streamsight/metrics/base.py:394: UserWarning: All predictions were off or the ground truth matrix was empty during compute of RecallK(timestamp_limit=1537776000,K=10).\n",
      "  warn(UserWarning(f\"All predictions were off or the ground truth matrix was empty during compute of {self.identifier}.\"))\n",
      "\u001b[0m\n"
     ]
    },
    {
     "data": {
      "text/html": [
       "<div>\n",
       "<style scoped>\n",
       "    .dataframe tbody tr th:only-of-type {\n",
       "        vertical-align: middle;\n",
       "    }\n",
       "\n",
       "    .dataframe tbody tr th {\n",
       "        vertical-align: top;\n",
       "    }\n",
       "\n",
       "    .dataframe thead th {\n",
       "        text-align: right;\n",
       "    }\n",
       "</style>\n",
       "<table border=\"1\" class=\"dataframe\">\n",
       "  <thead>\n",
       "    <tr style=\"text-align: right;\">\n",
       "      <th></th>\n",
       "      <th></th>\n",
       "      <th>macro_score</th>\n",
       "      <th>num_window</th>\n",
       "    </tr>\n",
       "    <tr>\n",
       "      <th>Algorithm</th>\n",
       "      <th>Metric</th>\n",
       "      <th></th>\n",
       "      <th></th>\n",
       "    </tr>\n",
       "  </thead>\n",
       "  <tbody>\n",
       "    <tr>\n",
       "      <th rowspan=\"2\" valign=\"top\">ItemKNNIncremental(K=10)</th>\n",
       "      <th>PrecisionK_10</th>\n",
       "      <td>0.002122</td>\n",
       "      <td>4</td>\n",
       "    </tr>\n",
       "    <tr>\n",
       "      <th>RecallK_10</th>\n",
       "      <td>0.014975</td>\n",
       "      <td>4</td>\n",
       "    </tr>\n",
       "    <tr>\n",
       "      <th rowspan=\"2\" valign=\"top\">ItemKNNRolling(K=10)</th>\n",
       "      <th>PrecisionK_10</th>\n",
       "      <td>0.000961</td>\n",
       "      <td>4</td>\n",
       "    </tr>\n",
       "    <tr>\n",
       "      <th>RecallK_10</th>\n",
       "      <td>0.007483</td>\n",
       "      <td>4</td>\n",
       "    </tr>\n",
       "    <tr>\n",
       "      <th rowspan=\"2\" valign=\"top\">ItemKNNStatic(K=10)</th>\n",
       "      <th>PrecisionK_10</th>\n",
       "      <td>0.000961</td>\n",
       "      <td>4</td>\n",
       "    </tr>\n",
       "    <tr>\n",
       "      <th>RecallK_10</th>\n",
       "      <td>0.007483</td>\n",
       "      <td>4</td>\n",
       "    </tr>\n",
       "    <tr>\n",
       "      <th rowspan=\"2\" valign=\"top\">Popularity(K=10)</th>\n",
       "      <th>PrecisionK_10</th>\n",
       "      <td>0.007126</td>\n",
       "      <td>4</td>\n",
       "    </tr>\n",
       "    <tr>\n",
       "      <th>RecallK_10</th>\n",
       "      <td>0.063441</td>\n",
       "      <td>4</td>\n",
       "    </tr>\n",
       "  </tbody>\n",
       "</table>\n",
       "</div>"
      ],
      "text/plain": [
       "                                        macro_score  num_window\n",
       "Algorithm                Metric                                \n",
       "ItemKNNIncremental(K=10) PrecisionK_10     0.002122           4\n",
       "                         RecallK_10        0.014975           4\n",
       "ItemKNNRolling(K=10)     PrecisionK_10     0.000961           4\n",
       "                         RecallK_10        0.007483           4\n",
       "ItemKNNStatic(K=10)      PrecisionK_10     0.000961           4\n",
       "                         RecallK_10        0.007483           4\n",
       "Popularity(K=10)         PrecisionK_10     0.007126           4\n",
       "                         RecallK_10        0.063441           4"
      ]
     },
     "execution_count": 4,
     "metadata": {},
     "output_type": "execute_result"
    }
   ],
   "source": [
    "evaluator.metric_results(level=\"macro\")"
   ]
  },
  {
   "cell_type": "code",
   "execution_count": 5,
   "metadata": {},
   "outputs": [
    {
     "name": "stdout",
     "output_type": "stream",
     "text": [
      "\u001b[33mWARNING \u001b[0m - py.warnings - \u001b[34m/Users/ngtzekean/Github/Streamsight/.venv/lib/python3.12/site-packages/numpy/core/_methods.py:49: RuntimeWarning: overflow encountered in scalar add\n",
      "  return umr_sum(a, axis, dtype, out, keepdims, initial, where)\n",
      "\u001b[0m\n"
     ]
    },
    {
     "data": {
      "text/html": [
       "<div>\n",
       "<style scoped>\n",
       "    .dataframe tbody tr th:only-of-type {\n",
       "        vertical-align: middle;\n",
       "    }\n",
       "\n",
       "    .dataframe tbody tr th {\n",
       "        vertical-align: top;\n",
       "    }\n",
       "\n",
       "    .dataframe thead th {\n",
       "        text-align: right;\n",
       "    }\n",
       "</style>\n",
       "<table border=\"1\" class=\"dataframe\">\n",
       "  <thead>\n",
       "    <tr style=\"text-align: right;\">\n",
       "      <th></th>\n",
       "      <th></th>\n",
       "      <th>micro_score</th>\n",
       "      <th>num_user</th>\n",
       "    </tr>\n",
       "    <tr>\n",
       "      <th>Algorithm</th>\n",
       "      <th>Metric</th>\n",
       "      <th></th>\n",
       "      <th></th>\n",
       "    </tr>\n",
       "  </thead>\n",
       "  <tbody>\n",
       "    <tr>\n",
       "      <th rowspan=\"2\" valign=\"top\">ItemKNNIncremental(K=10)</th>\n",
       "      <th>PrecisionK_10</th>\n",
       "      <td>0.002233</td>\n",
       "      <td>7749</td>\n",
       "    </tr>\n",
       "    <tr>\n",
       "      <th>RecallK_10</th>\n",
       "      <td>0.016921</td>\n",
       "      <td>7749</td>\n",
       "    </tr>\n",
       "    <tr>\n",
       "      <th rowspan=\"2\" valign=\"top\">ItemKNNRolling(K=10)</th>\n",
       "      <th>PrecisionK_10</th>\n",
       "      <td>0.001613</td>\n",
       "      <td>7749</td>\n",
       "    </tr>\n",
       "    <tr>\n",
       "      <th>RecallK_10</th>\n",
       "      <td>0.01186</td>\n",
       "      <td>7749</td>\n",
       "    </tr>\n",
       "    <tr>\n",
       "      <th rowspan=\"2\" valign=\"top\">ItemKNNStatic(K=10)</th>\n",
       "      <th>PrecisionK_10</th>\n",
       "      <td>0.001613</td>\n",
       "      <td>7749</td>\n",
       "    </tr>\n",
       "    <tr>\n",
       "      <th>RecallK_10</th>\n",
       "      <td>0.01186</td>\n",
       "      <td>7749</td>\n",
       "    </tr>\n",
       "    <tr>\n",
       "      <th rowspan=\"2\" valign=\"top\">Popularity(K=10)</th>\n",
       "      <th>PrecisionK_10</th>\n",
       "      <td>0.005291</td>\n",
       "      <td>7749</td>\n",
       "    </tr>\n",
       "    <tr>\n",
       "      <th>RecallK_10</th>\n",
       "      <td>0.043027</td>\n",
       "      <td>7749</td>\n",
       "    </tr>\n",
       "  </tbody>\n",
       "</table>\n",
       "</div>"
      ],
      "text/plain": [
       "                                       micro_score  num_user\n",
       "Algorithm                Metric                             \n",
       "ItemKNNIncremental(K=10) PrecisionK_10    0.002233      7749\n",
       "                         RecallK_10       0.016921      7749\n",
       "ItemKNNRolling(K=10)     PrecisionK_10    0.001613      7749\n",
       "                         RecallK_10        0.01186      7749\n",
       "ItemKNNStatic(K=10)      PrecisionK_10    0.001613      7749\n",
       "                         RecallK_10        0.01186      7749\n",
       "Popularity(K=10)         PrecisionK_10    0.005291      7749\n",
       "                         RecallK_10       0.043027      7749"
      ]
     },
     "execution_count": 5,
     "metadata": {},
     "output_type": "execute_result"
    }
   ],
   "source": [
    "evaluator.metric_results(level=\"micro\")"
   ]
  },
  {
   "cell_type": "code",
   "execution_count": 6,
   "metadata": {},
   "outputs": [
    {
     "name": "stdout",
     "output_type": "stream",
     "text": [
      "\u001b[33mWARNING \u001b[0m - py.warnings - \u001b[34m/Users/ngtzekean/Github/Streamsight/streamsight/metrics/base.py:394: UserWarning: All predictions were off or the ground truth matrix was empty during compute of PrecisionK(timestamp_limit=1537776000,K=10).\n",
      "  warn(UserWarning(f\"All predictions were off or the ground truth matrix was empty during compute of {self.identifier}.\"))\n",
      "\u001b[0m\n",
      "\u001b[33mWARNING \u001b[0m - py.warnings - \u001b[34m/Users/ngtzekean/Github/Streamsight/streamsight/metrics/base.py:394: UserWarning: All predictions were off or the ground truth matrix was empty during compute of RecallK(timestamp_limit=1537776000,K=10).\n",
      "  warn(UserWarning(f\"All predictions were off or the ground truth matrix was empty during compute of {self.identifier}.\"))\n",
      "\u001b[0m\n"
     ]
    },
    {
     "data": {
      "text/html": [
       "<div>\n",
       "<style scoped>\n",
       "    .dataframe tbody tr th:only-of-type {\n",
       "        vertical-align: middle;\n",
       "    }\n",
       "\n",
       "    .dataframe tbody tr th {\n",
       "        vertical-align: top;\n",
       "    }\n",
       "\n",
       "    .dataframe thead th {\n",
       "        text-align: right;\n",
       "    }\n",
       "</style>\n",
       "<table border=\"1\" class=\"dataframe\">\n",
       "  <thead>\n",
       "    <tr style=\"text-align: right;\">\n",
       "      <th></th>\n",
       "      <th></th>\n",
       "      <th></th>\n",
       "      <th>window_score</th>\n",
       "      <th>num_user</th>\n",
       "    </tr>\n",
       "    <tr>\n",
       "      <th>Algorithm</th>\n",
       "      <th>Timestamp</th>\n",
       "      <th>Metric</th>\n",
       "      <th></th>\n",
       "      <th></th>\n",
       "    </tr>\n",
       "  </thead>\n",
       "  <tbody>\n",
       "    <tr>\n",
       "      <th rowspan=\"8\" valign=\"top\">ItemKNNStatic(K=10)</th>\n",
       "      <th rowspan=\"2\" valign=\"top\">t=1530000000</th>\n",
       "      <th>PrecisionK_10</th>\n",
       "      <td>0.002425</td>\n",
       "      <td>4289</td>\n",
       "    </tr>\n",
       "    <tr>\n",
       "      <th>RecallK_10</th>\n",
       "      <td>0.017662</td>\n",
       "      <td>4289</td>\n",
       "    </tr>\n",
       "    <tr>\n",
       "      <th rowspan=\"2\" valign=\"top\">t=1532592000</th>\n",
       "      <th>PrecisionK_10</th>\n",
       "      <td>0.000513</td>\n",
       "      <td>2532</td>\n",
       "    </tr>\n",
       "    <tr>\n",
       "      <th>RecallK_10</th>\n",
       "      <td>0.003220</td>\n",
       "      <td>2532</td>\n",
       "    </tr>\n",
       "    <tr>\n",
       "      <th rowspan=\"2\" valign=\"top\">t=1535184000</th>\n",
       "      <th>PrecisionK_10</th>\n",
       "      <td>0.000905</td>\n",
       "      <td>884</td>\n",
       "    </tr>\n",
       "    <tr>\n",
       "      <th>RecallK_10</th>\n",
       "      <td>0.009050</td>\n",
       "      <td>884</td>\n",
       "    </tr>\n",
       "    <tr>\n",
       "      <th rowspan=\"2\" valign=\"top\">t=1537776000</th>\n",
       "      <th>PrecisionK_10</th>\n",
       "      <td>0.000000</td>\n",
       "      <td>44</td>\n",
       "    </tr>\n",
       "    <tr>\n",
       "      <th>RecallK_10</th>\n",
       "      <td>0.000000</td>\n",
       "      <td>44</td>\n",
       "    </tr>\n",
       "    <tr>\n",
       "      <th rowspan=\"8\" valign=\"top\">ItemKNNRolling(K=10)</th>\n",
       "      <th rowspan=\"2\" valign=\"top\">t=1530000000</th>\n",
       "      <th>PrecisionK_10</th>\n",
       "      <td>0.002425</td>\n",
       "      <td>4289</td>\n",
       "    </tr>\n",
       "    <tr>\n",
       "      <th>RecallK_10</th>\n",
       "      <td>0.017662</td>\n",
       "      <td>4289</td>\n",
       "    </tr>\n",
       "    <tr>\n",
       "      <th rowspan=\"2\" valign=\"top\">t=1532592000</th>\n",
       "      <th>PrecisionK_10</th>\n",
       "      <td>0.000513</td>\n",
       "      <td>2532</td>\n",
       "    </tr>\n",
       "    <tr>\n",
       "      <th>RecallK_10</th>\n",
       "      <td>0.003220</td>\n",
       "      <td>2532</td>\n",
       "    </tr>\n",
       "    <tr>\n",
       "      <th rowspan=\"2\" valign=\"top\">t=1535184000</th>\n",
       "      <th>PrecisionK_10</th>\n",
       "      <td>0.000905</td>\n",
       "      <td>884</td>\n",
       "    </tr>\n",
       "    <tr>\n",
       "      <th>RecallK_10</th>\n",
       "      <td>0.009050</td>\n",
       "      <td>884</td>\n",
       "    </tr>\n",
       "    <tr>\n",
       "      <th rowspan=\"2\" valign=\"top\">t=1537776000</th>\n",
       "      <th>PrecisionK_10</th>\n",
       "      <td>0.000000</td>\n",
       "      <td>44</td>\n",
       "    </tr>\n",
       "    <tr>\n",
       "      <th>RecallK_10</th>\n",
       "      <td>0.000000</td>\n",
       "      <td>44</td>\n",
       "    </tr>\n",
       "    <tr>\n",
       "      <th rowspan=\"8\" valign=\"top\">ItemKNNIncremental(K=10)</th>\n",
       "      <th rowspan=\"2\" valign=\"top\">t=1530000000</th>\n",
       "      <th>PrecisionK_10</th>\n",
       "      <td>0.002425</td>\n",
       "      <td>4289</td>\n",
       "    </tr>\n",
       "    <tr>\n",
       "      <th>RecallK_10</th>\n",
       "      <td>0.017662</td>\n",
       "      <td>4289</td>\n",
       "    </tr>\n",
       "    <tr>\n",
       "      <th rowspan=\"2\" valign=\"top\">t=1532592000</th>\n",
       "      <th>PrecisionK_10</th>\n",
       "      <td>0.002093</td>\n",
       "      <td>2532</td>\n",
       "    </tr>\n",
       "    <tr>\n",
       "      <th>RecallK_10</th>\n",
       "      <td>0.016733</td>\n",
       "      <td>2532</td>\n",
       "    </tr>\n",
       "    <tr>\n",
       "      <th rowspan=\"2\" valign=\"top\">t=1535184000</th>\n",
       "      <th>PrecisionK_10</th>\n",
       "      <td>0.001697</td>\n",
       "      <td>884</td>\n",
       "    </tr>\n",
       "    <tr>\n",
       "      <th>RecallK_10</th>\n",
       "      <td>0.014140</td>\n",
       "      <td>884</td>\n",
       "    </tr>\n",
       "    <tr>\n",
       "      <th rowspan=\"2\" valign=\"top\">t=1537776000</th>\n",
       "      <th>PrecisionK_10</th>\n",
       "      <td>0.002273</td>\n",
       "      <td>44</td>\n",
       "    </tr>\n",
       "    <tr>\n",
       "      <th>RecallK_10</th>\n",
       "      <td>0.011364</td>\n",
       "      <td>44</td>\n",
       "    </tr>\n",
       "    <tr>\n",
       "      <th rowspan=\"8\" valign=\"top\">Popularity(K=10)</th>\n",
       "      <th rowspan=\"2\" valign=\"top\">t=1530000000</th>\n",
       "      <th>PrecisionK_10</th>\n",
       "      <td>0.000933</td>\n",
       "      <td>4289</td>\n",
       "    </tr>\n",
       "    <tr>\n",
       "      <th>RecallK_10</th>\n",
       "      <td>0.007443</td>\n",
       "      <td>4289</td>\n",
       "    </tr>\n",
       "    <tr>\n",
       "      <th rowspan=\"2\" valign=\"top\">t=1532592000</th>\n",
       "      <th>PrecisionK_10</th>\n",
       "      <td>0.011137</td>\n",
       "      <td>2532</td>\n",
       "    </tr>\n",
       "    <tr>\n",
       "      <th>RecallK_10</th>\n",
       "      <td>0.085567</td>\n",
       "      <td>2532</td>\n",
       "    </tr>\n",
       "    <tr>\n",
       "      <th rowspan=\"2\" valign=\"top\">t=1535184000</th>\n",
       "      <th>PrecisionK_10</th>\n",
       "      <td>0.009615</td>\n",
       "      <td>884</td>\n",
       "    </tr>\n",
       "    <tr>\n",
       "      <th>RecallK_10</th>\n",
       "      <td>0.092572</td>\n",
       "      <td>884</td>\n",
       "    </tr>\n",
       "    <tr>\n",
       "      <th rowspan=\"2\" valign=\"top\">t=1537776000</th>\n",
       "      <th>PrecisionK_10</th>\n",
       "      <td>0.006818</td>\n",
       "      <td>44</td>\n",
       "    </tr>\n",
       "    <tr>\n",
       "      <th>RecallK_10</th>\n",
       "      <td>0.068182</td>\n",
       "      <td>44</td>\n",
       "    </tr>\n",
       "  </tbody>\n",
       "</table>\n",
       "</div>"
      ],
      "text/plain": [
       "                                                     window_score  num_user\n",
       "Algorithm                Timestamp    Metric                               \n",
       "ItemKNNStatic(K=10)      t=1530000000 PrecisionK_10      0.002425      4289\n",
       "                                      RecallK_10         0.017662      4289\n",
       "                         t=1532592000 PrecisionK_10      0.000513      2532\n",
       "                                      RecallK_10         0.003220      2532\n",
       "                         t=1535184000 PrecisionK_10      0.000905       884\n",
       "                                      RecallK_10         0.009050       884\n",
       "                         t=1537776000 PrecisionK_10      0.000000        44\n",
       "                                      RecallK_10         0.000000        44\n",
       "ItemKNNRolling(K=10)     t=1530000000 PrecisionK_10      0.002425      4289\n",
       "                                      RecallK_10         0.017662      4289\n",
       "                         t=1532592000 PrecisionK_10      0.000513      2532\n",
       "                                      RecallK_10         0.003220      2532\n",
       "                         t=1535184000 PrecisionK_10      0.000905       884\n",
       "                                      RecallK_10         0.009050       884\n",
       "                         t=1537776000 PrecisionK_10      0.000000        44\n",
       "                                      RecallK_10         0.000000        44\n",
       "ItemKNNIncremental(K=10) t=1530000000 PrecisionK_10      0.002425      4289\n",
       "                                      RecallK_10         0.017662      4289\n",
       "                         t=1532592000 PrecisionK_10      0.002093      2532\n",
       "                                      RecallK_10         0.016733      2532\n",
       "                         t=1535184000 PrecisionK_10      0.001697       884\n",
       "                                      RecallK_10         0.014140       884\n",
       "                         t=1537776000 PrecisionK_10      0.002273        44\n",
       "                                      RecallK_10         0.011364        44\n",
       "Popularity(K=10)         t=1530000000 PrecisionK_10      0.000933      4289\n",
       "                                      RecallK_10         0.007443      4289\n",
       "                         t=1532592000 PrecisionK_10      0.011137      2532\n",
       "                                      RecallK_10         0.085567      2532\n",
       "                         t=1535184000 PrecisionK_10      0.009615       884\n",
       "                                      RecallK_10         0.092572       884\n",
       "                         t=1537776000 PrecisionK_10      0.006818        44\n",
       "                                      RecallK_10         0.068182        44"
      ]
     },
     "execution_count": 6,
     "metadata": {},
     "output_type": "execute_result"
    }
   ],
   "source": [
    "evaluator.metric_results(level=\"window\")"
   ]
  },
  {
   "cell_type": "markdown",
   "metadata": {},
   "source": [
    "To run the pipeline without ignoring unknown items and users, set ignore_unknown_item\n",
    "and ignore_unknown_user to False. The default value for these parameters is True.\n",
    "\n",
    "Below we can see the results of the evaluation for the different algorithms. The evaluation\n",
    "results are shown for the micro and macro levels. Note that the number of users being\n",
    "evaluated on would be now more than the case where the unknown items and users are ignored.\n",
    "\n",
    "Note that there will be a need to load the dataset again as there would be modification\n",
    "of the data in the setting object when the evaluator is executed."
   ]
  },
  {
   "cell_type": "code",
   "execution_count": 7,
   "metadata": {},
   "outputs": [
    {
     "name": "stdout",
     "output_type": "stream",
     "text": [
      "\u001b[32mINFO    \u001b[0m - streamsight.datasets.base - \u001b[34mAmazonMovieDataset is loading dataset...\u001b[0m\n",
      "\u001b[32mINFO    \u001b[0m - streamsight.datasets.base - \u001b[34mAmazonMovieDataset dataset loaded - Took 12.5s\u001b[0m\n"
     ]
    },
    {
     "name": "stderr",
     "output_type": "stream",
     "text": [
      "4it [00:01,  3.80it/s]                       "
     ]
    },
    {
     "name": "stdout",
     "output_type": "stream",
     "text": [
      "\u001b[32mINFO    \u001b[0m - streamsight.settings.sliding_window_setting - \u001b[34mFinished split with window size 2592000 seconds. Number of splits: 4 in total.\u001b[0m\n",
      "\u001b[32mINFO    \u001b[0m - streamsight.evaluators.evaluator_pipeline - \u001b[34mPhase 1: Preparing the evaluator...\u001b[0m\n"
     ]
    },
    {
     "name": "stderr",
     "output_type": "stream",
     "text": [
      "\n",
      "  0%|          | 0/4 [00:00<?, ?it/s]"
     ]
    },
    {
     "name": "stdout",
     "output_type": "stream",
     "text": [
      "\u001b[32mINFO    \u001b[0m - streamsight.evaluators.evaluator_pipeline - \u001b[34mPhase 2: Evaluating the algorithms...\u001b[0m\n",
      "\u001b[32mINFO    \u001b[0m - streamsight.evaluators.evaluator_pipeline - \u001b[34mPhase 3: Releasing the data...\u001b[0m\n"
     ]
    },
    {
     "name": "stderr",
     "output_type": "stream",
     "text": [
      " 25%|██▌       | 1/4 [00:48<02:24, 48.31s/it]"
     ]
    },
    {
     "name": "stdout",
     "output_type": "stream",
     "text": [
      "\u001b[32mINFO    \u001b[0m - streamsight.evaluators.evaluator_pipeline - \u001b[34mPhase 2: Evaluating the algorithms...\u001b[0m\n",
      "\u001b[32mINFO    \u001b[0m - streamsight.evaluators.evaluator_pipeline - \u001b[34mPhase 3: Releasing the data...\u001b[0m\n"
     ]
    },
    {
     "name": "stderr",
     "output_type": "stream",
     "text": [
      " 50%|█████     | 2/4 [01:22<01:20, 40.08s/it]"
     ]
    },
    {
     "name": "stdout",
     "output_type": "stream",
     "text": [
      "\u001b[32mINFO    \u001b[0m - streamsight.evaluators.evaluator_pipeline - \u001b[34mPhase 2: Evaluating the algorithms...\u001b[0m\n",
      "\u001b[32mINFO    \u001b[0m - streamsight.evaluators.evaluator_pipeline - \u001b[34mPhase 3: Releasing the data...\u001b[0m\n"
     ]
    },
    {
     "name": "stderr",
     "output_type": "stream",
     "text": [
      " 75%|███████▌  | 3/4 [01:40<00:29, 29.90s/it]"
     ]
    },
    {
     "name": "stdout",
     "output_type": "stream",
     "text": [
      "\u001b[32mINFO    \u001b[0m - streamsight.evaluators.evaluator_pipeline - \u001b[34mPhase 2: Evaluating the algorithms...\u001b[0m\n",
      "\u001b[32mINFO    \u001b[0m - streamsight.evaluators.evaluator_pipeline - \u001b[34mPhase 3: Releasing the data...\u001b[0m\n"
     ]
    },
    {
     "name": "stderr",
     "output_type": "stream",
     "text": [
      "100%|██████████| 4/4 [01:52<00:00, 28.25s/it]\n"
     ]
    }
   ],
   "source": [
    "from streamsight.datasets import AmazonMovieDataset\n",
    "from streamsight.settings import SlidingWindowSetting\n",
    "\n",
    "dataset = AmazonMovieDataset(use_default_filters=False)\n",
    "data = dataset.load()\n",
    "setting_sliding = SlidingWindowSetting(\n",
    "    background_t=1530000000,\n",
    "    window_size=60 * 60 * 24 * 30, # day times N\n",
    "    n_seq_data=1,\n",
    "    top_K=k\n",
    ")\n",
    "setting_sliding.split(data)\n",
    "\n",
    "\n",
    "from streamsight.evaluators import EvaluatorPipelineBuilder\n",
    "\n",
    "builder = EvaluatorPipelineBuilder(ignore_unknown_user=False,\n",
    "                           ignore_unknown_item=False)\n",
    "builder.add_setting(setting_sliding)\n",
    "builder.set_metric_K(k)\n",
    "builder.add_algorithm(\"ItemKNNIncremental\", {\"K\": k})\n",
    "builder.add_algorithm(\"Popularity\", {\"K\": k})\n",
    "\n",
    "builder.add_metric(\"PrecisionK\")\n",
    "builder.add_metric(\"RecallK\")\n",
    "evaluator = builder.build()\n",
    "\n",
    "evaluator.run()"
   ]
  },
  {
   "cell_type": "code",
   "execution_count": 10,
   "metadata": {},
   "outputs": [
    {
     "name": "stdout",
     "output_type": "stream",
     "text": [
      "\u001b[33mWARNING \u001b[0m - py.warnings - \u001b[34m/Users/ngtzekean/Github/Streamsight/.venv/lib/python3.12/site-packages/numpy/core/_methods.py:49: RuntimeWarning: overflow encountered in scalar add\n",
      "  return umr_sum(a, axis, dtype, out, keepdims, initial, where)\n",
      "\u001b[0m\n"
     ]
    },
    {
     "data": {
      "text/html": [
       "<div>\n",
       "<style scoped>\n",
       "    .dataframe tbody tr th:only-of-type {\n",
       "        vertical-align: middle;\n",
       "    }\n",
       "\n",
       "    .dataframe tbody tr th {\n",
       "        vertical-align: top;\n",
       "    }\n",
       "\n",
       "    .dataframe thead th {\n",
       "        text-align: right;\n",
       "    }\n",
       "</style>\n",
       "<table border=\"1\" class=\"dataframe\">\n",
       "  <thead>\n",
       "    <tr style=\"text-align: right;\">\n",
       "      <th></th>\n",
       "      <th></th>\n",
       "      <th>micro_score</th>\n",
       "      <th>num_user</th>\n",
       "    </tr>\n",
       "    <tr>\n",
       "      <th>Algorithm</th>\n",
       "      <th>Metric</th>\n",
       "      <th></th>\n",
       "      <th></th>\n",
       "    </tr>\n",
       "  </thead>\n",
       "  <tbody>\n",
       "    <tr>\n",
       "      <th rowspan=\"2\" valign=\"top\">ItemKNNIncremental(K=10)</th>\n",
       "      <th>PrecisionK_10</th>\n",
       "      <td>0.00103</td>\n",
       "      <td>16794</td>\n",
       "    </tr>\n",
       "    <tr>\n",
       "      <th>RecallK_10</th>\n",
       "      <td>0.007778</td>\n",
       "      <td>16794</td>\n",
       "    </tr>\n",
       "    <tr>\n",
       "      <th rowspan=\"2\" valign=\"top\">Popularity(K=10)</th>\n",
       "      <th>PrecisionK_10</th>\n",
       "      <td>0.006389</td>\n",
       "      <td>16794</td>\n",
       "    </tr>\n",
       "    <tr>\n",
       "      <th>RecallK_10</th>\n",
       "      <td>0.054041</td>\n",
       "      <td>16794</td>\n",
       "    </tr>\n",
       "  </tbody>\n",
       "</table>\n",
       "</div>"
      ],
      "text/plain": [
       "                                       micro_score  num_user\n",
       "Algorithm                Metric                             \n",
       "ItemKNNIncremental(K=10) PrecisionK_10     0.00103     16794\n",
       "                         RecallK_10       0.007778     16794\n",
       "Popularity(K=10)         PrecisionK_10    0.006389     16794\n",
       "                         RecallK_10       0.054041     16794"
      ]
     },
     "execution_count": 10,
     "metadata": {},
     "output_type": "execute_result"
    }
   ],
   "source": [
    "evaluator.metric_results(level=\"micro\")"
   ]
  },
  {
   "cell_type": "code",
   "execution_count": 9,
   "metadata": {},
   "outputs": [
    {
     "data": {
      "text/html": [
       "<div>\n",
       "<style scoped>\n",
       "    .dataframe tbody tr th:only-of-type {\n",
       "        vertical-align: middle;\n",
       "    }\n",
       "\n",
       "    .dataframe tbody tr th {\n",
       "        vertical-align: top;\n",
       "    }\n",
       "\n",
       "    .dataframe thead th {\n",
       "        text-align: right;\n",
       "    }\n",
       "</style>\n",
       "<table border=\"1\" class=\"dataframe\">\n",
       "  <thead>\n",
       "    <tr style=\"text-align: right;\">\n",
       "      <th></th>\n",
       "      <th></th>\n",
       "      <th>macro_score</th>\n",
       "      <th>num_window</th>\n",
       "    </tr>\n",
       "    <tr>\n",
       "      <th>Algorithm</th>\n",
       "      <th>Metric</th>\n",
       "      <th></th>\n",
       "      <th></th>\n",
       "    </tr>\n",
       "  </thead>\n",
       "  <tbody>\n",
       "    <tr>\n",
       "      <th rowspan=\"2\" valign=\"top\">ItemKNNIncremental(K=10)</th>\n",
       "      <th>PrecisionK_10</th>\n",
       "      <td>0.000930</td>\n",
       "      <td>4</td>\n",
       "    </tr>\n",
       "    <tr>\n",
       "      <th>RecallK_10</th>\n",
       "      <td>0.006662</td>\n",
       "      <td>4</td>\n",
       "    </tr>\n",
       "    <tr>\n",
       "      <th rowspan=\"2\" valign=\"top\">Popularity(K=10)</th>\n",
       "      <th>PrecisionK_10</th>\n",
       "      <td>0.008440</td>\n",
       "      <td>4</td>\n",
       "    </tr>\n",
       "    <tr>\n",
       "      <th>RecallK_10</th>\n",
       "      <td>0.076742</td>\n",
       "      <td>4</td>\n",
       "    </tr>\n",
       "  </tbody>\n",
       "</table>\n",
       "</div>"
      ],
      "text/plain": [
       "                                        macro_score  num_window\n",
       "Algorithm                Metric                                \n",
       "ItemKNNIncremental(K=10) PrecisionK_10     0.000930           4\n",
       "                         RecallK_10        0.006662           4\n",
       "Popularity(K=10)         PrecisionK_10     0.008440           4\n",
       "                         RecallK_10        0.076742           4"
      ]
     },
     "execution_count": 9,
     "metadata": {},
     "output_type": "execute_result"
    }
   ],
   "source": [
    "evaluator.metric_results(level=\"macro\")"
   ]
  }
 ],
 "metadata": {
  "kernelspec": {
   "display_name": ".venv",
   "language": "python",
   "name": "python3"
  },
  "language_info": {
   "codemirror_mode": {
    "name": "ipython",
    "version": 3
   },
   "file_extension": ".py",
   "mimetype": "text/x-python",
   "name": "python",
   "nbconvert_exporter": "python",
   "pygments_lexer": "ipython3",
   "version": "3.12.5"
  }
 },
 "nbformat": 4,
 "nbformat_minor": 2
}
